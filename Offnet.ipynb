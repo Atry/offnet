{
 "cells": [
  {
   "cell_type": "code",
   "execution_count": 1,
   "metadata": {},
   "outputs": [],
   "source": [
    "%load_ext autoreload"
   ]
  },
  {
   "cell_type": "code",
   "execution_count": 3,
   "metadata": {},
   "outputs": [
    {
     "name": "stdout",
     "output_type": "stream",
     "text": [
      "Files already downloaded and verified\n",
      "Files already downloaded and verified\n"
     ]
    }
   ],
   "source": [
    "%aimport data"
   ]
  },
  {
   "cell_type": "code",
   "execution_count": 4,
   "metadata": {},
   "outputs": [],
   "source": [
    "import skorch"
   ]
  },
  {
   "cell_type": "code",
   "execution_count": 5,
   "metadata": {},
   "outputs": [],
   "source": [
    "import numpy as np"
   ]
  },
  {
   "cell_type": "code",
   "execution_count": 6,
   "metadata": {},
   "outputs": [
    {
     "name": "stderr",
     "output_type": "stream",
     "text": [
      "Using TensorFlow backend.\n"
     ]
    }
   ],
   "source": [
    "import keras"
   ]
  },
  {
   "cell_type": "code",
   "execution_count": 7,
   "metadata": {},
   "outputs": [],
   "source": [
    "import torch"
   ]
  },
  {
   "cell_type": "code",
   "execution_count": 8,
   "metadata": {},
   "outputs": [],
   "source": [
    "dataset = \"fashion-mnist\""
   ]
  },
  {
   "cell_type": "code",
   "execution_count": 9,
   "metadata": {},
   "outputs": [],
   "source": [
    "dataset_config = {\n",
    "    'size': 32,\n",
    "    'channels': 1,\n",
    "    'classes': 10\n",
    "}"
   ]
  },
  {
   "cell_type": "code",
   "execution_count": 10,
   "metadata": {},
   "outputs": [
    {
     "data": {
      "text/plain": [
       "<class 'skorch.net.NeuralNetClassifier'>[initialized](\n",
       "  module_=WideResNet(\n",
       "    (sequential): Sequential(\n",
       "      (0): Conv2d(1, 16, kernel_size=(3, 3), stride=(1, 1), padding=(1, 1), bias=False)\n",
       "      (1): ResidualBlockGroup(\n",
       "        (sequential): Sequential(\n",
       "          (0): ResidualBlock(\n",
       "            (bn1): BatchNorm2d(16, eps=1e-05, momentum=0.1, affine=True, track_running_stats=True)\n",
       "            (relu1): ReLU(inplace)\n",
       "            (conv1): FakeConv(\n",
       "              (expand): OffConv2d(\n",
       "                (score): Conv2d(16, 720, kernel_size=(1, 1), stride=(1, 1), bias=False)\n",
       "                (offset_x): Conv2d(16, 720, kernel_size=(1, 1), stride=(1, 1))\n",
       "                (offset_y): Conv2d(16, 720, kernel_size=(1, 1), stride=(1, 1))\n",
       "              )\n",
       "              (bottleneck): OffConv2d(\n",
       "                (score): Conv2d(720, 80, kernel_size=(1, 1), stride=(1, 1), bias=False)\n",
       "                (offset_x): Conv2d(720, 80, kernel_size=(1, 1), stride=(1, 1))\n",
       "                (offset_y): Conv2d(720, 80, kernel_size=(1, 1), stride=(1, 1))\n",
       "              )\n",
       "            )\n",
       "            (bn2): BatchNorm2d(80, eps=1e-05, momentum=0.1, affine=True, track_running_stats=True)\n",
       "            (relu2): ReLU(inplace)\n",
       "            (conv2): FakeConv(\n",
       "              (expand): OffConv2d(\n",
       "                (score): Conv2d(80, 720, kernel_size=(1, 1), stride=(1, 1), bias=False)\n",
       "                (offset_x): Conv2d(80, 720, kernel_size=(1, 1), stride=(1, 1))\n",
       "                (offset_y): Conv2d(80, 720, kernel_size=(1, 1), stride=(1, 1))\n",
       "              )\n",
       "              (bottleneck): OffConv2d(\n",
       "                (score): Conv2d(720, 80, kernel_size=(1, 1), stride=(1, 1), bias=False)\n",
       "                (offset_x): Conv2d(720, 80, kernel_size=(1, 1), stride=(1, 1))\n",
       "                (offset_y): Conv2d(720, 80, kernel_size=(1, 1), stride=(1, 1))\n",
       "              )\n",
       "            )\n",
       "            (conv_transform): Conv2d(16, 80, kernel_size=(1, 1), stride=(1, 1), bias=False)\n",
       "          )\n",
       "          (1): ResidualBlock(\n",
       "            (bn1): BatchNorm2d(80, eps=1e-05, momentum=0.1, affine=True, track_running_stats=True)\n",
       "            (relu1): ReLU(inplace)\n",
       "            (conv1): FakeConv(\n",
       "              (expand): OffConv2d(\n",
       "                (score): Conv2d(80, 720, kernel_size=(1, 1), stride=(1, 1), bias=False)\n",
       "                (offset_x): Conv2d(80, 720, kernel_size=(1, 1), stride=(1, 1))\n",
       "                (offset_y): Conv2d(80, 720, kernel_size=(1, 1), stride=(1, 1))\n",
       "              )\n",
       "              (bottleneck): OffConv2d(\n",
       "                (score): Conv2d(720, 80, kernel_size=(1, 1), stride=(1, 1), bias=False)\n",
       "                (offset_x): Conv2d(720, 80, kernel_size=(1, 1), stride=(1, 1))\n",
       "                (offset_y): Conv2d(720, 80, kernel_size=(1, 1), stride=(1, 1))\n",
       "              )\n",
       "            )\n",
       "            (bn2): BatchNorm2d(80, eps=1e-05, momentum=0.1, affine=True, track_running_stats=True)\n",
       "            (relu2): ReLU(inplace)\n",
       "            (conv2): FakeConv(\n",
       "              (expand): OffConv2d(\n",
       "                (score): Conv2d(80, 720, kernel_size=(1, 1), stride=(1, 1), bias=False)\n",
       "                (offset_x): Conv2d(80, 720, kernel_size=(1, 1), stride=(1, 1))\n",
       "                (offset_y): Conv2d(80, 720, kernel_size=(1, 1), stride=(1, 1))\n",
       "              )\n",
       "              (bottleneck): OffConv2d(\n",
       "                (score): Conv2d(720, 80, kernel_size=(1, 1), stride=(1, 1), bias=False)\n",
       "                (offset_x): Conv2d(720, 80, kernel_size=(1, 1), stride=(1, 1))\n",
       "                (offset_y): Conv2d(720, 80, kernel_size=(1, 1), stride=(1, 1))\n",
       "              )\n",
       "            )\n",
       "          )\n",
       "        )\n",
       "      )\n",
       "      (2): ResidualBlockGroup(\n",
       "        (sequential): Sequential(\n",
       "          (0): ResidualBlock(\n",
       "            (bn1): BatchNorm2d(80, eps=1e-05, momentum=0.1, affine=True, track_running_stats=True)\n",
       "            (relu1): ReLU(inplace)\n",
       "            (conv1): FakeConv(\n",
       "              (expand): OffConv2d(\n",
       "                (score): Conv2d(80, 1440, kernel_size=(1, 1), stride=(2, 2), bias=False)\n",
       "                (offset_x): Conv2d(80, 1440, kernel_size=(1, 1), stride=(2, 2))\n",
       "                (offset_y): Conv2d(80, 1440, kernel_size=(1, 1), stride=(2, 2))\n",
       "              )\n",
       "              (bottleneck): OffConv2d(\n",
       "                (score): Conv2d(1440, 160, kernel_size=(1, 1), stride=(1, 1), bias=False)\n",
       "                (offset_x): Conv2d(1440, 160, kernel_size=(1, 1), stride=(1, 1))\n",
       "                (offset_y): Conv2d(1440, 160, kernel_size=(1, 1), stride=(1, 1))\n",
       "              )\n",
       "            )\n",
       "            (bn2): BatchNorm2d(160, eps=1e-05, momentum=0.1, affine=True, track_running_stats=True)\n",
       "            (relu2): ReLU(inplace)\n",
       "            (conv2): FakeConv(\n",
       "              (expand): OffConv2d(\n",
       "                (score): Conv2d(160, 1440, kernel_size=(1, 1), stride=(1, 1), bias=False)\n",
       "                (offset_x): Conv2d(160, 1440, kernel_size=(1, 1), stride=(1, 1))\n",
       "                (offset_y): Conv2d(160, 1440, kernel_size=(1, 1), stride=(1, 1))\n",
       "              )\n",
       "              (bottleneck): OffConv2d(\n",
       "                (score): Conv2d(1440, 160, kernel_size=(1, 1), stride=(1, 1), bias=False)\n",
       "                (offset_x): Conv2d(1440, 160, kernel_size=(1, 1), stride=(1, 1))\n",
       "                (offset_y): Conv2d(1440, 160, kernel_size=(1, 1), stride=(1, 1))\n",
       "              )\n",
       "            )\n",
       "            (conv_transform): Conv2d(80, 160, kernel_size=(1, 1), stride=(2, 2), bias=False)\n",
       "          )\n",
       "          (1): ResidualBlock(\n",
       "            (bn1): BatchNorm2d(160, eps=1e-05, momentum=0.1, affine=True, track_running_stats=True)\n",
       "            (relu1): ReLU(inplace)\n",
       "            (conv1): FakeConv(\n",
       "              (expand): OffConv2d(\n",
       "                (score): Conv2d(160, 1440, kernel_size=(1, 1), stride=(1, 1), bias=False)\n",
       "                (offset_x): Conv2d(160, 1440, kernel_size=(1, 1), stride=(1, 1))\n",
       "                (offset_y): Conv2d(160, 1440, kernel_size=(1, 1), stride=(1, 1))\n",
       "              )\n",
       "              (bottleneck): OffConv2d(\n",
       "                (score): Conv2d(1440, 160, kernel_size=(1, 1), stride=(1, 1), bias=False)\n",
       "                (offset_x): Conv2d(1440, 160, kernel_size=(1, 1), stride=(1, 1))\n",
       "                (offset_y): Conv2d(1440, 160, kernel_size=(1, 1), stride=(1, 1))\n",
       "              )\n",
       "            )\n",
       "            (bn2): BatchNorm2d(160, eps=1e-05, momentum=0.1, affine=True, track_running_stats=True)\n",
       "            (relu2): ReLU(inplace)\n",
       "            (conv2): FakeConv(\n",
       "              (expand): OffConv2d(\n",
       "                (score): Conv2d(160, 1440, kernel_size=(1, 1), stride=(1, 1), bias=False)\n",
       "                (offset_x): Conv2d(160, 1440, kernel_size=(1, 1), stride=(1, 1))\n",
       "                (offset_y): Conv2d(160, 1440, kernel_size=(1, 1), stride=(1, 1))\n",
       "              )\n",
       "              (bottleneck): OffConv2d(\n",
       "                (score): Conv2d(1440, 160, kernel_size=(1, 1), stride=(1, 1), bias=False)\n",
       "                (offset_x): Conv2d(1440, 160, kernel_size=(1, 1), stride=(1, 1))\n",
       "                (offset_y): Conv2d(1440, 160, kernel_size=(1, 1), stride=(1, 1))\n",
       "              )\n",
       "            )\n",
       "          )\n",
       "        )\n",
       "      )\n",
       "      (3): ResidualBlockGroup(\n",
       "        (sequential): Sequential(\n",
       "          (0): ResidualBlock(\n",
       "            (bn1): BatchNorm2d(160, eps=1e-05, momentum=0.1, affine=True, track_running_stats=True)\n",
       "            (relu1): ReLU(inplace)\n",
       "            (conv1): FakeConv(\n",
       "              (expand): OffConv2d(\n",
       "                (score): Conv2d(160, 2880, kernel_size=(1, 1), stride=(2, 2), bias=False)\n",
       "                (offset_x): Conv2d(160, 2880, kernel_size=(1, 1), stride=(2, 2))\n",
       "                (offset_y): Conv2d(160, 2880, kernel_size=(1, 1), stride=(2, 2))\n",
       "              )\n",
       "              (bottleneck): OffConv2d(\n",
       "                (score): Conv2d(2880, 320, kernel_size=(1, 1), stride=(1, 1), bias=False)\n",
       "                (offset_x): Conv2d(2880, 320, kernel_size=(1, 1), stride=(1, 1))\n",
       "                (offset_y): Conv2d(2880, 320, kernel_size=(1, 1), stride=(1, 1))\n",
       "              )\n",
       "            )\n",
       "            (bn2): BatchNorm2d(320, eps=1e-05, momentum=0.1, affine=True, track_running_stats=True)\n",
       "            (relu2): ReLU(inplace)\n",
       "            (conv2): FakeConv(\n",
       "              (expand): OffConv2d(\n",
       "                (score): Conv2d(320, 2880, kernel_size=(1, 1), stride=(1, 1), bias=False)\n",
       "                (offset_x): Conv2d(320, 2880, kernel_size=(1, 1), stride=(1, 1))\n",
       "                (offset_y): Conv2d(320, 2880, kernel_size=(1, 1), stride=(1, 1))\n",
       "              )\n",
       "              (bottleneck): OffConv2d(\n",
       "                (score): Conv2d(2880, 320, kernel_size=(1, 1), stride=(1, 1), bias=False)\n",
       "                (offset_x): Conv2d(2880, 320, kernel_size=(1, 1), stride=(1, 1))\n",
       "                (offset_y): Conv2d(2880, 320, kernel_size=(1, 1), stride=(1, 1))\n",
       "              )\n",
       "            )\n",
       "            (conv_transform): Conv2d(160, 320, kernel_size=(1, 1), stride=(2, 2), bias=False)\n",
       "          )\n",
       "          (1): ResidualBlock(\n",
       "            (bn1): BatchNorm2d(320, eps=1e-05, momentum=0.1, affine=True, track_running_stats=True)\n",
       "            (relu1): ReLU(inplace)\n",
       "            (conv1): FakeConv(\n",
       "              (expand): OffConv2d(\n",
       "                (score): Conv2d(320, 2880, kernel_size=(1, 1), stride=(1, 1), bias=False)\n",
       "                (offset_x): Conv2d(320, 2880, kernel_size=(1, 1), stride=(1, 1))\n",
       "                (offset_y): Conv2d(320, 2880, kernel_size=(1, 1), stride=(1, 1))\n",
       "              )\n",
       "              (bottleneck): OffConv2d(\n",
       "                (score): Conv2d(2880, 320, kernel_size=(1, 1), stride=(1, 1), bias=False)\n",
       "                (offset_x): Conv2d(2880, 320, kernel_size=(1, 1), stride=(1, 1))\n",
       "                (offset_y): Conv2d(2880, 320, kernel_size=(1, 1), stride=(1, 1))\n",
       "              )\n",
       "            )\n",
       "            (bn2): BatchNorm2d(320, eps=1e-05, momentum=0.1, affine=True, track_running_stats=True)\n",
       "            (relu2): ReLU(inplace)\n",
       "            (conv2): FakeConv(\n",
       "              (expand): OffConv2d(\n",
       "                (score): Conv2d(320, 2880, kernel_size=(1, 1), stride=(1, 1), bias=False)\n",
       "                (offset_x): Conv2d(320, 2880, kernel_size=(1, 1), stride=(1, 1))\n",
       "                (offset_y): Conv2d(320, 2880, kernel_size=(1, 1), stride=(1, 1))\n",
       "              )\n",
       "              (bottleneck): OffConv2d(\n",
       "                (score): Conv2d(2880, 320, kernel_size=(1, 1), stride=(1, 1), bias=False)\n",
       "                (offset_x): Conv2d(2880, 320, kernel_size=(1, 1), stride=(1, 1))\n",
       "                (offset_y): Conv2d(2880, 320, kernel_size=(1, 1), stride=(1, 1))\n",
       "              )\n",
       "            )\n",
       "          )\n",
       "        )\n",
       "      )\n",
       "      (4): AvgPool2d(kernel_size=8, stride=8, padding=0)\n",
       "      (5): BatchNorm2d(320, eps=1e-05, momentum=0.1, affine=True, track_running_stats=True)\n",
       "      (6): ReLU(inplace)\n",
       "      (7): LambdaModule()\n",
       "      (8): Linear(in_features=320, out_features=10, bias=True)\n",
       "      (9): LambdaModule()\n",
       "    )\n",
       "  ),\n",
       ")"
      ]
     },
     "execution_count": 10,
     "metadata": {},
     "output_type": "execute_result"
    }
   ],
   "source": [
    "net = skorch.net.NeuralNetClassifier(\n",
    "    module=model.Offnet(\n",
    "        dataset,\n",
    "        dataset_config['size'],\n",
    "        dataset_config['channels'],\n",
    "        dataset_config['classes'],\n",
    "        total_block_number=6,\n",
    "        widen_factor=5,\n",
    "    ),\n",
    "    batch_size=32,\n",
    "    max_epochs=10,\n",
    "    optimizer=torch.optim.Adam,\n",
    "    callbacks=[\n",
    "        ('checkpoint', skorch.callbacks.Checkpoint(target=\"models/fakewrn{last_epoch[epoch]}.pt\", monitor=None))\n",
    "    ],\n",
    "    device='cuda',\n",
    "    train_split=None, # Workaround for https://github.com/dnouri/skorch/issues/218\n",
    "    lr=1e-04,\n",
    ")\n",
    "net.initialize()"
   ]
  },
  {
   "cell_type": "code",
   "execution_count": 11,
   "metadata": {},
   "outputs": [],
   "source": [
    "def process(images):\n",
    "    pad_images = np.pad(images, ((0, 0), (2, 2), (2, 2)), 'constant')\n",
    "    number_of_images, height, width = pad_images.shape\n",
    "    return pad_images.reshape(number_of_images, 1, height, width).astype(np.float32)  / 255.0"
   ]
  },
  {
   "cell_type": "code",
   "execution_count": null,
   "metadata": {},
   "outputs": [],
   "source": []
  },
  {
   "cell_type": "code",
   "execution_count": 12,
   "metadata": {},
   "outputs": [],
   "source": [
    "(x_train_bytes, y_train_bytes), (x_test_bytes, y_test_bytes) = keras.datasets.fashion_mnist.load_data()\n",
    "x_train = process(x_train_bytes)\n",
    "x_test = process(x_test_bytes)\n",
    "y_train = y_train_bytes.astype(np.int64)\n",
    "y_test = y_test_bytes.astype(np.int64)"
   ]
  },
  {
   "cell_type": "code",
   "execution_count": null,
   "metadata": {},
   "outputs": [
    {
     "name": "stdout",
     "output_type": "stream",
     "text": [
      "Checkpoint! Saving model to models/fakewrn1.pt.\n",
      "  epoch    train_loss       dur\n",
      "-------  ------------  --------\n",
      "      1        \u001b[36m0.6599\u001b[0m  487.1975\n",
      "Checkpoint! Saving model to models/fakewrn3.pt.\n",
      "      3        \u001b[36m0.3615\u001b[0m  484.9360\n",
      "Checkpoint! Saving model to models/fakewrn4.pt.\n",
      "      4        \u001b[36m0.3176\u001b[0m  485.7789\n",
      "Checkpoint! Saving model to models/fakewrn5.pt.\n",
      "      5        \u001b[36m0.2841\u001b[0m  484.7368\n",
      "Checkpoint! Saving model to models/fakewrn6.pt.\n",
      "      6        \u001b[36m0.2480\u001b[0m  483.9877\n",
      "Checkpoint! Saving model to models/fakewrn7.pt.\n",
      "      7        \u001b[36m0.2171\u001b[0m  482.9607\n"
     ]
    }
   ],
   "source": [
    "net.fit_loop(x_train, y_train)"
   ]
  },
  {
   "cell_type": "code",
   "execution_count": null,
   "metadata": {},
   "outputs": [],
   "source": [
    "prediction_test = net.predict(x_test)"
   ]
  },
  {
   "cell_type": "code",
   "execution_count": null,
   "metadata": {},
   "outputs": [],
   "source": [
    "(prediction_test == y_test).mean()"
   ]
  },
  {
   "cell_type": "code",
   "execution_count": null,
   "metadata": {},
   "outputs": [],
   "source": []
  }
 ],
 "metadata": {
  "kernelspec": {
   "display_name": "Python 3",
   "language": "python",
   "name": "python3"
  },
  "language_info": {
   "codemirror_mode": {
    "name": "ipython",
    "version": 3
   },
   "file_extension": ".py",
   "mimetype": "text/x-python",
   "name": "python",
   "nbconvert_exporter": "python",
   "pygments_lexer": "ipython3",
   "version": "3.6.5"
  }
 },
 "nbformat": 4,
 "nbformat_minor": 2
}
