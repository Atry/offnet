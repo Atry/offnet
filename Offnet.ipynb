{
 "cells": [
  {
   "cell_type": "code",
   "execution_count": 1,
   "metadata": {},
   "outputs": [],
   "source": [
    "%load_ext autoreload"
   ]
  },
  {
   "cell_type": "code",
   "execution_count": 2,
   "metadata": {},
   "outputs": [],
   "source": [
    "%autoreload 1"
   ]
  },
  {
   "cell_type": "code",
   "execution_count": 3,
   "metadata": {},
   "outputs": [],
   "source": [
    "%aimport model"
   ]
  },
  {
   "cell_type": "code",
   "execution_count": 4,
   "metadata": {},
   "outputs": [],
   "source": [
    "import skorch"
   ]
  },
  {
   "cell_type": "code",
   "execution_count": 5,
   "metadata": {},
   "outputs": [],
   "source": [
    "import numpy as np"
   ]
  },
  {
   "cell_type": "code",
   "execution_count": null,
   "metadata": {},
   "outputs": [
    {
     "name": "stderr",
     "output_type": "stream",
     "text": [
      "Using TensorFlow backend.\n"
     ]
    }
   ],
   "source": [
    "import keras"
   ]
  },
  {
   "cell_type": "code",
   "execution_count": null,
   "metadata": {},
   "outputs": [],
   "source": [
    "import torch"
   ]
  },
  {
   "cell_type": "code",
   "execution_count": null,
   "metadata": {},
   "outputs": [],
   "source": [
    "dataset = \"fashion-mnist\""
   ]
  },
  {
   "cell_type": "code",
   "execution_count": null,
   "metadata": {},
   "outputs": [],
   "source": [
    "dataset_config = {\n",
    "    'size': 32,\n",
    "    'channels': 1,\n",
    "    'classes': 10\n",
    "}"
   ]
  },
  {
   "cell_type": "code",
   "execution_count": null,
   "metadata": {},
   "outputs": [],
   "source": [
    "model.Offnet(\n",
    "    dataset,\n",
    "    dataset_config['size'],\n",
    "    dataset_config['channels'],\n",
    "    dataset_config['classes'],\n",
    "    total_block_number=6,\n",
    "    widen_factor=5,\n",
    ")"
   ]
  },
  {
   "cell_type": "code",
   "execution_count": null,
   "metadata": {},
   "outputs": [],
   "source": [
    "net = skorch.net.NeuralNetClassifier(\n",
    "    module=model.Offnet(\n",
    "        dataset,\n",
    "        dataset_config['size'],\n",
    "        dataset_config['channels'],\n",
    "        dataset_config['classes'],\n",
    "        total_block_number=6,\n",
    "        widen_factor=5,\n",
    "    ),\n",
    "    criterion=torch.nn.CrossEntropyLoss,\n",
    "    batch_size=32,\n",
    "    max_epochs=30,\n",
    "    optimizer=torch.optim.Adam,\n",
    "    callbacks=[\n",
    "        ('checkpoint', skorch.callbacks.Checkpoint(target=\"models/untrainable_wrn{last_epoch[epoch]}.pt\", monitor=None))\n",
    "    ],\n",
    "    device='cuda',\n",
    "    train_split=None, # Workaround for https://github.com/dnouri/skorch/issues/218\n",
    "    lr=1e-04,\n",
    ")\n",
    "net.initialize()"
   ]
  },
  {
   "cell_type": "code",
   "execution_count": null,
   "metadata": {},
   "outputs": [],
   "source": [
    "def process(images):\n",
    "    pad_images = np.pad(images, ((0, 0), (2, 2), (2, 2)), 'constant')\n",
    "    number_of_images, height, width = pad_images.shape\n",
    "    return pad_images.reshape(number_of_images, 1, height, width).astype(np.float32)  / 255.0"
   ]
  },
  {
   "cell_type": "code",
   "execution_count": null,
   "metadata": {},
   "outputs": [],
   "source": []
  },
  {
   "cell_type": "code",
   "execution_count": null,
   "metadata": {},
   "outputs": [],
   "source": [
    "(x_train_bytes, y_train_bytes), (x_test_bytes, y_test_bytes) = keras.datasets.fashion_mnist.load_data()\n",
    "x_train = process(x_train_bytes)\n",
    "x_test = process(x_test_bytes)\n",
    "y_train = y_train_bytes.astype(np.int64)\n",
    "y_test = y_test_bytes.astype(np.int64)"
   ]
  },
  {
   "cell_type": "code",
   "execution_count": null,
   "metadata": {},
   "outputs": [],
   "source": [
    "net.fit_loop(x_train, y_train)"
   ]
  },
  {
   "cell_type": "code",
   "execution_count": null,
   "metadata": {},
   "outputs": [],
   "source": [
    "prediction_test = net.predict(x_test)"
   ]
  },
  {
   "cell_type": "code",
   "execution_count": null,
   "metadata": {},
   "outputs": [],
   "source": [
    "(prediction_test == y_test).mean()"
   ]
  }
 ],
 "metadata": {
  "kernelspec": {
   "display_name": "Python 3",
   "language": "python",
   "name": "python3"
  },
  "language_info": {
   "codemirror_mode": {
    "name": "ipython",
    "version": 3
   },
   "file_extension": ".py",
   "mimetype": "text/x-python",
   "name": "python",
   "nbconvert_exporter": "python",
   "pygments_lexer": "ipython3",
   "version": "3.6.5"
  }
 },
 "nbformat": 4,
 "nbformat_minor": 2
}
