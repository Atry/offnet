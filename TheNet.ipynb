{
 "cells": [
  {
   "cell_type": "markdown",
   "metadata": {},
   "source": [
    "## Imports"
   ]
  },
  {
   "cell_type": "code",
   "execution_count": 1,
   "metadata": {},
   "outputs": [
    {
     "data": {
      "text/plain": [
       "\u001b[32mimport \u001b[39m\u001b[36m$ivy.$                      \n",
       "\u001b[39m\n",
       "\u001b[32mimport \u001b[39m\u001b[36m$ivy.$                                  \n",
       "\u001b[39m\n",
       "\u001b[32mimport \u001b[39m\u001b[36m$ivy.$                                       \n",
       "\u001b[39m\n",
       "\u001b[32mimport \u001b[39m\u001b[36m$ivy.$                              \n",
       "\u001b[39m\n",
       "\u001b[32mimport \u001b[39m\u001b[36m$ivy.$                                                       \n",
       "\u001b[39m\n",
       "\u001b[32mimport \u001b[39m\u001b[36m$ivy.$                          \u001b[39m"
      ]
     },
     "execution_count": 1,
     "metadata": {},
     "output_type": "execute_result"
    }
   ],
   "source": [
    "import $ivy.`org.lwjgl:lwjgl:3.1.2`\n",
    "import $ivy.`com.thoughtworks.each::each:3.3.1`\n",
    "import $ivy.`com.thoughtworks.compute::opencl:0.1.0`\n",
    "import $ivy.`com.dongxiguo::fastring:0.3.1`\n",
    "import $ivy.`com.thoughtworks.raii::asynchronoussemaphore:2.1.0-RC0`\n",
    "import $ivy.`eu.timepit::refined:0.8.2`"
   ]
  },
  {
   "cell_type": "code",
   "execution_count": 2,
   "metadata": {
    "scrolled": true
   },
   "outputs": [
    {
     "data": {
      "text/plain": [
       "\u001b[32mimport \u001b[39m\u001b[36mammonite.ops._\n",
       "\u001b[39m\n",
       "\u001b[32mimport \u001b[39m\u001b[36mjava.io._\n",
       "\u001b[39m\n",
       "\u001b[32mimport \u001b[39m\u001b[36mjava.nio.channels._\n",
       "\u001b[39m\n",
       "\u001b[32mimport \u001b[39m\u001b[36mjava.nio.file.StandardOpenOption\u001b[39m"
      ]
     },
     "execution_count": 2,
     "metadata": {},
     "output_type": "execute_result"
    }
   ],
   "source": [
    "import ammonite.ops._\n",
    "import java.io._\n",
    "import java.nio.channels._\n",
    "import java.nio.file.StandardOpenOption"
   ]
  },
  {
   "cell_type": "code",
   "execution_count": 3,
   "metadata": {},
   "outputs": [
    {
     "data": {
      "text/plain": [
       "\u001b[36mLwjglRuntimeUrl\u001b[39m: \u001b[32mjava\u001b[39m.\u001b[32mnet\u001b[39m.\u001b[32mURL\u001b[39m = https://repo1.maven.org/maven2/org/lwjgl/lwjgl/3.1.2/lwjgl-3.1.2-natives-linux.jar"
      ]
     },
     "execution_count": 3,
     "metadata": {},
     "output_type": "execute_result"
    }
   ],
   "source": [
    "val LwjglRuntimeUrl = {\n",
    "    import java.net._\n",
    "    val lwjglClassifier = if (util.Properties.isMac) {\n",
    "        \"natives-macos\"\n",
    "    } else if (util.Properties.osName.startsWith(\"Linux\")) {\n",
    "        \"natives-linux\"\n",
    "    } else if (util.Properties.isWin) {\n",
    "        \"natives-windows\"\n",
    "    } else {\n",
    "        throw new Exception(s\"lwjgl does not support ${util.Properties.osName}\")\n",
    "    }\n",
    "    new URL(s\"https://repo1.maven.org/maven2/org/lwjgl/lwjgl/3.1.2/lwjgl-3.1.2-$lwjglClassifier.jar\")\n",
    "}"
   ]
  },
  {
   "cell_type": "code",
   "execution_count": 4,
   "metadata": {
    "collapsed": true
   },
   "outputs": [],
   "source": [
    "// Workaround for https://github.com/jupyter-scala/jupyter-scala/issues/128\n",
    "interp.load.cp {\n",
    "    val temporaryJar = tmp()\n",
    "    val httpStream = LwjglRuntimeUrl.openStream()\n",
    "    try {\n",
    "        val httpChannel = Channels.newChannel(httpStream)\n",
    "        try {\n",
    "            val fileChannel = FileChannel.open(temporaryJar.toNIO, StandardOpenOption.WRITE)\n",
    "            try {\n",
    "                fileChannel.transferFrom(httpChannel, 0, Long.MaxValue)\n",
    "            } finally {\n",
    "                fileChannel.close()\n",
    "            }\n",
    "        } finally {\n",
    "            httpChannel.close()\n",
    "        }\n",
    "    } finally {\n",
    "        httpStream.close()\n",
    "    }\n",
    "    temporaryJar\n",
    "}"
   ]
  },
  {
   "cell_type": "code",
   "execution_count": 4,
   "metadata": {
    "collapsed": true
   },
   "outputs": [],
   "source": [
    "// import $ivy.`com.thoughtworks.compute::opencl:0.1.0`\n",
    "// import $ivy.`com.thoughtworks.raii::asynchronoussemaphore:2.1.0-RC0`\n",
    "\n",
    "// interp.load.cp(Seq(\n",
    "// ammonite.ops.pwd/ammonite.ops.RelPath(\"target/scala-2.12/classes\"),\n",
    "// ammonite.ops.pwd/ammonite.ops.RelPath(\"RAII.scala/AsynchronousSemaphore/.jvm/target/scala-2.12/classes\"),\n",
    "// ammonite.ops.pwd/ammonite.ops.RelPath(\"RAII.scala/asynchronous/.jvm/target/scala-2.12/classes\"),\n",
    "// ammonite.ops.pwd/ammonite.ops.RelPath(\"RAII.scala/shared/.jvm/target/scala-2.12/classes\"),\n",
    "// ammonite.ops.pwd/ammonite.ops.RelPath(\"RAII.scala/covariant/.jvm/target/scala-2.12/classes\"),\n",
    "// ammonite.ops.pwd/ammonite.ops.RelPath(\"Compute.scala/OpenCLCodeGenerator/target/scala-2.12/classes\"),\n",
    "// ammonite.ops.pwd/ammonite.ops.RelPath(\"Compute.scala/Memory/target/scala-2.12/classes\"),\n",
    "// ammonite.ops.pwd/ammonite.ops.RelPath(\"Compute.scala/OpenCL/target/scala-2.12/classes\"),\n",
    "// ammonite.ops.pwd/ammonite.ops.RelPath(\"Compute.scala/Closeables/target/scala-2.12/classes\"),\n",
    "// ammonite.ops.Path.home/ammonite.ops.RelPath(\".ivy2/cache/org.scalaz/scalaz-core_2.12/bundles/scalaz-core_2.12-7.2.14.jar\"),\n",
    "// ammonite.ops.Path.home/ammonite.ops.RelPath(\".ivy2/cache/com.thoughtworks.continuation/continuation_2.12/jars/continuation_2.12-1.1.1.jar\"),\n",
    "// ammonite.ops.Path.home/ammonite.ops.RelPath(\".ivy2/cache/com.chuusai/shapeless_2.12/bundles/shapeless_2.12-2.3.2.jar\"),\n",
    "// ammonite.ops.Path.home/ammonite.ops.RelPath(\".ivy2/cache/org.typelevel/macro-compat_2.12/jars/macro-compat_2.12-1.1.1.jar\"),\n",
    "// ammonite.ops.Path.home/ammonite.ops.RelPath(\".ivy2/cache/com.thoughtworks.tryt/covariant_2.12/jars/covariant_2.12-2.0.3.jar\"),\n",
    "// ammonite.ops.Path.home/ammonite.ops.RelPath(\".ivy2/cache/com.thoughtworks.future/future_2.12/jars/future_2.12-1.1.1.jar\"),\n",
    "// ammonite.ops.Path.home/ammonite.ops.RelPath(s\".ivy2/cache/org.lwjgl/lwjgl/jars/lwjgl-3.1.2-${lwjglClassifier}.jar\"),\n",
    "// ammonite.ops.Path.home/ammonite.ops.RelPath(\".ivy2/cache/com.dongxiguo/fastring_2.12/jars/fastring_2.12-0.3.1.jar\"),\n",
    "// ammonite.ops.Path.home/ammonite.ops.RelPath(\".ivy2/cache/org.scala-lang/scala-reflect/jars/scala-reflect-2.12.3.jar\"),\n",
    "// ammonite.ops.Path.home/ammonite.ops.RelPath(\".ivy2/cache/org.lwjgl/lwjgl-opencl/jars/lwjgl-opencl-3.1.2.jar\"),\n",
    "// ammonite.ops.Path.home/ammonite.ops.RelPath(\".ivy2/cache/eu.timepit/refined_2.12/jars/refined_2.12-0.8.2.jar\"),\n",
    "// ammonite.ops.Path.home/ammonite.ops.RelPath(\".ivy2/cache/org.scala-lang/scala-compiler/jars/scala-compiler-2.12.3.jar\"),\n",
    "// ammonite.ops.Path.home/ammonite.ops.RelPath(\".ivy2/cache/org.scala-lang.modules/scala-xml_2.12/bundles/scala-xml_2.12-1.0.6.jar\"),\n",
    "// ammonite.ops.Path.home/ammonite.ops.RelPath(\".ivy2/cache/com.thoughtworks.each/each_2.12/jars/each_2.12-3.3.1.jar\"),\n",
    "// ammonite.ops.Path.home/ammonite.ops.RelPath(\".ivy2/cache/com.thoughtworks.sde/core_2.12/jars/core_2.12-3.3.1.jar\"),\n",
    "// ammonite.ops.Path.home/ammonite.ops.RelPath(\".ivy2/cache/org.scalaz/scalaz-effect_2.12/bundles/scalaz-effect_2.12-7.2.7.jar\"),\n",
    "// ammonite.ops.Path.home/ammonite.ops.RelPath(\".ivy2/cache/com.thoughtworks.sde/comprehension-monad_2.12/jars/comprehension-monad_2.12-3.3.1.jar\")\n",
    "// ))"
   ]
  },
  {
   "cell_type": "code",
   "execution_count": 5,
   "metadata": {},
   "outputs": [
    {
     "data": {
      "text/plain": [
       "\u001b[32mimport \u001b[39m\u001b[36mcom.thoughtworks.continuation._\n",
       "\u001b[39m\n",
       "\u001b[32mimport \u001b[39m\u001b[36mcom.thoughtworks.future._\n",
       "\n",
       "\u001b[39m\n",
       "\u001b[32mimport \u001b[39m\u001b[36mcom.dongxiguo.fastring.Fastring.Implicits._\n",
       "\u001b[39m\n",
       "\u001b[32mimport \u001b[39m\u001b[36mcom.dongxiguo.fastring.Fastring\n",
       "\u001b[39m\n",
       "\u001b[32mimport \u001b[39m\u001b[36meu.timepit.refined.api.Refined\n",
       "\u001b[39m\n",
       "\u001b[32mimport \u001b[39m\u001b[36meu.timepit.refined.numeric.{Negative, Positive}\n",
       "\n",
       "\u001b[39m\n",
       "\u001b[32mimport \u001b[39m\u001b[36morg.lwjgl.opencl._, CL10._, CL12._\n",
       "\u001b[39m\n",
       "\u001b[32mimport \u001b[39m\u001b[36morg.lwjgl.system.MemoryUtil\n",
       "\n",
       "\u001b[39m\n",
       "\u001b[32mimport \u001b[39m\u001b[36mcom.thoughtworks.compute.Memory.Address\n",
       "\u001b[39m\n",
       "\u001b[32mimport \u001b[39m\u001b[36mcom.thoughtworks.compute.OpenCL.CommandQueue.GlobalWorkSizeOnlyDimension\n",
       "\u001b[39m\n",
       "\u001b[32mimport \u001b[39m\u001b[36mcom.thoughtworks.compute.OpenCL\u001b[39m"
      ]
     },
     "execution_count": 5,
     "metadata": {},
     "output_type": "execute_result"
    }
   ],
   "source": [
    "import com.thoughtworks.continuation._\n",
    "import com.thoughtworks.future._\n",
    "\n",
    "import com.dongxiguo.fastring.Fastring.Implicits._\n",
    "import com.dongxiguo.fastring.Fastring\n",
    "import eu.timepit.refined.api.Refined\n",
    "import eu.timepit.refined.numeric.{Negative, Positive}\n",
    "\n",
    "import org.lwjgl.opencl._, CL10._, CL12._\n",
    "import org.lwjgl.system.MemoryUtil\n",
    "\n",
    "import com.thoughtworks.compute.Memory.Address\n",
    "import com.thoughtworks.compute.OpenCL.CommandQueue.GlobalWorkSizeOnlyDimension\n",
    "import com.thoughtworks.compute.OpenCL"
   ]
  },
  {
   "cell_type": "markdown",
   "metadata": {},
   "source": [
    "## OpenCL environments"
   ]
  },
  {
   "cell_type": "code",
   "execution_count": 6,
   "metadata": {
    "scrolled": true
   },
   "outputs": [
    {
     "data": {
      "text/plain": [
       "\u001b[36mplatform\u001b[39m: \u001b[32mOpenCL\u001b[39m.\u001b[32mPlatform\u001b[39m = \u001b[33mPlatform\u001b[39m(\u001b[32m140605282755704L\u001b[39m, org.lwjgl.opencl.CLCapabilities@13990c7d)"
      ]
     },
     "execution_count": 6,
     "metadata": {},
     "output_type": "execute_result"
    }
   ],
   "source": [
    "val platform = OpenCL.platforms.head"
   ]
  },
  {
   "cell_type": "code",
   "execution_count": 7,
   "metadata": {},
   "outputs": [
    {
     "data": {
      "text/plain": [
       "\u001b[36mdevice\u001b[39m: \u001b[32mOpenCL\u001b[39m.\u001b[32mDevice\u001b[39m = \u001b[33mDevice\u001b[39m(\u001b[32m140606027347504L\u001b[39m, org.lwjgl.opencl.CLCapabilities@44f0da80)"
      ]
     },
     "execution_count": 7,
     "metadata": {},
     "output_type": "execute_result"
    }
   ],
   "source": [
    "val device = platform.devices.maxBy { device =>\n",
    "  Seq(CL_DEVICE_TYPE_CPU, CL_DEVICE_TYPE_GPU, CL_DEVICE_TYPE_ACCELERATOR).indexOf(device.deviceType)\n",
    "}"
   ]
  },
  {
   "cell_type": "code",
   "execution_count": 8,
   "metadata": {},
   "outputs": [
    {
     "data": {
      "text/plain": [
       "\u001b[36mcontext\u001b[39m: \u001b[32mOpenCL\u001b[39m.\u001b[32mContext\u001b[39m = com.thoughtworks.compute.OpenCL$Context@563f30f"
      ]
     },
     "execution_count": 8,
     "metadata": {},
     "output_type": "execute_result"
    }
   ],
   "source": [
    "val context = platform.createContext({ (errorInfo, data) =>\n",
    "  publish.stderr(errorInfo)\n",
    "}, device)"
   ]
  },
  {
   "cell_type": "code",
   "execution_count": 9,
   "metadata": {},
   "outputs": [
    {
     "data": {
      "text/plain": [
       "\u001b[36mcommandQueue\u001b[39m: \u001b[32mOpenCL\u001b[39m.\u001b[32mCommandQueue\u001b[39m = com.thoughtworks.compute.OpenCL$CommandQueue@1e7acbd5"
      ]
     },
     "execution_count": 9,
     "metadata": {},
     "output_type": "execute_result"
    }
   ],
   "source": [
    "val commandQueue = context.createCommandQueue(\n",
    "    device,\n",
    "    Map(\n",
    "        CL_QUEUE_PROPERTIES -> (CL_QUEUE_OUT_OF_ORDER_EXEC_MODE_ENABLE & device.queueProperties)\n",
    "    )\n",
    ")"
   ]
  },
  {
   "cell_type": "markdown",
   "metadata": {},
   "source": [
    "## Hyperparameters"
   ]
  },
  {
   "cell_type": "code",
   "execution_count": 10,
   "metadata": {},
   "outputs": [
    {
     "data": {
      "text/plain": [
       "defined \u001b[32mclass\u001b[39m \u001b[36mFiber\u001b[39m"
      ]
     },
     "execution_count": 10,
     "metadata": {},
     "output_type": "execute_result"
    }
   ],
   "source": [
    "/**\n",
    "  * @note [[outputCellIndex]] must be greater than [[inputCellIndex]] for now. The limitation will be removed in future version\n",
    "  */\n",
    "final case class Fiber(offsetX: Int, offsetY: Int, inputCellIndex: Int, outputCellIndex: Int)"
   ]
  },
  {
   "cell_type": "code",
   "execution_count": 11,
   "metadata": {},
   "outputs": [
    {
     "data": {
      "text/plain": [
       "\u001b[36mNumberOfInputChannels\u001b[39m: \u001b[32mInt\u001b[39m = \u001b[32m3\u001b[39m\n",
       "\u001b[36mNumberOfHiddenCells\u001b[39m: \u001b[32mInt\u001b[39m = \u001b[32m0\u001b[39m\n",
       "\u001b[36mNumberOfClasses\u001b[39m: \u001b[32mInt\u001b[39m = \u001b[32m10\u001b[39m\n",
       "\u001b[36mNumberOfCells\u001b[39m: \u001b[32mInt\u001b[39m = \u001b[32m13\u001b[39m\n",
       "\u001b[36mWidth\u001b[39m: \u001b[32mInt\u001b[39m = \u001b[32m32\u001b[39m\n",
       "\u001b[36mHeight\u001b[39m: \u001b[32mInt\u001b[39m = \u001b[32m32\u001b[39m\n",
       "\u001b[36mBatchSize\u001b[39m: \u001b[32mInt\u001b[39m = \u001b[32m128\u001b[39m\n",
       "\u001b[36mNumberOfVotesRequiredForLabelClass\u001b[39m: \u001b[32mInt\u001b[39m = \u001b[32m100\u001b[39m\n",
       "\u001b[36mLearningRate\u001b[39m: \u001b[32mFloat\u001b[39m = \u001b[32m3.0E-4F\u001b[39m\n",
       "\u001b[36mBiasLearningRate\u001b[39m: \u001b[32mFloat\u001b[39m = \u001b[32m3.0E-12F\u001b[39m\n",
       "\u001b[36mL2Regularization\u001b[39m: \u001b[32mDouble\u001b[39m = \u001b[32m1.0E-4\u001b[39m"
      ]
     },
     "execution_count": 11,
     "metadata": {},
     "output_type": "execute_result"
    }
   ],
   "source": [
    "val NumberOfInputChannels = 3\n",
    "\n",
    "val NumberOfHiddenCells = 0\n",
    "\n",
    "val NumberOfClasses = 10\n",
    "\n",
    "val NumberOfCells = NumberOfInputChannels + NumberOfHiddenCells + NumberOfClasses // Must larger than NumberOfInputChannels + NumberOfClasses\n",
    "\n",
    "val Width = 32\n",
    "\n",
    "val Height = 32\n",
    "\n",
    "val BatchSize = 128\n",
    "\n",
    "val NumberOfVotesRequiredForLabelClass = 100;\n",
    "\n",
    "val LearningRate = 0.0003f\n",
    "val BiasLearningRate = 0.000000000003f\n",
    "\n",
    "val L2Regularization = 0.0001"
   ]
  },
  {
   "cell_type": "code",
   "execution_count": 12,
   "metadata": {
    "scrolled": false
   },
   "outputs": [
    {
     "data": {
      "text/plain": [
       "\u001b[36minputFibers\u001b[39m: \u001b[32mcollection\u001b[39m.\u001b[32mimmutable\u001b[39m.\u001b[32mIndexedSeq\u001b[39m[\u001b[32mFiber\u001b[39m] = \u001b[33mVector\u001b[39m()"
      ]
     },
     "execution_count": 12,
     "metadata": {},
     "output_type": "execute_result"
    }
   ],
   "source": [
    "val inputFibers = for {\n",
    "    outputCellIndex <- 3 until NumberOfCells\n",
    "    inputCellIndex <- 0 until NumberOfInputChannels\n",
    "    offsetX <- -3 to 3\n",
    "    offsetY <- -3 to 3\n",
    "    if math.random < math.pow(offsetX * offsetX + offsetY * offsetY + 1, -1.3) * math.max(0.003, 1.0 - outputCellIndex / 0.2 / NumberOfCells)\n",
    "} yield Fiber(offsetX, offsetY, inputCellIndex, outputCellIndex)"
   ]
  },
  {
   "cell_type": "code",
   "execution_count": 13,
   "metadata": {},
   "outputs": [
    {
     "data": {
      "text/plain": [
       "\u001b[36msparseFibers\u001b[39m: \u001b[32mcollection\u001b[39m.\u001b[32mimmutable\u001b[39m.\u001b[32mIndexedSeq\u001b[39m[\u001b[32mFiber\u001b[39m] = \u001b[33mVector\u001b[39m(\n",
       "  \u001b[33mFiber\u001b[39m(\u001b[32m0\u001b[39m, \u001b[32m-2\u001b[39m, \u001b[32m0\u001b[39m, \u001b[32m3\u001b[39m),\n",
       "  \u001b[33mFiber\u001b[39m(\u001b[32m4\u001b[39m, \u001b[32m2\u001b[39m, \u001b[32m1\u001b[39m, \u001b[32m3\u001b[39m),\n",
       "  \u001b[33mFiber\u001b[39m(\u001b[32m-1\u001b[39m, \u001b[32m3\u001b[39m, \u001b[32m0\u001b[39m, \u001b[32m4\u001b[39m),\n",
       "  \u001b[33mFiber\u001b[39m(\u001b[32m-1\u001b[39m, \u001b[32m0\u001b[39m, \u001b[32m1\u001b[39m, \u001b[32m4\u001b[39m),\n",
       "  \u001b[33mFiber\u001b[39m(\u001b[32m1\u001b[39m, \u001b[32m-1\u001b[39m, \u001b[32m3\u001b[39m, \u001b[32m4\u001b[39m),\n",
       "  \u001b[33mFiber\u001b[39m(\u001b[32m-3\u001b[39m, \u001b[32m-2\u001b[39m, \u001b[32m3\u001b[39m, \u001b[32m4\u001b[39m),\n",
       "  \u001b[33mFiber\u001b[39m(\u001b[32m-1\u001b[39m, \u001b[32m3\u001b[39m, \u001b[32m0\u001b[39m, \u001b[32m5\u001b[39m),\n",
       "  \u001b[33mFiber\u001b[39m(\u001b[32m1\u001b[39m, \u001b[32m-2\u001b[39m, \u001b[32m4\u001b[39m, \u001b[32m5\u001b[39m),\n",
       "  \u001b[33mFiber\u001b[39m(\u001b[32m-1\u001b[39m, \u001b[32m-3\u001b[39m, \u001b[32m0\u001b[39m, \u001b[32m6\u001b[39m),\n",
       "  \u001b[33mFiber\u001b[39m(\u001b[32m0\u001b[39m, \u001b[32m2\u001b[39m, \u001b[32m5\u001b[39m, \u001b[32m6\u001b[39m),\n",
       "  \u001b[33mFiber\u001b[39m(\u001b[32m1\u001b[39m, \u001b[32m-3\u001b[39m, \u001b[32m0\u001b[39m, \u001b[32m7\u001b[39m),\n",
       "\u001b[33m...\u001b[39m"
      ]
     },
     "execution_count": 13,
     "metadata": {},
     "output_type": "execute_result"
    }
   ],
   "source": [
    "val sparseFibers = for {\n",
    "    outputCellIndex <- 3 until NumberOfCells\n",
    "    inputCellIndex <- Iterator.iterate(outputCellIndex.toDouble)(_ * math.random * 0.7)\n",
    "                         .takeWhile(_ > 0.5)\n",
    "                         .map { i => outputCellIndex - math.ceil(i).toInt }\n",
    "} yield Fiber((util.Random.nextGaussian * 2).toInt, (util.Random.nextGaussian * 3).toInt, inputCellIndex, outputCellIndex)"
   ]
  },
  {
   "cell_type": "code",
   "execution_count": 14,
   "metadata": {},
   "outputs": [
    {
     "data": {
      "text/plain": [
       "\u001b[36moffsetFibers\u001b[39m: \u001b[32mcollection\u001b[39m.\u001b[32mSeqView\u001b[39m[\u001b[32mFiber\u001b[39m, \u001b[32mSeq\u001b[39m[\u001b[32m_\u001b[39m]] = \u001b[33mSeqView\u001b[39m(\n",
       "  \u001b[33mFiber\u001b[39m(\u001b[32m1\u001b[39m, \u001b[32m-2\u001b[39m, \u001b[32m0\u001b[39m, \u001b[32m3\u001b[39m),\n",
       "  \u001b[33mFiber\u001b[39m(\u001b[32m3\u001b[39m, \u001b[32m1\u001b[39m, \u001b[32m1\u001b[39m, \u001b[32m3\u001b[39m),\n",
       "  \u001b[33mFiber\u001b[39m(\u001b[32m0\u001b[39m, \u001b[32m7\u001b[39m, \u001b[32m0\u001b[39m, \u001b[32m4\u001b[39m),\n",
       "  \u001b[33mFiber\u001b[39m(\u001b[32m-2\u001b[39m, \u001b[32m1\u001b[39m, \u001b[32m1\u001b[39m, \u001b[32m4\u001b[39m),\n",
       "  \u001b[33mFiber\u001b[39m(\u001b[32m4\u001b[39m, \u001b[32m-1\u001b[39m, \u001b[32m3\u001b[39m, \u001b[32m4\u001b[39m),\n",
       "  \u001b[33mFiber\u001b[39m(\u001b[32m-3\u001b[39m, \u001b[32m-1\u001b[39m, \u001b[32m3\u001b[39m, \u001b[32m4\u001b[39m),\n",
       "  \u001b[33mFiber\u001b[39m(\u001b[32m0\u001b[39m, \u001b[32m3\u001b[39m, \u001b[32m0\u001b[39m, \u001b[32m5\u001b[39m),\n",
       "  \u001b[33mFiber\u001b[39m(\u001b[32m-3\u001b[39m, \u001b[32m2\u001b[39m, \u001b[32m4\u001b[39m, \u001b[32m5\u001b[39m),\n",
       "  \u001b[33mFiber\u001b[39m(\u001b[32m-2\u001b[39m, \u001b[32m-5\u001b[39m, \u001b[32m0\u001b[39m, \u001b[32m6\u001b[39m),\n",
       "  \u001b[33mFiber\u001b[39m(\u001b[32m1\u001b[39m, \u001b[32m0\u001b[39m, \u001b[32m5\u001b[39m, \u001b[32m6\u001b[39m),\n",
       "  \u001b[33mFiber\u001b[39m(\u001b[32m-2\u001b[39m, \u001b[32m-6\u001b[39m, \u001b[32m0\u001b[39m, \u001b[32m7\u001b[39m),\n",
       "\u001b[33m...\u001b[39m"
      ]
     },
     "execution_count": 14,
     "metadata": {},
     "output_type": "execute_result"
    }
   ],
   "source": [
    "val offsetFibers = (inputFibers.view ++ sparseFibers).map { fiber =>\n",
    "    def randomOffset() = {\n",
    "      (util.Random.nextGaussian() * 3).toInt\n",
    "    }\n",
    "    @scala.annotation.tailrec\n",
    "    def retry: Fiber = {\n",
    "        val randomOffsetX = (util.Random.nextGaussian() * 2).toInt\n",
    "        val randomOffsetY = (util.Random.nextGaussian() * 2).toInt\n",
    "        if (randomOffsetX == 0 && randomOffsetY == 0) {\n",
    "            retry\n",
    "        } else {\n",
    "            Fiber(fiber.offsetX + randomOffsetX, fiber.offsetY + randomOffsetY, fiber.inputCellIndex, fiber.outputCellIndex)\n",
    "        }\n",
    "    }\n",
    "    retry\n",
    "}"
   ]
  },
  {
   "cell_type": "code",
   "execution_count": 15,
   "metadata": {},
   "outputs": [
    {
     "data": {
      "text/plain": [
       "\u001b[36mallFibers\u001b[39m: \u001b[32mcollection\u001b[39m.\u001b[32mmutable\u001b[39m.\u001b[32mArraySeq\u001b[39m[\u001b[32mFiber\u001b[39m] = \u001b[33mArraySeq\u001b[39m(\n",
       "  \u001b[33mFiber\u001b[39m(\u001b[32m-3\u001b[39m, \u001b[32m-5\u001b[39m, \u001b[32m0\u001b[39m, \u001b[32m3\u001b[39m),\n",
       "  \u001b[33mFiber\u001b[39m(\u001b[32m5\u001b[39m, \u001b[32m2\u001b[39m, \u001b[32m1\u001b[39m, \u001b[32m3\u001b[39m),\n",
       "  \u001b[33mFiber\u001b[39m(\u001b[32m0\u001b[39m, \u001b[32m2\u001b[39m, \u001b[32m0\u001b[39m, \u001b[32m4\u001b[39m),\n",
       "  \u001b[33mFiber\u001b[39m(\u001b[32m-3\u001b[39m, \u001b[32m0\u001b[39m, \u001b[32m1\u001b[39m, \u001b[32m4\u001b[39m),\n",
       "  \u001b[33mFiber\u001b[39m(\u001b[32m1\u001b[39m, \u001b[32m1\u001b[39m, \u001b[32m3\u001b[39m, \u001b[32m4\u001b[39m),\n",
       "  \u001b[33mFiber\u001b[39m(\u001b[32m-4\u001b[39m, \u001b[32m-3\u001b[39m, \u001b[32m3\u001b[39m, \u001b[32m4\u001b[39m),\n",
       "  \u001b[33mFiber\u001b[39m(\u001b[32m1\u001b[39m, \u001b[32m3\u001b[39m, \u001b[32m0\u001b[39m, \u001b[32m5\u001b[39m),\n",
       "  \u001b[33mFiber\u001b[39m(\u001b[32m0\u001b[39m, \u001b[32m-5\u001b[39m, \u001b[32m4\u001b[39m, \u001b[32m5\u001b[39m),\n",
       "  \u001b[33mFiber\u001b[39m(\u001b[32m0\u001b[39m, \u001b[32m-5\u001b[39m, \u001b[32m0\u001b[39m, \u001b[32m6\u001b[39m),\n",
       "  \u001b[33mFiber\u001b[39m(\u001b[32m-2\u001b[39m, \u001b[32m4\u001b[39m, \u001b[32m5\u001b[39m, \u001b[32m6\u001b[39m),\n",
       "  \u001b[33mFiber\u001b[39m(\u001b[32m2\u001b[39m, \u001b[32m-1\u001b[39m, \u001b[32m0\u001b[39m, \u001b[32m7\u001b[39m),\n",
       "\u001b[33m...\u001b[39m"
      ]
     },
     "execution_count": 15,
     "metadata": {},
     "output_type": "execute_result"
    }
   ],
   "source": [
    "val allFibers = (offsetFibers ++ inputFibers ++ sparseFibers).distinct.to[scala.collection.mutable.ArraySeq]"
   ]
  },
  {
   "cell_type": "code",
   "execution_count": 16,
   "metadata": {},
   "outputs": [
    {
     "data": {
      "text/plain": [
       "\u001b[36mfibersByOutputCellIndex\u001b[39m: \u001b[32mMap\u001b[39m[\u001b[32mInt\u001b[39m, \u001b[32mcollection\u001b[39m.\u001b[32mSeqView\u001b[39m[(\u001b[32mFiber\u001b[39m, \u001b[32mInt\u001b[39m), \u001b[32mcollection\u001b[39m.\u001b[32mmutable\u001b[39m.\u001b[32mSeq\u001b[39m[\u001b[32m_\u001b[39m]]] = \u001b[33mMap\u001b[39m(\n",
       "  \u001b[32m5\u001b[39m -> \u001b[33mSeqView\u001b[39m(\n",
       "    (\u001b[33mFiber\u001b[39m(\u001b[32m1\u001b[39m, \u001b[32m3\u001b[39m, \u001b[32m0\u001b[39m, \u001b[32m5\u001b[39m), \u001b[32m6\u001b[39m),\n",
       "    (\u001b[33mFiber\u001b[39m(\u001b[32m0\u001b[39m, \u001b[32m-5\u001b[39m, \u001b[32m4\u001b[39m, \u001b[32m5\u001b[39m), \u001b[32m7\u001b[39m),\n",
       "    (\u001b[33mFiber\u001b[39m(\u001b[32m-1\u001b[39m, \u001b[32m3\u001b[39m, \u001b[32m0\u001b[39m, \u001b[32m5\u001b[39m), \u001b[32m32\u001b[39m),\n",
       "    (\u001b[33mFiber\u001b[39m(\u001b[32m1\u001b[39m, \u001b[32m-2\u001b[39m, \u001b[32m4\u001b[39m, \u001b[32m5\u001b[39m), \u001b[32m33\u001b[39m)\n",
       "  ),\n",
       "  \u001b[32m10\u001b[39m -> \u001b[33mSeqView\u001b[39m(\n",
       "    (\u001b[33mFiber\u001b[39m(\u001b[32m0\u001b[39m, \u001b[32m-2\u001b[39m, \u001b[32m0\u001b[39m, \u001b[32m10\u001b[39m), \u001b[32m17\u001b[39m),\n",
       "    (\u001b[33mFiber\u001b[39m(\u001b[32m1\u001b[39m, \u001b[32m-4\u001b[39m, \u001b[32m4\u001b[39m, \u001b[32m10\u001b[39m), \u001b[32m18\u001b[39m),\n",
       "    (\u001b[33mFiber\u001b[39m(\u001b[32m-3\u001b[39m, \u001b[32m0\u001b[39m, \u001b[32m7\u001b[39m, \u001b[32m10\u001b[39m), \u001b[32m19\u001b[39m),\n",
       "    (\u001b[33mFiber\u001b[39m(\u001b[32m2\u001b[39m, \u001b[32m-2\u001b[39m, \u001b[32m9\u001b[39m, \u001b[32m10\u001b[39m), \u001b[32m20\u001b[39m),\n",
       "\u001b[33m...\u001b[39m"
      ]
     },
     "execution_count": 16,
     "metadata": {},
     "output_type": "execute_result"
    }
   ],
   "source": [
    "val fibersByOutputCellIndex = allFibers.view.zipWithIndex.groupBy(_._1.outputCellIndex)"
   ]
  },
  {
   "cell_type": "code",
   "execution_count": 17,
   "metadata": {},
   "outputs": [
    {
     "data": {
      "text/plain": [
       "\u001b[36mfibersByInputCellIndex\u001b[39m: \u001b[32mMap\u001b[39m[\u001b[32mInt\u001b[39m, \u001b[32mcollection\u001b[39m.\u001b[32mSeqView\u001b[39m[(\u001b[32mFiber\u001b[39m, \u001b[32mInt\u001b[39m), \u001b[32mcollection\u001b[39m.\u001b[32mmutable\u001b[39m.\u001b[32mSeq\u001b[39m[\u001b[32m_\u001b[39m]]] = \u001b[33mMap\u001b[39m(\n",
       "  \u001b[32m0\u001b[39m -> \u001b[33mSeqView\u001b[39m(\n",
       "    (\u001b[33mFiber\u001b[39m(\u001b[32m-3\u001b[39m, \u001b[32m-5\u001b[39m, \u001b[32m0\u001b[39m, \u001b[32m3\u001b[39m), \u001b[32m0\u001b[39m),\n",
       "    (\u001b[33mFiber\u001b[39m(\u001b[32m0\u001b[39m, \u001b[32m2\u001b[39m, \u001b[32m0\u001b[39m, \u001b[32m4\u001b[39m), \u001b[32m2\u001b[39m),\n",
       "    (\u001b[33mFiber\u001b[39m(\u001b[32m1\u001b[39m, \u001b[32m3\u001b[39m, \u001b[32m0\u001b[39m, \u001b[32m5\u001b[39m), \u001b[32m6\u001b[39m),\n",
       "    (\u001b[33mFiber\u001b[39m(\u001b[32m0\u001b[39m, \u001b[32m-5\u001b[39m, \u001b[32m0\u001b[39m, \u001b[32m6\u001b[39m), \u001b[32m8\u001b[39m),\n",
       "    (\u001b[33mFiber\u001b[39m(\u001b[32m2\u001b[39m, \u001b[32m-1\u001b[39m, \u001b[32m0\u001b[39m, \u001b[32m7\u001b[39m), \u001b[32m10\u001b[39m),\n",
       "    (\u001b[33mFiber\u001b[39m(\u001b[32m0\u001b[39m, \u001b[32m-3\u001b[39m, \u001b[32m0\u001b[39m, \u001b[32m8\u001b[39m), \u001b[32m12\u001b[39m),\n",
       "    (\u001b[33mFiber\u001b[39m(\u001b[32m-1\u001b[39m, \u001b[32m0\u001b[39m, \u001b[32m0\u001b[39m, \u001b[32m9\u001b[39m), \u001b[32m14\u001b[39m),\n",
       "    (\u001b[33mFiber\u001b[39m(\u001b[32m0\u001b[39m, \u001b[32m-2\u001b[39m, \u001b[32m0\u001b[39m, \u001b[32m10\u001b[39m), \u001b[32m17\u001b[39m),\n",
       "    (\u001b[33mFiber\u001b[39m(\u001b[32m4\u001b[39m, \u001b[32m1\u001b[39m, \u001b[32m0\u001b[39m, \u001b[32m11\u001b[39m), \u001b[32m21\u001b[39m),\n",
       "    (\u001b[33mFiber\u001b[39m(\u001b[32m-1\u001b[39m, \u001b[32m-2\u001b[39m, \u001b[32m0\u001b[39m, \u001b[32m12\u001b[39m), \u001b[32m23\u001b[39m),\n",
       "\u001b[33m...\u001b[39m"
      ]
     },
     "execution_count": 17,
     "metadata": {},
     "output_type": "execute_result"
    }
   ],
   "source": [
    "val fibersByInputCellIndex = allFibers.view.zipWithIndex.groupBy(_._1.inputCellIndex)"
   ]
  },
  {
   "cell_type": "markdown",
   "metadata": {},
   "source": [
    "## Generating OpenCL code"
   ]
  },
  {
   "cell_type": "code",
   "execution_count": 18,
   "metadata": {},
   "outputs": [
    {
     "data": {
      "text/plain": [
       "defined \u001b[32mfunction\u001b[39m \u001b[36mforwardCode\u001b[39m"
      ]
     },
     "execution_count": 18,
     "metadata": {},
     "output_type": "execute_result"
    }
   ],
   "source": [
    "def forwardCode = fastraw\"\"\"\n",
    "    struct forward_fiber {\n",
    "        short offset_x;\n",
    "        short offset_y;\n",
    "        unsigned short input_cell_index;\n",
    "        unsigned short weight_index;\n",
    "    };\n",
    "    float convolution(size_t image_index,\n",
    "                      size_t output_x,\n",
    "                      size_t output_y,\n",
    "                      global float* data,\n",
    "                      global float* weight,\n",
    "                      const size_t number_of_fibers,\n",
    "                      constant struct forward_fiber* forward_fibers);\n",
    "    float convolution(size_t image_index,\n",
    "                      size_t output_x,\n",
    "                      size_t output_y,\n",
    "                      global float* data,\n",
    "                      global float* weight,\n",
    "                      const size_t number_of_fibers,\n",
    "                      constant struct forward_fiber* forward_fibers) {\n",
    "        float output_data = 0.0f;\n",
    "        for (size_t i = 0; i < number_of_fibers; i++) {\n",
    "            struct forward_fiber fiber = forward_fibers[i];\n",
    "            ptrdiff_t offset_x = fiber.offset_x;\n",
    "            ptrdiff_t offset_y = fiber.offset_y;\n",
    "            ptrdiff_t input_x = output_x + offset_x;\n",
    "            ptrdiff_t input_y = output_y + offset_y;\n",
    "            if (\n",
    "                input_x >= 0 &&\n",
    "                input_x < $Width &&\n",
    "                input_y >= 0 &&\n",
    "                input_y < $Height\n",
    "            ) {\n",
    "                size_t input_cell_index = fiber.input_cell_index;\n",
    "                size_t weight_index = fiber.weight_index;\n",
    "                float input_data = data[\n",
    "                    input_cell_index * ${Width * Height * BatchSize} +\n",
    "                    image_index * ${Width * Height} +\n",
    "                    input_y * $Width +\n",
    "                    input_x\n",
    "                ];\n",
    "                output_data += weight[weight_index] * input_data;\n",
    "            }\n",
    "        }\n",
    "        return output_data;\n",
    "    }\n",
    "    kernel void forward(global float* data,\n",
    "                        global float* weight,\n",
    "                        global float* bias,\n",
    "                        const size_t output_cell_index,\n",
    "                        const size_t number_of_fibers,\n",
    "                        constant struct forward_fiber* forward_fibers) {\n",
    "        size_t image_index = get_global_id(0);\n",
    "        size_t output_x = get_global_id(1);\n",
    "        size_t output_y = get_global_id(2);\n",
    "        data[\n",
    "            output_cell_index * ${Width * Height * BatchSize} +\n",
    "            image_index * ${Width * Height} +\n",
    "            output_y * $Width +\n",
    "            output_x\n",
    "        ] = fmin(10.0f, fmax(0.0f, convolution(image_index, output_x, output_y, data, weight, number_of_fibers, forward_fibers) + bias[output_cell_index]));\n",
    "    }\n",
    "\"\"\""
   ]
  },
  {
   "cell_type": "markdown",
   "metadata": {},
   "source": [
    "`backward_fiber` is a fiber from input's view. It's `offset_x` and `offset_y` is always the negative value of the corresonding `forward_fiber`"
   ]
  },
  {
   "cell_type": "code",
   "execution_count": 19,
   "metadata": {},
   "outputs": [
    {
     "data": {
      "text/plain": [
       "defined \u001b[32mfunction\u001b[39m \u001b[36mbackwardCode\u001b[39m"
      ]
     },
     "execution_count": 19,
     "metadata": {},
     "output_type": "execute_result"
    }
   ],
   "source": [
    "def backwardCode = fastraw\"\"\"\n",
    "    struct backward_fiber {\n",
    "        short offset_x;\n",
    "        short offset_y;\n",
    "        unsigned short output_cell_index;\n",
    "        unsigned short weight_index;\n",
    "    };\n",
    "\n",
    "    kernel void backward(global float* delta,\n",
    "                         global float* weight,\n",
    "                         const size_t input_cell_index,\n",
    "                         const size_t number_of_fibers,\n",
    "                         constant struct backward_fiber* backward_fibers) {\n",
    "        size_t image_index = get_global_id(0);\n",
    "        size_t input_x = get_global_id(1);\n",
    "        size_t input_y = get_global_id(2);\n",
    "        float input_delta = 0.0f;\n",
    "        for (size_t i = 0; i < number_of_fibers; i++) {\n",
    "            struct backward_fiber fiber = backward_fibers[i];\n",
    "            ptrdiff_t offset_x = fiber.offset_x;\n",
    "            ptrdiff_t offset_y = fiber.offset_y;\n",
    "            ptrdiff_t output_x = input_x + offset_x;\n",
    "            ptrdiff_t output_y = input_y + offset_y;\n",
    "            if (\n",
    "                output_x >= 0 &&\n",
    "                output_x < $Width &&\n",
    "                output_y >= 0 &&\n",
    "                output_y < $Height\n",
    "            ) {\n",
    "                size_t output_cell_index = fiber.output_cell_index;\n",
    "                size_t weight_index = fiber.weight_index;\n",
    "                float output_delta = delta[\n",
    "                    output_cell_index * ${Width * Height * BatchSize} +\n",
    "                    image_index * ${Width * Height} +\n",
    "                    output_y * $Width +\n",
    "                    output_x\n",
    "                ];\n",
    "                input_delta += weight[weight_index] * output_delta;\n",
    "            }\n",
    "        }\n",
    "        delta[\n",
    "            input_cell_index * ${Width * Height * BatchSize} +\n",
    "            image_index * ${Width * Height} +\n",
    "            input_y * $Width + input_x\n",
    "        ] = fmax(-10.f, fmin(10.f, input_delta));\n",
    "    }\n",
    "\"\"\""
   ]
  },
  {
   "cell_type": "code",
   "execution_count": 20,
   "metadata": {},
   "outputs": [
    {
     "data": {
      "text/plain": [
       "defined \u001b[32mfunction\u001b[39m \u001b[36mupdateBiasCode\u001b[39m"
      ]
     },
     "execution_count": 20,
     "metadata": {},
     "output_type": "execute_result"
    }
   ],
   "source": [
    "def updateBiasCode = fastraw\"\"\"\n",
    "    kernel void update_bias(global float* delta, global float* bias) {\n",
    "        size_t cell_index = get_global_id(0);\n",
    "        float accumulator = 0.0;\n",
    "        for (size_t i = 0; i < ${BatchSize * Width * Height}; i++) {\n",
    "            accumulator += delta[cell_index * ${BatchSize * Width * Height} + i];\n",
    "        }\n",
    "        float old_bias = bias[cell_index];\n",
    "        float new_bias = old_bias - (accumulator + old_bias * $L2Regularization) * $BiasLearningRate;\n",
    "        bias[cell_index] = fmax(-10.0f, fmin(10.0f, new_bias));\n",
    "        write_mem_fence(CLK_GLOBAL_MEM_FENCE);\n",
    "    }\n",
    "\"\"\""
   ]
  },
  {
   "cell_type": "code",
   "execution_count": 21,
   "metadata": {},
   "outputs": [
    {
     "data": {
      "text/plain": [
       "defined \u001b[32mfunction\u001b[39m \u001b[36mupdateWeightCode\u001b[39m"
      ]
     },
     "execution_count": 21,
     "metadata": {},
     "output_type": "execute_result"
    }
   ],
   "source": [
    "def updateWeightCode = fastraw\"\"\"\n",
    "    struct plain_fiber {\n",
    "        short offset_x;\n",
    "        short offset_y;\n",
    "        unsigned short input_cell_index;\n",
    "        unsigned short output_cell_index;\n",
    "    };\n",
    "    kernel void update_weight(global float* data, global float* delta, global float* weight, global struct plain_fiber* fibers) {\n",
    "        size_t i = get_global_id(0);\n",
    "        struct plain_fiber fiber = fibers[i];\n",
    "        size_t offset_x = fiber.offset_x;\n",
    "        size_t offset_y = fiber.offset_y;\n",
    "        size_t input_cell_index = fiber.input_cell_index;\n",
    "        size_t output_cell_index = fiber.output_cell_index;\n",
    "        size_t input_cell_start = input_cell_index * ${Width * Height * BatchSize};\n",
    "        size_t output_cell_start = output_cell_index * ${Width * Height * BatchSize};\n",
    "        float delta_weight = 0.0f;\n",
    "        for (size_t image_index = 0; image_index < $BatchSize; image_index++) {\n",
    "            size_t input_image_start = input_cell_start + image_index * ${Width * Height};\n",
    "            size_t output_image_start = output_cell_start + image_index * ${Width * Height};\n",
    "            for (size_t input_y = 0; input_y < $Width; input_y++) {\n",
    "                if (input_y >= offset_y) {\n",
    "                    size_t output_y = input_y - offset_y;\n",
    "                    if (output_y < $Height) {\n",
    "                        size_t input_row_start = input_image_start + input_y * $Width;\n",
    "                        size_t output_row_start = output_image_start + output_y * $Width;\n",
    "                        for (size_t input_x = 0; input_x < $Width; input_x++) {\n",
    "                            if (input_x >= offset_x) {\n",
    "                                size_t output_x = input_x - offset_x;\n",
    "                                if (output_x < $Width) {\n",
    "                                    delta_weight += data[input_row_start + input_x] *\n",
    "                                                    delta[output_row_start + output_x];\n",
    "                                }\n",
    "                            }\n",
    "                        }\n",
    "                    }\n",
    "                }\n",
    "            }\n",
    "\n",
    "        }\n",
    "        float old_weight = weight[i];\n",
    "        float new_weight = old_weight - (delta_weight + old_weight * $L2Regularization) * $LearningRate;\n",
    "        weight[i] = fmax(-10.0f, fmin(10.0f, new_weight));\n",
    "        write_mem_fence(CLK_GLOBAL_MEM_FENCE);\n",
    "    }\n",
    "\"\"\""
   ]
  },
  {
   "cell_type": "code",
   "execution_count": 22,
   "metadata": {},
   "outputs": [
    {
     "data": {
      "text/plain": [
       "defined \u001b[32mfunction\u001b[39m \u001b[36mtrainLossCode\u001b[39m"
      ]
     },
     "execution_count": 22,
     "metadata": {},
     "output_type": "execute_result"
    }
   ],
   "source": [
    "def trainLossCode = {\n",
    "    def incorrectClasses = {\n",
    "        {\n",
    "            for (classIndex <- 0 until NumberOfClasses) yield fastraw\"\"\"\n",
    "                size_t image_start_$classIndex = ${classIndex * BatchSize * Width * Height} + image_index * ${Width * Height};\n",
    "                unsigned short class_votes_$classIndex = 0;\n",
    "                for (size_t xy = 0; xy < ${Width * Height}; xy++) {\n",
    "                    float pixel_score = score_data[image_start_$classIndex + xy];\n",
    "                    if (pixel_score > 0.0) {\n",
    "                        class_votes_$classIndex += 1;\n",
    "                        if ($classIndex != label) {\n",
    "                            image_total_loss += pixel_score;\n",
    "                            score_delta[image_start_$classIndex + xy] = ${1.0 / (Width * Height * BatchSize)};\n",
    "                        }\n",
    "                    }\n",
    "                }\n",
    "                if (class_votes_$classIndex >= image_max_votes) {\n",
    "                    image_max_votes = class_votes_$classIndex;\n",
    "                    output_label = $classIndex;\n",
    "                }\n",
    "            \"\"\"\n",
    "        }.mkFastring(\"\\n\")\n",
    "    }\n",
    "    def correctClass = {\n",
    "        fastraw\"\"\"\n",
    "            size_t correct_image_start = label * ${BatchSize * Width * Height} + image_index * ${Width * Height};\n",
    "            unsigned short number_of_votes = 0;\n",
    "            for (size_t xy = 0; xy < ${Width * Height}; xy++) {\n",
    "                if (score_data[correct_image_start + xy] >= 2.0) {\n",
    "                    number_of_votes += 1;\n",
    "                }\n",
    "            }\n",
    "            if (number_of_votes < $NumberOfVotesRequiredForLabelClass) {\n",
    "                for (size_t xy = 0; xy < ${Width * Height}; xy++) {\n",
    "                    float pixel_score = score_data[correct_image_start + xy];\n",
    "                    float margin = 2.0 - pixel_score;\n",
    "                    if (margin > 0.0) {\n",
    "                        image_total_loss += ${(NumberOfClasses - 1) * 0.5} * margin;\n",
    "                        score_delta[correct_image_start + xy] = ${-(NumberOfClasses - 1) * 0.5 / (Width * Height * BatchSize)};\n",
    "                    }\n",
    "                }\n",
    "            }\n",
    "        \"\"\"\n",
    "    }\n",
    "    fastraw\"\"\"\n",
    "        kernel void train_loss(global float* score_data,\n",
    "                               global float* score_delta,\n",
    "                               constant unsigned char* labels,\n",
    "                               global unsigned char* output_labels,\n",
    "                               global float* loss) {\n",
    "            size_t image_index = get_global_id(0);\n",
    "            size_t label = labels[image_index];\n",
    "            float image_total_loss = 0.0;\n",
    "            unsigned short image_max_votes = 0;\n",
    "            unsigned char output_label = 0;\n",
    "            $correctClass\n",
    "            $incorrectClasses\n",
    "            loss[image_index] = image_total_loss / ${Width * Height};\n",
    "            output_labels[image_index] = output_label;\n",
    "            write_mem_fence(CLK_GLOBAL_MEM_FENCE);\n",
    "        }\n",
    "    \"\"\"\n",
    "}"
   ]
  },
  {
   "cell_type": "code",
   "execution_count": 23,
   "metadata": {},
   "outputs": [
    {
     "data": {
      "text/plain": [
       "defined \u001b[32mfunction\u001b[39m \u001b[36mweightInitializationCode\u001b[39m"
      ]
     },
     "execution_count": 23,
     "metadata": {},
     "output_type": "execute_result"
    }
   ],
   "source": [
    "def weightInitializationCode = raw\"\"\"\n",
    "    kernel void forward_sum(global float* data,\n",
    "                            global float* weight,\n",
    "                            const size_t output_cell_index,\n",
    "                            const size_t number_of_fibers,\n",
    "                            constant struct forward_fiber* forward_fibers,\n",
    "                            global float* sum_of_image) {\n",
    "        size_t image_index = get_global_id(0);\n",
    "        float sum = 0.0f;\n",
    "        for (ptrdiff_t output_y = 0; output_y < $Height; output_y++) {\n",
    "            for (ptrdiff_t output_x = 0; output_x < $Width; output_x++) {\n",
    "                float raw_output = convolution(image_index, output_x, output_y, data, weight, number_of_fibers, forward_fibers);\n",
    "                data[\n",
    "                    output_cell_index * ${Width * Height * BatchSize} +\n",
    "                    image_index * ${Width * Height} +\n",
    "                    output_y * $Width + output_x\n",
    "                ] = raw_output;\n",
    "                sum += raw_output;\n",
    "            }\n",
    "        }\n",
    "        sum_of_image[image_index] = sum;\n",
    "    }\n",
    "    \n",
    "    kernel void square_sum(global float* data,\n",
    "                           const float mean,\n",
    "                           const size_t output_cell_index,\n",
    "                           global float* square_sum_of_image) {\n",
    "        size_t image_index = get_global_id(0);\n",
    "        float sum = 0.0f;\n",
    "        for (ptrdiff_t output_y = 0; output_y < $Height; output_y++) {\n",
    "            for (ptrdiff_t output_x = 0; output_x < $Width; output_x++) {\n",
    "                float biased_output = data[\n",
    "                    output_cell_index * ${Width * Height * BatchSize} +\n",
    "                    image_index * ${Width * Height} +\n",
    "                    output_y * $Width +\n",
    "                    output_x\n",
    "                ] - mean;\n",
    "                sum += biased_output * biased_output;\n",
    "            }\n",
    "        }\n",
    "        square_sum_of_image[image_index] = sum;\n",
    "    }\n",
    "    \n",
    "    kernel void adjust_weight(global float* weight,\n",
    "                              global float* variance,\n",
    "                              global struct plain_fiber* fibers) {\n",
    "        size_t fiber_index = get_global_id(0);\n",
    "        struct plain_fiber fiber = fibers[fiber_index];\n",
    "        weight[fiber_index] = weight[fiber_index] / variance[fiber.output_cell_index];\n",
    "    }\n",
    "    \n",
    "    kernel void adjust_data(global float* data,\n",
    "                            const size_t output_cell_index,\n",
    "                            const float variance,\n",
    "                            const float mean) {\n",
    "        size_t image_index = get_global_id(0);\n",
    "        size_t output_x = get_global_id(1);\n",
    "        size_t output_y = get_global_id(2);\n",
    "        size_t i = output_cell_index * ${Width * Height * BatchSize} +\n",
    "                   image_index * ${Width * Height} +\n",
    "                   output_y * $Width +\n",
    "                   output_x;\n",
    "        data[i] = fmin(10.0f, fmax(0.0f, (data[i] - mean) / variance));\n",
    "    }\n",
    "\"\"\""
   ]
  },
  {
   "cell_type": "code",
   "execution_count": 24,
   "metadata": {
    "scrolled": true,
    "slideshow": {
     "slide_type": "-"
    }
   },
   "outputs": [
    {
     "data": {
      "text/plain": [
       "\u001b[36mcode\u001b[39m: \u001b[32mFastring\u001b[39m = \u001b[33mcmd23Wrapper.Helper\u001b[39m(\n",
       "  \u001b[32m\"\"\"\n",
       "  \n",
       "    \n",
       "  \"\"\"\u001b[39m,\n",
       "  \u001b[32m\"\"\"\n",
       "  \n",
       "    struct forward_fiber {  \n",
       "        short offset_x;  \n",
       "        short offset_y;  \n",
       "        unsigned short input_cell_index;  \n",
       "        unsigned short weight_index;  \n",
       "\u001b[33m...\u001b[39m\n",
       "\u001b[36mprogram\u001b[39m: \u001b[32mOpenCL\u001b[39m.\u001b[32mProgram\u001b[39m = com.thoughtworks.compute.OpenCL$Program@6cde8874"
      ]
     },
     "execution_count": 24,
     "metadata": {},
     "output_type": "execute_result"
    }
   ],
   "source": [
    "val code = fastraw\"\"\"\n",
    "    $forwardCode\n",
    "    $backwardCode\n",
    "    $updateWeightCode\n",
    "    $updateBiasCode\n",
    "    $trainLossCode\n",
    "    $weightInitializationCode\n",
    "\"\"\"\n",
    "val program = context.createProgramWithSource(code)\n",
    "program.build().blockingAwait"
   ]
  },
  {
   "cell_type": "markdown",
   "metadata": {},
   "source": [
    "## Load training data and testing data"
   ]
  },
  {
   "cell_type": "code",
   "execution_count": 25,
   "metadata": {
    "scrolled": true
   },
   "outputs": [
    {
     "data": {
      "text/plain": [
       "\u001b[32mimport \u001b[39m\u001b[36mjava.net.URL\n",
       "\u001b[39m\n",
       "\u001b[32mimport \u001b[39m\u001b[36mjava.io.File\n",
       "\u001b[39m\n",
       "\u001b[32mimport \u001b[39m\u001b[36m$ivy.$                               \n",
       "\u001b[39m\n",
       "\u001b[32mimport \u001b[39m\u001b[36morg.rauschig.jarchivelib.{Archiver, ArchiverFactory}\n",
       "\u001b[39m\n",
       "\u001b[32mimport \u001b[39m\u001b[36mjava.nio.channels._\n",
       "\u001b[39m\n",
       "\u001b[32mimport \u001b[39m\u001b[36mjava.nio.file._\u001b[39m"
      ]
     },
     "execution_count": 25,
     "metadata": {},
     "output_type": "execute_result"
    }
   ],
   "source": [
    "import java.net.URL\n",
    "import java.io.File\n",
    "import $ivy.`org.rauschig:jarchivelib:0.7.1`\n",
    "import org.rauschig.jarchivelib.{Archiver, ArchiverFactory}\n",
    "import java.nio.channels._\n",
    "import java.nio.file._"
   ]
  },
  {
   "cell_type": "code",
   "execution_count": 26,
   "metadata": {
    "scrolled": false
   },
   "outputs": [
    {
     "data": {
      "text/plain": [
       "\u001b[36mCifar10Url\u001b[39m: \u001b[32mURL\u001b[39m = http://www.cs.toronto.edu/~kriz/cifar-10-binary.tar.gz\n",
       "\u001b[36mCifarDirectory\u001b[39m: \u001b[32mFile\u001b[39m = cifar-10-batches-bin"
      ]
     },
     "execution_count": 26,
     "metadata": {},
     "output_type": "execute_result"
    }
   ],
   "source": [
    "val Cifar10Url = new URL(\"http://www.cs.toronto.edu/~kriz/cifar-10-binary.tar.gz\")\n",
    "val CifarDirectory = new File(\"cifar-10-batches-bin\")\n",
    "if (!CifarDirectory.exists) {\n",
    "    import sys.process._\n",
    "    val targzFile = File.createTempFile(\"cifar-10-binary\", \".tar.gz\")\n",
    "    val cifarHttpStream = Cifar10Url.openStream()\n",
    "    try {\n",
    "        val httpChannel = Channels.newChannel(cifarHttpStream)\n",
    "        try {\n",
    "            val fileChannel = FileChannel.open(targzFile.toPath, StandardOpenOption.WRITE)\n",
    "            try {\n",
    "                fileChannel.transferFrom(httpChannel, 0, Long.MaxValue)\n",
    "            } finally {\n",
    "                fileChannel.close()\n",
    "            }\n",
    "        } finally {\n",
    "            httpChannel.close()\n",
    "        }\n",
    "    } finally {\n",
    "        cifarHttpStream.close()\n",
    "    }\n",
    "    val archiver: Archiver = ArchiverFactory.createArchiver(\"tar\", \"gz\")\n",
    "    archiver.extract(targzFile, new File(sys.props(\"user.dir\")))\n",
    "}"
   ]
  },
  {
   "cell_type": "code",
   "execution_count": 27,
   "metadata": {
    "scrolled": false
   },
   "outputs": [
    {
     "data": {
      "text/plain": [
       "\u001b[36mNumberOfTrainingSamplesPerFile\u001b[39m: \u001b[32mInt\u001b[39m = \u001b[32m10000\u001b[39m\n",
       "\u001b[36mNumberOfTrainingFiles\u001b[39m: \u001b[32mInt\u001b[39m = \u001b[32m5\u001b[39m\n",
       "\u001b[36mNumberOfTrainingSamples\u001b[39m: \u001b[32mInt\u001b[39m = \u001b[32m50000\u001b[39m\n",
       "\u001b[32mimport \u001b[39m\u001b[36mjava.nio.channels.FileChannel\n",
       "\u001b[39m\n",
       "\u001b[32mimport \u001b[39m\u001b[36mjava.nio.file.Paths\n",
       "\u001b[39m\n",
       "\u001b[32mimport \u001b[39m\u001b[36mjava.nio.file.Path\n",
       "\u001b[39m\n",
       "\u001b[32mimport \u001b[39m\u001b[36mjava.nio.file.StandardOpenOption\n",
       "\n",
       "\u001b[39m\n",
       "\u001b[36mtrainingHostBuffers\u001b[39m: \u001b[32mcollection\u001b[39m.\u001b[32mimmutable\u001b[39m.\u001b[32mIndexedSeq\u001b[39m[\u001b[32mjava\u001b[39m.\u001b[32mnio\u001b[39m.\u001b[32mMappedByteBuffer\u001b[39m] = \u001b[33mVector\u001b[39m(\n",
       "  java.nio.DirectByteBufferR[pos=0 lim=30730000 cap=30730000],\n",
       "  java.nio.DirectByteBufferR[pos=0 lim=30730000 cap=30730000],\n",
       "  java.nio.DirectByteBufferR[pos=0 lim=30730000 cap=30730000],\n",
       "  java.nio.DirectByteBufferR[pos=0 lim=30730000 cap=30730000],\n",
       "  java.nio.DirectByteBufferR[pos=0 lim=30730000 cap=30730000]\n",
       ")\n",
       "\u001b[36mtestHostBuffer\u001b[39m: \u001b[32mjava\u001b[39m.\u001b[32mnio\u001b[39m.\u001b[32mMappedByteBuffer\u001b[39m = java.nio.DirectByteBufferR[pos=0 lim=30730000 cap=30730000]"
      ]
     },
     "execution_count": 27,
     "metadata": {},
     "output_type": "execute_result"
    }
   ],
   "source": [
    "val NumberOfTrainingSamplesPerFile = 10000\n",
    "val NumberOfTrainingFiles = 5\n",
    "val NumberOfTrainingSamples = NumberOfTrainingFiles * NumberOfTrainingSamplesPerFile\n",
    "\n",
    "import java.nio.channels.FileChannel\n",
    "import java.nio.file.Paths\n",
    "import java.nio.file.Path\n",
    "import java.nio.file.StandardOpenOption\n",
    "\n",
    "val trainingHostBuffers = for (i <- 1 to NumberOfTrainingFiles) yield {\n",
    "    val batchPath = CifarDirectory.toPath.resolve(s\"data_batch_$i.bin\")\n",
    "    val channel = FileChannel.open(batchPath, StandardOpenOption.READ)\n",
    "    try {\n",
    "        channel.map(FileChannel.MapMode.READ_ONLY, 0L, channel.size)\n",
    "    } finally {\n",
    "        channel.close()\n",
    "    }\n",
    "}\n",
    "\n",
    "val testHostBuffer = {\n",
    "    val batchPath = CifarDirectory.toPath.resolve(s\"test_batch.bin\")\n",
    "    val channel = FileChannel.open(batchPath, StandardOpenOption.READ)\n",
    "    try {\n",
    "        channel.map(FileChannel.MapMode.READ_ONLY, 0L, channel.size)\n",
    "    } finally {\n",
    "        channel.close()\n",
    "    }\n",
    "}"
   ]
  },
  {
   "cell_type": "markdown",
   "metadata": {},
   "source": [
    "## Buffer initialization"
   ]
  },
  {
   "cell_type": "code",
   "execution_count": 28,
   "metadata": {},
   "outputs": [
    {
     "data": {
      "text/plain": [
       "\u001b[36mdataDeviceBuffer\u001b[39m: \u001b[32mOpenCL\u001b[39m.\u001b[32mBuffer\u001b[39m[\u001b[32mFloat\u001b[39m] = com.thoughtworks.compute.OpenCL$Buffer@6f83a17b"
      ]
     },
     "execution_count": 28,
     "metadata": {},
     "output_type": "execute_result"
    }
   ],
   "source": [
    "val dataDeviceBuffer = context.createUninitializedBuffer[Float](BatchSize * Width * Height * NumberOfCells)"
   ]
  },
  {
   "cell_type": "code",
   "execution_count": 29,
   "metadata": {},
   "outputs": [
    {
     "data": {
      "text/plain": [
       "\u001b[36mdeltaDeviceBuffer\u001b[39m: \u001b[32mOpenCL\u001b[39m.\u001b[32mBuffer\u001b[39m[\u001b[32mFloat\u001b[39m] = com.thoughtworks.compute.OpenCL$Buffer@4d6dcceb"
      ]
     },
     "execution_count": 29,
     "metadata": {},
     "output_type": "execute_result"
    }
   ],
   "source": [
    "val deltaDeviceBuffer = context.createUninitializedBuffer[Float](BatchSize * Width * Height * NumberOfCells)"
   ]
  },
  {
   "cell_type": "code",
   "execution_count": 30,
   "metadata": {},
   "outputs": [
    {
     "data": {
      "text/plain": [
       "\u001b[36mbiasDeviceBuffer\u001b[39m: \u001b[32mOpenCL\u001b[39m.\u001b[32mBuffer\u001b[39m[\u001b[32mFloat\u001b[39m] = com.thoughtworks.compute.OpenCL$Buffer@764278dc"
      ]
     },
     "execution_count": 30,
     "metadata": {},
     "output_type": "execute_result"
    }
   ],
   "source": [
    "val biasDeviceBuffer = context.createUninitializedBuffer[Float](NumberOfCells)"
   ]
  },
  {
   "cell_type": "code",
   "execution_count": 30,
   "metadata": {
    "collapsed": true
   },
   "outputs": [],
   "source": [
    "// def writeBiasBuffer() = {\n",
    "//     val biasHostBuffer = MemoryUtil.memAllocFloat(NumberOfCells)\n",
    "//     for (i <- 0 until NumberOfCells) {\n",
    "//         biasHostBuffer.put(i, util.Random.nextFloat() * 0.00001f)\n",
    "//     }\n",
    "//     val event = commandQueue.enqueueWriteBuffer(biasDeviceBuffer, biasHostBuffer)\n",
    "//     try {\n",
    "//         event.waitForComplete.blockingAwait\n",
    "//     } finally {\n",
    "//         event.close()\n",
    "//     }\n",
    "// }"
   ]
  },
  {
   "cell_type": "code",
   "execution_count": 30,
   "metadata": {
    "collapsed": true
   },
   "outputs": [],
   "source": [
    "// writeBiasBuffer()"
   ]
  },
  {
   "cell_type": "code",
   "execution_count": 31,
   "metadata": {
    "scrolled": true
   },
   "outputs": [
    {
     "data": {
      "text/plain": [
       "\u001b[36mweightDeviceBuffer\u001b[39m: \u001b[32mOpenCL\u001b[39m.\u001b[32mBuffer\u001b[39m[\u001b[32mFloat\u001b[39m] = com.thoughtworks.compute.OpenCL$Buffer@496e4ec4"
      ]
     },
     "execution_count": 31,
     "metadata": {},
     "output_type": "execute_result"
    }
   ],
   "source": [
    "val weightDeviceBuffer = context.createUninitializedBuffer[Float](allFibers.length)"
   ]
  },
  {
   "cell_type": "code",
   "execution_count": 32,
   "metadata": {},
   "outputs": [
    {
     "data": {
      "text/plain": [
       "\u001b[36mweightHostBuffer\u001b[39m: \u001b[32mjava\u001b[39m.\u001b[32mnio\u001b[39m.\u001b[32mFloatBuffer\u001b[39m = java.nio.DirectFloatBufferU[pos=0 lim=52 cap=52]\n",
       "defined \u001b[32mfunction\u001b[39m \u001b[36mwriteWeightBuffer\u001b[39m"
      ]
     },
     "execution_count": 32,
     "metadata": {},
     "output_type": "execute_result"
    }
   ],
   "source": [
    "val weightHostBuffer = MemoryUtil.memAllocFloat(allFibers.length)\n",
    "def writeWeightBuffer() = {\n",
    "    for ((outputCellIndex, fibers) <- fibersByOutputCellIndex) {\n",
    "        for ((fiber, fiberIndex) <- fibers) {\n",
    "            weightHostBuffer.put(fiberIndex, util.Random.nextGaussian.toFloat)\n",
    "        }\n",
    "    }\n",
    "    val event = commandQueue.enqueueWriteBuffer(weightDeviceBuffer, weightHostBuffer)\n",
    "    try {\n",
    "        event.waitForComplete.blockingAwait\n",
    "    } finally {\n",
    "        event.close()\n",
    "    }\n",
    "}"
   ]
  },
  {
   "cell_type": "code",
   "execution_count": 33,
   "metadata": {
    "collapsed": true
   },
   "outputs": [],
   "source": [
    "writeWeightBuffer()"
   ]
  },
  {
   "cell_type": "code",
   "execution_count": 34,
   "metadata": {},
   "outputs": [
    {
     "data": {
      "text/plain": [
       "\u001b[36mres33\u001b[39m: \u001b[32mFloat\u001b[39m = \u001b[32m-2.4116514F\u001b[39m"
      ]
     },
     "execution_count": 34,
     "metadata": {},
     "output_type": "execute_result"
    }
   ],
   "source": [
    "0 until 25 map weightHostBuffer.get sum"
   ]
  },
  {
   "cell_type": "code",
   "execution_count": 35,
   "metadata": {},
   "outputs": [
    {
     "name": "stdout",
     "output_type": "stream",
     "text": [
      "-1.5246867\n",
      "0.32728678\n",
      "2.053188\n",
      "0.06872914\n",
      "-0.63041925\n",
      "1.8338939\n",
      "-0.40432212\n",
      "-1.3358276\n",
      "-0.5850438\n",
      "-1.3771974\n",
      "-0.83987033\n",
      "-0.0033658296\n",
      "-0.8781502\n",
      "0.34844276\n",
      "0.38170207\n",
      "0.1939728\n",
      "0.0761313\n",
      "-0.014468401\n",
      "1.7651058\n",
      "-1.2850012\n",
      "0.6060571\n",
      "0.1882632\n",
      "0.08296634\n",
      "0.23869254\n",
      "-1.697731\n"
     ]
    }
   ],
   "source": [
    "for (i <- 0 until 25) {\n",
    "    println(weightHostBuffer.get(i))\n",
    "}"
   ]
  },
  {
   "cell_type": "code",
   "execution_count": 36,
   "metadata": {},
   "outputs": [
    {
     "data": {
      "text/plain": [
       "\u001b[36minputDeviceBuffer\u001b[39m: \u001b[32mOpenCL\u001b[39m.\u001b[32mBuffer\u001b[39m[\u001b[32mFloat\u001b[39m] = com.thoughtworks.compute.OpenCL$Buffer@22c478d1"
      ]
     },
     "execution_count": 36,
     "metadata": {},
     "output_type": "execute_result"
    }
   ],
   "source": [
    "val inputDeviceBuffer = dataDeviceBuffer.view(0, BatchSize * Width * Height * 3)"
   ]
  },
  {
   "cell_type": "code",
   "execution_count": 37,
   "metadata": {},
   "outputs": [
    {
     "data": {
      "text/plain": [
       "\u001b[36mscoreDataDeviceBuffer\u001b[39m: \u001b[32mOpenCL\u001b[39m.\u001b[32mBuffer\u001b[39m[\u001b[32mFloat\u001b[39m] = com.thoughtworks.compute.OpenCL$Buffer@7a56c002"
      ]
     },
     "execution_count": 37,
     "metadata": {},
     "output_type": "execute_result"
    }
   ],
   "source": [
    "val scoreDataDeviceBuffer = dataDeviceBuffer.view(BatchSize * Width * Height * (NumberOfCells - NumberOfClasses), BatchSize * Width * Height * NumberOfClasses)"
   ]
  },
  {
   "cell_type": "code",
   "execution_count": 38,
   "metadata": {},
   "outputs": [
    {
     "data": {
      "text/plain": [
       "\u001b[36mscoreDeltaDeviceBuffer\u001b[39m: \u001b[32mOpenCL\u001b[39m.\u001b[32mBuffer\u001b[39m[\u001b[32mFloat\u001b[39m] = com.thoughtworks.compute.OpenCL$Buffer@5cd66f7d"
      ]
     },
     "execution_count": 38,
     "metadata": {},
     "output_type": "execute_result"
    }
   ],
   "source": [
    "val scoreDeltaDeviceBuffer = deltaDeviceBuffer.view(BatchSize * Width * Height * (NumberOfCells - NumberOfClasses), BatchSize * Width * Height * NumberOfClasses)"
   ]
  },
  {
   "cell_type": "code",
   "execution_count": 39,
   "metadata": {},
   "outputs": [
    {
     "data": {
      "text/plain": [
       "\u001b[36mlossDeviceBuffer\u001b[39m: \u001b[32mOpenCL\u001b[39m.\u001b[32mBuffer\u001b[39m[\u001b[32mFloat\u001b[39m] = com.thoughtworks.compute.OpenCL$Buffer@252dca1d"
      ]
     },
     "execution_count": 39,
     "metadata": {},
     "output_type": "execute_result"
    }
   ],
   "source": [
    "val lossDeviceBuffer = context.createUninitializedBuffer[Float](BatchSize)"
   ]
  },
  {
   "cell_type": "code",
   "execution_count": 40,
   "metadata": {},
   "outputs": [
    {
     "data": {
      "text/plain": [
       "\u001b[36mpredictionDeviceBuffer\u001b[39m: \u001b[32mOpenCL\u001b[39m.\u001b[32mBuffer\u001b[39m[\u001b[32mFloat\u001b[39m] = com.thoughtworks.compute.OpenCL$Buffer@4760bc12"
      ]
     },
     "execution_count": 40,
     "metadata": {},
     "output_type": "execute_result"
    }
   ],
   "source": [
    "val predictionDeviceBuffer = context.createUninitializedBuffer[Float](BatchSize)"
   ]
  },
  {
   "cell_type": "code",
   "execution_count": 41,
   "metadata": {},
   "outputs": [
    {
     "data": {
      "text/plain": [
       "\u001b[36mlabelDeviceBuffer\u001b[39m: \u001b[32mOpenCL\u001b[39m.\u001b[32mBuffer\u001b[39m[\u001b[32mFloat\u001b[39m] = com.thoughtworks.compute.OpenCL$Buffer@d1e6300"
      ]
     },
     "execution_count": 41,
     "metadata": {},
     "output_type": "execute_result"
    }
   ],
   "source": [
    "val labelDeviceBuffer = context.createUninitializedBuffer[Float](BatchSize)"
   ]
  },
  {
   "cell_type": "code",
   "execution_count": 42,
   "metadata": {},
   "outputs": [
    {
     "data": {
      "text/plain": [
       "\u001b[36moutputLabelDeviceBuffer\u001b[39m: \u001b[32mOpenCL\u001b[39m.\u001b[32mBuffer\u001b[39m[\u001b[32mByte\u001b[39m] = com.thoughtworks.compute.OpenCL$Buffer@32151bc1"
      ]
     },
     "execution_count": 42,
     "metadata": {},
     "output_type": "execute_result"
    }
   ],
   "source": [
    "val outputLabelDeviceBuffer = context.createUninitializedBuffer[Byte](BatchSize)"
   ]
  },
  {
   "cell_type": "code",
   "execution_count": 43,
   "metadata": {},
   "outputs": [
    {
     "data": {
      "text/plain": [
       "\u001b[36mplainFiberDeviceBuffer\u001b[39m: \u001b[32mOpenCL\u001b[39m.\u001b[32mBuffer\u001b[39m[\u001b[32mShort\u001b[39m] = com.thoughtworks.compute.OpenCL$Buffer@7d4b20fe"
      ]
     },
     "execution_count": 43,
     "metadata": {},
     "output_type": "execute_result"
    }
   ],
   "source": [
    "val plainFiberDeviceBuffer = {\n",
    "    val fiberHostBuffer = MemoryUtil.memAllocShort(allFibers.length * 4)\n",
    "    try {\n",
    "        for (fiber <- allFibers) {\n",
    "            fiberHostBuffer.put(fiber.offsetX.toShort)\n",
    "            fiberHostBuffer.put(fiber.offsetY.toShort)\n",
    "            fiberHostBuffer.put(fiber.inputCellIndex.toShort)\n",
    "            fiberHostBuffer.put(fiber.outputCellIndex.toShort)\n",
    "        }\n",
    "        fiberHostBuffer.position(0)\n",
    "        context.createBufferFrom[Short, java.nio.ShortBuffer](fiberHostBuffer)\n",
    "    } finally {\n",
    "        MemoryUtil.memFree(fiberHostBuffer)\n",
    "    }\n",
    "}"
   ]
  },
  {
   "cell_type": "code",
   "execution_count": 44,
   "metadata": {
    "scrolled": true
   },
   "outputs": [
    {
     "data": {
      "text/plain": [
       "\u001b[36mepochIndices\u001b[39m: \u001b[32mIterator\u001b[39m[\u001b[32mIndexedSeq\u001b[39m[\u001b[32mInt\u001b[39m]] = non-empty iterator"
      ]
     },
     "execution_count": 44,
     "metadata": {},
     "output_type": "execute_result"
    }
   ],
   "source": [
    "val epochIndices = util.Random.shuffle(0 until NumberOfTrainingSamples: IndexedSeq[Int]).grouped(BatchSize)"
   ]
  },
  {
   "cell_type": "markdown",
   "metadata": {},
   "source": [
    "## Per iteration"
   ]
  },
  {
   "cell_type": "code",
   "execution_count": 45,
   "metadata": {},
   "outputs": [
    {
     "data": {
      "text/plain": [
       "\u001b[36mbatchIndices\u001b[39m: \u001b[32mIndexedSeq\u001b[39m[\u001b[32mInt\u001b[39m] = \u001b[33mVector\u001b[39m(\n",
       "  \u001b[32m43821\u001b[39m,\n",
       "  \u001b[32m31665\u001b[39m,\n",
       "  \u001b[32m16826\u001b[39m,\n",
       "  \u001b[32m26274\u001b[39m,\n",
       "  \u001b[32m9342\u001b[39m,\n",
       "  \u001b[32m1558\u001b[39m,\n",
       "  \u001b[32m9027\u001b[39m,\n",
       "  \u001b[32m48206\u001b[39m,\n",
       "  \u001b[32m20806\u001b[39m,\n",
       "  \u001b[32m44088\u001b[39m,\n",
       "  \u001b[32m34530\u001b[39m,\n",
       "\u001b[33m...\u001b[39m"
      ]
     },
     "execution_count": 45,
     "metadata": {},
     "output_type": "execute_result"
    }
   ],
   "source": [
    "val batchIndices = epochIndices.next"
   ]
  },
  {
   "cell_type": "code",
   "execution_count": 46,
   "metadata": {},
   "outputs": [
    {
     "data": {
      "text/plain": [
       "\u001b[36minputHostBuffer\u001b[39m: \u001b[32mjava\u001b[39m.\u001b[32mnio\u001b[39m.\u001b[32mFloatBuffer\u001b[39m = java.nio.DirectFloatBufferU[pos=0 lim=393216 cap=393216]"
      ]
     },
     "execution_count": 46,
     "metadata": {},
     "output_type": "execute_result"
    }
   ],
   "source": [
    "val inputHostBuffer = MemoryUtil.memAllocFloat(inputDeviceBuffer.length)"
   ]
  },
  {
   "cell_type": "code",
   "execution_count": 47,
   "metadata": {
    "scrolled": true
   },
   "outputs": [
    {
     "data": {
      "text/plain": [
       "\u001b[36mlabelHostBuffer\u001b[39m: \u001b[32mjava\u001b[39m.\u001b[32mnio\u001b[39m.\u001b[32mFloatBuffer\u001b[39m = java.nio.DirectFloatBufferU[pos=0 lim=128 cap=128]"
      ]
     },
     "execution_count": 47,
     "metadata": {},
     "output_type": "execute_result"
    }
   ],
   "source": [
    "val labelHostBuffer = MemoryUtil.memAllocFloat(labelDeviceBuffer.length)"
   ]
  },
  {
   "cell_type": "code",
   "execution_count": 48,
   "metadata": {},
   "outputs": [
    {
     "data": {
      "text/plain": [
       "defined \u001b[32mfunction\u001b[39m \u001b[36mfillImageHostBuffer\u001b[39m"
      ]
     },
     "execution_count": 48,
     "metadata": {},
     "output_type": "execute_result"
    }
   ],
   "source": [
    "def fillImageHostBuffer(): Unit = {\n",
    "    val imageSize = 1 + Width * Height * NumberOfInputChannels\n",
    "    val imageArray = Array.ofDim[Byte](imageSize)\n",
    "    val channelArray = Array.ofDim[Float](Width * Height)\n",
    "    for ((trainingImageIndex, i) <- batchIndices.view.zipWithIndex) {\n",
    "        val trainingHostBuffer = trainingHostBuffers(trainingImageIndex / NumberOfTrainingSamplesPerFile)\n",
    "        val imageOffsetInFile = imageSize * (trainingImageIndex % NumberOfTrainingSamplesPerFile)\n",
    "        trainingHostBuffer.position(imageOffsetInFile)\n",
    "        trainingHostBuffer.get(imageArray)\n",
    "        labelHostBuffer.put(i, imageArray(0))\n",
    "        for (channel <- 0 until NumberOfInputChannels) {\n",
    "            for (xy <- 0 until (Width * Height)) {\n",
    "                channelArray(xy) = ((imageArray(1 + channel * Width * Height + xy) & 0xFF).toFloat + 0.5f) / 256.0f\n",
    "            }\n",
    "            inputHostBuffer.position((channel * BatchSize + i) * Width * Height)\n",
    "            inputHostBuffer.put(channelArray)\n",
    "        }\n",
    "    }\n",
    "    inputHostBuffer.position(0)\n",
    "}"
   ]
  },
  {
   "cell_type": "code",
   "execution_count": 49,
   "metadata": {
    "collapsed": true
   },
   "outputs": [],
   "source": [
    "fillImageHostBuffer()"
   ]
  },
  {
   "cell_type": "code",
   "execution_count": 50,
   "metadata": {
    "scrolled": true
   },
   "outputs": [
    {
     "data": {
      "text/plain": [
       "defined \u001b[32mfunction\u001b[39m \u001b[36mwriteInputBuffer\u001b[39m"
      ]
     },
     "execution_count": 50,
     "metadata": {},
     "output_type": "execute_result"
    }
   ],
   "source": [
    "def writeInputBuffer() = {\n",
    "    val event = commandQueue.enqueueWriteBuffer(inputDeviceBuffer, inputHostBuffer)\n",
    "    try {\n",
    "        event.waitForComplete.blockingAwait\n",
    "    } finally {\n",
    "        event.close()\n",
    "    }\n",
    "}"
   ]
  },
  {
   "cell_type": "code",
   "execution_count": 51,
   "metadata": {
    "collapsed": true
   },
   "outputs": [],
   "source": [
    "writeInputBuffer()"
   ]
  },
  {
   "cell_type": "code",
   "execution_count": 52,
   "metadata": {},
   "outputs": [
    {
     "data": {
      "text/plain": [
       "defined \u001b[32mfunction\u001b[39m \u001b[36mwriteLabelBuffer\u001b[39m"
      ]
     },
     "execution_count": 52,
     "metadata": {},
     "output_type": "execute_result"
    }
   ],
   "source": [
    "def writeLabelBuffer() = {\n",
    "    val event = commandQueue.enqueueWriteBuffer(labelDeviceBuffer, labelHostBuffer)\n",
    "    try {\n",
    "        event.waitForComplete.blockingAwait\n",
    "    } finally {\n",
    "        event.close()\n",
    "    }\n",
    "}"
   ]
  },
  {
   "cell_type": "code",
   "execution_count": 53,
   "metadata": {
    "collapsed": true
   },
   "outputs": [],
   "source": [
    "writeLabelBuffer()"
   ]
  },
  {
   "cell_type": "markdown",
   "metadata": {},
   "source": [
    "### Compute mean and bias for one cell"
   ]
  },
  {
   "cell_type": "code",
   "execution_count": 54,
   "metadata": {},
   "outputs": [
    {
     "data": {
      "text/plain": [
       "\u001b[36mvarianceHostBuffer\u001b[39m: \u001b[32mjava\u001b[39m.\u001b[32mnio\u001b[39m.\u001b[32mFloatBuffer\u001b[39m = java.nio.DirectFloatBufferU[pos=0 lim=13 cap=13]"
      ]
     },
     "execution_count": 54,
     "metadata": {},
     "output_type": "execute_result"
    }
   ],
   "source": [
    "val varianceHostBuffer = MemoryUtil.memAllocFloat(NumberOfCells)"
   ]
  },
  {
   "cell_type": "code",
   "execution_count": 55,
   "metadata": {},
   "outputs": [
    {
     "data": {
      "text/plain": [
       "\u001b[36mbiasHostBuffer\u001b[39m: \u001b[32mjava\u001b[39m.\u001b[32mnio\u001b[39m.\u001b[32mFloatBuffer\u001b[39m = java.nio.DirectFloatBufferU[pos=0 lim=13 cap=13]"
      ]
     },
     "execution_count": 55,
     "metadata": {},
     "output_type": "execute_result"
    }
   ],
   "source": [
    "val biasHostBuffer = MemoryUtil.memAllocFloat(NumberOfCells)"
   ]
  },
  {
   "cell_type": "code",
   "execution_count": 56,
   "metadata": {},
   "outputs": [
    {
     "data": {
      "text/plain": [
       "\u001b[36mimageSumDeviceBuffer\u001b[39m: \u001b[32mOpenCL\u001b[39m.\u001b[32mBuffer\u001b[39m[\u001b[32mFloat\u001b[39m] = com.thoughtworks.compute.OpenCL$Buffer@2ad917b5"
      ]
     },
     "execution_count": 56,
     "metadata": {},
     "output_type": "execute_result"
    }
   ],
   "source": [
    "val imageSumDeviceBuffer = context.createUninitializedBuffer[Float](BatchSize)"
   ]
  },
  {
   "cell_type": "code",
   "execution_count": 57,
   "metadata": {},
   "outputs": [
    {
     "data": {
      "text/plain": [
       "\u001b[36msquareSumDeviceBuffer\u001b[39m: \u001b[32mOpenCL\u001b[39m.\u001b[32mBuffer\u001b[39m[\u001b[32mFloat\u001b[39m] = com.thoughtworks.compute.OpenCL$Buffer@1dcf128a"
      ]
     },
     "execution_count": 57,
     "metadata": {},
     "output_type": "execute_result"
    }
   ],
   "source": [
    "val squareSumDeviceBuffer = context.createUninitializedBuffer[Float](BatchSize)"
   ]
  },
  {
   "cell_type": "code",
   "execution_count": 58,
   "metadata": {},
   "outputs": [
    {
     "data": {
      "text/plain": [
       "\u001b[36mdataHostBuffer\u001b[39m: \u001b[32mjava\u001b[39m.\u001b[32mnio\u001b[39m.\u001b[32mFloatBuffer\u001b[39m = java.nio.DirectFloatBufferU[pos=0 lim=1703936 cap=1703936]\n",
       "defined \u001b[32mfunction\u001b[39m \u001b[36mreadDataBuffer\u001b[39m"
      ]
     },
     "execution_count": 58,
     "metadata": {},
     "output_type": "execute_result"
    }
   ],
   "source": [
    "val dataHostBuffer = MemoryUtil.memAllocFloat(dataDeviceBuffer.length)\n",
    "\n",
    "def readDataBuffer() = {\n",
    "    val event = commandQueue.enqueueReadBuffer(dataDeviceBuffer, dataHostBuffer)\n",
    "    try {\n",
    "        event.waitForComplete.blockingAwait\n",
    "    } finally {\n",
    "        event.close()\n",
    "    }\n",
    "}"
   ]
  },
  {
   "cell_type": "code",
   "execution_count": 59,
   "metadata": {
    "scrolled": false
   },
   "outputs": [
    {
     "name": "stdout",
     "output_type": "stream",
     "text": [
      "variance: 0.6048865\n",
      "mean: 0.20737793\n",
      "bias: -0.34283775\n",
      "before adjust\n",
      "0.70224833\n",
      "0.7857063\n",
      "0.5550982\n",
      "0.33304548\n",
      "0.6239101\n",
      "0.19953585\n",
      "1.9521132\n",
      "0.007285714\n",
      "0.6054884\n",
      "0.9258432\n",
      "1.3573508\n",
      "0.2784232\n",
      "1.2907728\n",
      "-0.5558061\n",
      "after adjust:\n",
      "0.81812114\n",
      "0.9560941\n",
      "0.5748521\n",
      "0.20775396\n",
      "0.6886122\n",
      "0.0\n",
      "2.884401\n",
      "0.0\n",
      "0.6581574\n",
      "1.1877688\n",
      "1.9011384\n",
      "0.11745223\n",
      "1.7910714\n",
      "0.0\n"
     ]
    }
   ],
   "source": [
    "for ((outputCellIndex, fibers) <- fibersByOutputCellIndex.toSeq.sortBy(_._1)) {\n",
    "    val forwardSumKernel = program.createKernel(\"forward_sum\")\n",
    "    try {\n",
    "        forwardSumKernel.setArg(0, dataDeviceBuffer)\n",
    "        forwardSumKernel.setArg(1, weightDeviceBuffer)\n",
    "        forwardSumKernel.setArg(2, Address(outputCellIndex))\n",
    "        forwardSumKernel.setArg(3, Address(fibers.length))\n",
    "        assert(fibers.nonEmpty)\n",
    "\n",
    "        val plainFiberDeviceBuffer = {\n",
    "            val fiberHostBuffer = MemoryUtil.memAllocShort(fibers.length * 4)\n",
    "            try {\n",
    "                for (pair <- fibers) {\n",
    "                    val (fiber, weightIndex) = pair\n",
    "                    fiberHostBuffer.put(fiber.offsetX.toShort)\n",
    "                    fiberHostBuffer.put(fiber.offsetY.toShort)\n",
    "                    fiberHostBuffer.put(fiber.inputCellIndex.toShort)\n",
    "                    fiberHostBuffer.put(weightIndex.toShort)\n",
    "                }\n",
    "                fiberHostBuffer.position(0)\n",
    "                context.createBufferFrom[Short, java.nio.ShortBuffer](fiberHostBuffer)\n",
    "            } finally {\n",
    "                MemoryUtil.memFree(fiberHostBuffer)\n",
    "            }\n",
    "        }\n",
    "        try {\n",
    "            forwardSumKernel.setArg(4, plainFiberDeviceBuffer)\n",
    "            forwardSumKernel.setArg(5, imageSumDeviceBuffer)\n",
    "            val event = commandQueue.enqueueNDRangeKernel(forwardSumKernel, Seq(GlobalWorkSizeOnlyDimension(Address(BatchSize))))\n",
    "            try {\n",
    "                event.waitForComplete.blockingAwait\n",
    "            } finally {\n",
    "                event.close()\n",
    "            }\n",
    "        } finally {\n",
    "            plainFiberDeviceBuffer.close()\n",
    "        }\n",
    "    } finally {\n",
    "        forwardSumKernel.close()\n",
    "    }\n",
    "\n",
    "    val imageSumArray = {\n",
    "        val imageSumHostBuffer = MemoryUtil.memAllocFloat(imageSumDeviceBuffer.length)\n",
    "        try {\n",
    "            val event = commandQueue.enqueueReadBuffer(imageSumDeviceBuffer, imageSumHostBuffer)\n",
    "            try {\n",
    "                event.waitForComplete.blockingAwait\n",
    "            } finally {\n",
    "                event.close()\n",
    "            }\n",
    "\n",
    "            val array = Array.ofDim[Float](imageSumHostBuffer.remaining)\n",
    "            imageSumHostBuffer.get(array)\n",
    "            array\n",
    "        } finally {\n",
    "            MemoryUtil.memFree(imageSumHostBuffer)\n",
    "        }\n",
    "    }\n",
    "\n",
    "    val outputMean: Float = imageSumArray.sum / (Width * Height * BatchSize)\n",
    "\n",
    "    val squareSumKernel = program.createKernel(\"square_sum\")\n",
    "    try {\n",
    "        squareSumKernel.setArg(0, dataDeviceBuffer)\n",
    "        squareSumKernel.setArg(1, outputMean)\n",
    "        squareSumKernel.setArg(2, Address(outputCellIndex))\n",
    "        squareSumKernel.setArg(3, squareSumDeviceBuffer)\n",
    "        val event = commandQueue.enqueueNDRangeKernel(squareSumKernel, Seq(GlobalWorkSizeOnlyDimension(Address(BatchSize))))\n",
    "        try {\n",
    "            event.waitForComplete.blockingAwait\n",
    "        } finally {\n",
    "            event.close()\n",
    "        }\n",
    "\n",
    "    } finally {\n",
    "        squareSumKernel.close()\n",
    "    }\n",
    "\n",
    "    val squareSumArray = {\n",
    "        val squareSumHostBuffer = MemoryUtil.memAllocFloat(squareSumDeviceBuffer.length)\n",
    "        try {\n",
    "            val event = commandQueue.enqueueReadBuffer(squareSumDeviceBuffer, squareSumHostBuffer)\n",
    "            try {\n",
    "                event.waitForComplete.blockingAwait\n",
    "            } finally {\n",
    "                event.close()\n",
    "            }\n",
    "\n",
    "            val array = Array.ofDim[Float](squareSumHostBuffer.remaining)\n",
    "            squareSumHostBuffer.get(array)\n",
    "            array\n",
    "        } finally {\n",
    "            MemoryUtil.memFree(squareSumHostBuffer)\n",
    "        }\n",
    "    }\n",
    "    val variance = math.sqrt(squareSumArray.sum / (Width * Height * BatchSize)).toFloat\n",
    "    varianceHostBuffer.put(outputCellIndex, variance)\n",
    "    val bias: Float = -outputMean / variance\n",
    "    biasHostBuffer.put(outputCellIndex, bias)\n",
    "    if (outputCellIndex == 3) {\n",
    "        println(s\"variance: $variance\")\n",
    "        println(s\"mean: $outputMean\")\n",
    "        println(s\"bias: $bias\")\n",
    "        readDataBuffer()\n",
    "        println(\"before adjust\")\n",
    "        val start = (3 * BatchSize) * Width * Height\n",
    "        (start until start + BatchSize * Width * Height by 10000).map(dataHostBuffer.get).foreach(println)\n",
    "    }\n",
    "\n",
    "    val adjustDataKernel = program.createKernel(\"adjust_data\")\n",
    "    try {\n",
    "        adjustDataKernel.setArg(0, dataDeviceBuffer)\n",
    "        adjustDataKernel.setArg(1, Address(outputCellIndex))\n",
    "        adjustDataKernel.setArg(2, variance)\n",
    "        adjustDataKernel.setArg(3, outputMean)\n",
    "        val event = commandQueue.enqueueNDRangeKernel(\n",
    "            adjustDataKernel, \n",
    "            Seq(\n",
    "                GlobalWorkSizeOnlyDimension(Address(BatchSize)),\n",
    "                GlobalWorkSizeOnlyDimension(Address(Width)),\n",
    "                GlobalWorkSizeOnlyDimension(Address(Height))\n",
    "            )\n",
    "        )\n",
    "        try {\n",
    "            event.waitForComplete.blockingAwait\n",
    "        } finally {\n",
    "            event.close()\n",
    "        }\n",
    "\n",
    "    } finally {\n",
    "        adjustDataKernel.close()\n",
    "    }\n",
    "\n",
    "    if (outputCellIndex == 3) {\n",
    "        readDataBuffer()\n",
    "        println(\"after adjust:\")\n",
    "        val start = (3 * BatchSize) * Width * Height\n",
    "        (start until start + BatchSize * Width * Height by 10000).map(dataHostBuffer.get).foreach(println)\n",
    "    }\n",
    "}"
   ]
  },
  {
   "cell_type": "code",
   "execution_count": 59,
   "metadata": {
    "collapsed": true
   },
   "outputs": [],
   "source": [
    "// val scoreDataHostBuffer = MemoryUtil.memAllocFloat(scoreDataDeviceBuffer.length)\n",
    "\n",
    "// def readScoreDataBuffer() = {\n",
    "//     val event = commandQueue.enqueueReadBuffer(scoreDataDeviceBuffer, scoreDataHostBuffer)\n",
    "//     try {\n",
    "//         event.waitForComplete.blockingAwait\n",
    "//     } finally {\n",
    "//         event.close()\n",
    "//     }\n",
    "// }\n",
    "\n",
    "// readScoreDataBuffer()"
   ]
  },
  {
   "cell_type": "code",
   "execution_count": 59,
   "metadata": {
    "collapsed": true
   },
   "outputs": [],
   "source": [
    "// readScoreDataBuffer()\n",
    "// (0 until scoreDataHostBuffer.remaining by 10000).map(scoreDataHostBuffer.get).foreach(println)"
   ]
  },
  {
   "cell_type": "code",
   "execution_count": 60,
   "metadata": {
    "scrolled": true
   },
   "outputs": [
    {
     "data": {
      "text/plain": [
       "\u001b[36mevent\u001b[39m: \u001b[32mOpenCL\u001b[39m.\u001b[32mEvent\u001b[39m = com.thoughtworks.compute.OpenCL$Event@115f2adc"
      ]
     },
     "execution_count": 60,
     "metadata": {},
     "output_type": "execute_result"
    }
   ],
   "source": [
    "// adjust bias\n",
    "val event = commandQueue.enqueueWriteBuffer(biasDeviceBuffer, biasHostBuffer)\n",
    "try {\n",
    "    event.waitForComplete.blockingAwait\n",
    "} finally {\n",
    "    event.close()\n",
    "}"
   ]
  },
  {
   "cell_type": "code",
   "execution_count": 61,
   "metadata": {},
   "outputs": [
    {
     "data": {
      "text/plain": [
       "\u001b[36mvarianceDeviceBuffer\u001b[39m: \u001b[32mOpenCL\u001b[39m.\u001b[32mBuffer\u001b[39m[\u001b[32mFloat\u001b[39m] = com.thoughtworks.compute.OpenCL$Buffer@1e690591"
      ]
     },
     "execution_count": 61,
     "metadata": {},
     "output_type": "execute_result"
    }
   ],
   "source": [
    "// adjust weight\n",
    "val varianceDeviceBuffer = context.createBufferFrom(varianceHostBuffer)\n",
    "try {\n",
    "    val adjustWeightKernel = program.createKernel(\"adjust_weight\")\n",
    "    try {\n",
    "        adjustWeightKernel.setArg(0, weightDeviceBuffer)\n",
    "        adjustWeightKernel.setArg(1, varianceDeviceBuffer)\n",
    "        adjustWeightKernel.setArg(2, plainFiberDeviceBuffer)\n",
    "        val event = commandQueue.enqueueNDRangeKernel(adjustWeightKernel, Seq(GlobalWorkSizeOnlyDimension(Address(NumberOfCells))))\n",
    "        try {\n",
    "            event.waitForComplete.blockingAwait\n",
    "        } finally {\n",
    "            event.close()\n",
    "        }\n",
    "    } finally {\n",
    "        adjustWeightKernel.close()\n",
    "    }\n",
    "} finally {\n",
    "    varianceDeviceBuffer.close()\n",
    "}\n"
   ]
  },
  {
   "cell_type": "code",
   "execution_count": 62,
   "metadata": {
    "collapsed": true
   },
   "outputs": [],
   "source": [
    "readDataBuffer()"
   ]
  },
  {
   "cell_type": "code",
   "execution_count": 63,
   "metadata": {},
   "outputs": [
    {
     "name": "stdout",
     "output_type": "stream",
     "text": [
      "0.81812114\n",
      "0.9560941\n",
      "0.5748521\n",
      "0.20775396\n",
      "0.6886122\n",
      "0.0\n",
      "2.884401\n",
      "0.0\n",
      "0.6581574\n",
      "1.1877688\n",
      "1.9011384\n",
      "0.11745223\n",
      "1.7910714\n",
      "0.0\n"
     ]
    },
    {
     "data": {
      "text/plain": [
       "\u001b[36mstart\u001b[39m: \u001b[32mInt\u001b[39m = \u001b[32m393216\u001b[39m"
      ]
     },
     "execution_count": 63,
     "metadata": {},
     "output_type": "execute_result"
    }
   ],
   "source": [
    "val start = (3 * BatchSize) * Width * Height\n",
    "(start until start + BatchSize * Width * Height by 10000).map(dataHostBuffer.get).foreach(println)"
   ]
  },
  {
   "cell_type": "code",
   "execution_count": 64,
   "metadata": {
    "scrolled": false
   },
   "outputs": [
    {
     "name": "stdout",
     "output_type": "stream",
     "text": [
      "0.0\n",
      "0.0\n",
      "0.0\n",
      "0.7902132\n",
      "0.0\n",
      "0.2487182\n",
      "0.0\n",
      "0.0\n",
      "0.0\n",
      "0.0\n",
      "0.0\n",
      "0.0\n",
      "0.0\n",
      "0.0\n"
     ]
    },
    {
     "data": {
      "text/plain": [
       "\u001b[36mstart\u001b[39m: \u001b[32mInt\u001b[39m = \u001b[32m524288\u001b[39m"
      ]
     },
     "execution_count": 64,
     "metadata": {},
     "output_type": "execute_result"
    }
   ],
   "source": [
    "val start = (4 * BatchSize) * Width * Height\n",
    "(start until start + BatchSize * Width * Height by 10000).map(dataHostBuffer.get).foreach(println)"
   ]
  },
  {
   "cell_type": "code",
   "execution_count": 65,
   "metadata": {
    "scrolled": false
   },
   "outputs": [
    {
     "name": "stdout",
     "output_type": "stream",
     "text": [
      "0.039775297\n",
      "0.15362167\n",
      "0.0\n",
      "0.5281963\n",
      "0.0\n",
      "0.36276716\n",
      "0.0\n",
      "0.0\n",
      "0.0\n",
      "0.12410399\n",
      "0.0\n",
      "0.33479849\n",
      "0.0\n",
      "0.0\n"
     ]
    },
    {
     "data": {
      "text/plain": [
       "\u001b[36mstart\u001b[39m: \u001b[32mInt\u001b[39m = \u001b[32m655360\u001b[39m"
      ]
     },
     "execution_count": 65,
     "metadata": {},
     "output_type": "execute_result"
    }
   ],
   "source": [
    "val start = (5 * BatchSize) * Width * Height\n",
    "(start until start + BatchSize * Width * Height by 10000).map(dataHostBuffer.get).foreach(println)"
   ]
  },
  {
   "cell_type": "code",
   "execution_count": 66,
   "metadata": {},
   "outputs": [
    {
     "data": {
      "text/plain": [
       "\u001b[36mforwardKernels\u001b[39m: \u001b[32mSeq\u001b[39m[(\u001b[32mInt\u001b[39m, \u001b[32mOpenCL\u001b[39m.\u001b[32mKernel\u001b[39m)] = \u001b[33mVector\u001b[39m(\n",
       "  (\u001b[32m3\u001b[39m, com.thoughtworks.compute.OpenCL$Kernel@1732c3b),\n",
       "  (\u001b[32m4\u001b[39m, com.thoughtworks.compute.OpenCL$Kernel@50eb013b),\n",
       "  (\u001b[32m5\u001b[39m, com.thoughtworks.compute.OpenCL$Kernel@17e2538d),\n",
       "  (\u001b[32m6\u001b[39m, com.thoughtworks.compute.OpenCL$Kernel@bf5b57),\n",
       "  (\u001b[32m7\u001b[39m, com.thoughtworks.compute.OpenCL$Kernel@1835ad8f),\n",
       "  (\u001b[32m8\u001b[39m, com.thoughtworks.compute.OpenCL$Kernel@105f956b),\n",
       "  (\u001b[32m9\u001b[39m, com.thoughtworks.compute.OpenCL$Kernel@15a4c2d6),\n",
       "  (\u001b[32m10\u001b[39m, com.thoughtworks.compute.OpenCL$Kernel@6fbb46d6),\n",
       "  (\u001b[32m11\u001b[39m, com.thoughtworks.compute.OpenCL$Kernel@5a57c77b),\n",
       "  (\u001b[32m12\u001b[39m, com.thoughtworks.compute.OpenCL$Kernel@36cfe597)\n",
       ")"
      ]
     },
     "execution_count": 66,
     "metadata": {},
     "output_type": "execute_result"
    }
   ],
   "source": [
    "val forwardKernels = fibersByOutputCellIndex.toSeq.sortBy(_._1).map {\n",
    "    case (outputCellIndex, fibers) =>\n",
    "        val forwardKernel = program.createKernel(\"forward\")\n",
    "        forwardKernel.setArg(0, dataDeviceBuffer)\n",
    "        forwardKernel.setArg(1, weightDeviceBuffer)\n",
    "        forwardKernel.setArg(2, biasDeviceBuffer)\n",
    "        forwardKernel.setArg(3, Address(outputCellIndex))\n",
    "        forwardKernel.setArg(4, Address(fibers.length))\n",
    "        assert(fibers.nonEmpty)\n",
    "\n",
    "        val fiberHostBuffer = MemoryUtil.memAllocShort(fibers.length * 4)\n",
    "        val plainFiberDeviceBuffer = try {\n",
    "            for (pair <- fibers) {\n",
    "                val (fiber, weightIndex) = pair\n",
    "                fiberHostBuffer.put(fiber.offsetX.toShort)\n",
    "                fiberHostBuffer.put(fiber.offsetY.toShort)\n",
    "                fiberHostBuffer.put(fiber.inputCellIndex.toShort)\n",
    "                fiberHostBuffer.put(weightIndex.toShort)\n",
    "            }\n",
    "            fiberHostBuffer.position(0)\n",
    "            context.createBufferFrom[Short, java.nio.ShortBuffer](fiberHostBuffer)\n",
    "        } finally {\n",
    "            MemoryUtil.memFree(fiberHostBuffer)\n",
    "        }\n",
    "        // TODO: clean up plainFiberDeviceBuffer\n",
    "        forwardKernel.setArg(5, plainFiberDeviceBuffer)\n",
    "        outputCellIndex -> forwardKernel\n",
    "}"
   ]
  },
  {
   "cell_type": "code",
   "execution_count": 67,
   "metadata": {
    "scrolled": true
   },
   "outputs": [
    {
     "data": {
      "text/plain": [
       "defined \u001b[32mfunction\u001b[39m \u001b[36mforward\u001b[39m"
      ]
     },
     "execution_count": 67,
     "metadata": {},
     "output_type": "execute_result"
    }
   ],
   "source": [
    "def forward() = {\n",
    "    for ((_, forwardKernel) <- forwardKernels) {\n",
    "        val event = commandQueue.enqueueNDRangeKernel(\n",
    "            forwardKernel,\n",
    "            Seq(\n",
    "                GlobalWorkSizeOnlyDimension(Address(BatchSize)),\n",
    "                GlobalWorkSizeOnlyDimension(Address(Width)),\n",
    "                GlobalWorkSizeOnlyDimension(Address(Height))\n",
    "            )\n",
    "        )\n",
    "        try {\n",
    "            event.waitForComplete.blockingAwait\n",
    "        } finally {\n",
    "            event.close()\n",
    "        }\n",
    "    }\n",
    "}"
   ]
  },
  {
   "cell_type": "code",
   "execution_count": 67,
   "metadata": {
    "collapsed": true
   },
   "outputs": [],
   "source": [
    "// val scoreDataHostBuffer = MemoryUtil.memAllocFloat(scoreDataDeviceBuffer.length)\n",
    "\n",
    "// def readScoreDataBuffer() = {\n",
    "//     val event = commandQueue.enqueueReadBuffer(scoreDataDeviceBuffer, scoreDataHostBuffer)\n",
    "//     try {\n",
    "//         event.waitForComplete.blockingAwait\n",
    "//     } finally {\n",
    "//         event.close()\n",
    "//     }\n",
    "// }"
   ]
  },
  {
   "cell_type": "code",
   "execution_count": 68,
   "metadata": {},
   "outputs": [],
   "source": [
    "forward()\n",
    "readDataBuffer()"
   ]
  },
  {
   "cell_type": "code",
   "execution_count": 69,
   "metadata": {
    "scrolled": true
   },
   "outputs": [
    {
     "name": "stdout",
     "output_type": "stream",
     "text": [
      "0.45502913\n",
      "0.12019235\n",
      "0.2669592\n",
      "0.0\n",
      "0.32909042\n",
      "0.0\n",
      "1.8218074\n",
      "0.0\n",
      "0.33071095\n",
      "0.66647404\n",
      "1.1685884\n",
      "0.0\n",
      "1.1220527\n",
      "0.0\n"
     ]
    },
    {
     "data": {
      "text/plain": [
       "\u001b[36mstart\u001b[39m: \u001b[32mInt\u001b[39m = \u001b[32m393216\u001b[39m"
      ]
     },
     "execution_count": 69,
     "metadata": {},
     "output_type": "execute_result"
    }
   ],
   "source": [
    "val start = (3 * BatchSize) * Width * Height\n",
    "(start until start + BatchSize * Width * Height by 10000).map(dataHostBuffer.get).foreach(println)"
   ]
  },
  {
   "cell_type": "code",
   "execution_count": 70,
   "metadata": {
    "scrolled": false
   },
   "outputs": [
    {
     "name": "stdout",
     "output_type": "stream",
     "text": [
      "0.0\n",
      "0.0\n",
      "0.21533561\n",
      "0.76272404\n",
      "0.0\n",
      "0.28348804\n",
      "0.0\n",
      "0.0\n",
      "0.0\n",
      "0.0\n",
      "0.0\n",
      "0.0\n",
      "0.0\n",
      "0.0\n"
     ]
    },
    {
     "data": {
      "text/plain": [
       "\u001b[36mstart\u001b[39m: \u001b[32mInt\u001b[39m = \u001b[32m524288\u001b[39m"
      ]
     },
     "execution_count": 70,
     "metadata": {},
     "output_type": "execute_result"
    }
   ],
   "source": [
    "val start = (4 * BatchSize) * Width * Height\n",
    "(start until start + BatchSize * Width * Height by 10000).map(dataHostBuffer.get).foreach(println)"
   ]
  },
  {
   "cell_type": "code",
   "execution_count": 71,
   "metadata": {
    "scrolled": false
   },
   "outputs": [
    {
     "name": "stdout",
     "output_type": "stream",
     "text": [
      "0.039775293\n",
      "0.03419415\n",
      "0.0\n",
      "0.08159823\n",
      "0.0\n",
      "0.31498542\n",
      "0.0\n",
      "0.0\n",
      "0.0\n",
      "0.08798424\n",
      "0.0\n",
      "0.2776224\n",
      "0.0\n",
      "0.0\n"
     ]
    },
    {
     "data": {
      "text/plain": [
       "\u001b[36mstart\u001b[39m: \u001b[32mInt\u001b[39m = \u001b[32m655360\u001b[39m"
      ]
     },
     "execution_count": 71,
     "metadata": {},
     "output_type": "execute_result"
    }
   ],
   "source": [
    "val start = (5 * BatchSize) * Width * Height\n",
    "(start until start + BatchSize * Width * Height by 10000).map(dataHostBuffer.get).foreach(println)"
   ]
  },
  {
   "cell_type": "code",
   "execution_count": 72,
   "metadata": {
    "scrolled": true
   },
   "outputs": [
    {
     "ename": "",
     "evalue": "",
     "output_type": "error",
     "traceback": [
      "\u001b[31mjava.lang.IndexOutOfBoundsException\u001b[39m",
      "  java.nio.Buffer.checkIndex(\u001b[32mBuffer.java\u001b[39m:\u001b[32m540\u001b[39m)",
      "  java.nio.DirectFloatBufferU.get(\u001b[32mDirectFloatBufferU.java\u001b[39m:\u001b[32m253\u001b[39m)",
      "  $sess.cmd71Wrapper$Helper.$anonfun$res71_1$1(\u001b[32mcmd71.sc\u001b[39m:\u001b[32m2\u001b[39m)",
      "  scala.runtime.java8.JFunction1$mcFI$sp.apply(\u001b[32mJFunction1$mcFI$sp.java\u001b[39m:\u001b[32m12\u001b[39m)",
      "  scala.collection.TraversableLike.$anonfun$map$1(\u001b[32mTraversableLike.scala\u001b[39m:\u001b[32m234\u001b[39m)",
      "  scala.collection.immutable.Range.foreach(\u001b[32mRange.scala\u001b[39m:\u001b[32m156\u001b[39m)",
      "  scala.collection.TraversableLike.map(\u001b[32mTraversableLike.scala\u001b[39m:\u001b[32m234\u001b[39m)",
      "  scala.collection.TraversableLike.map$(\u001b[32mTraversableLike.scala\u001b[39m:\u001b[32m227\u001b[39m)",
      "  scala.collection.AbstractTraversable.map(\u001b[32mTraversable.scala\u001b[39m:\u001b[32m104\u001b[39m)",
      "  $sess.cmd71Wrapper$Helper.<init>(\u001b[32mcmd71.sc\u001b[39m:\u001b[32m2\u001b[39m)",
      "  $sess.cmd71Wrapper.<init>(\u001b[32mcmd71.sc\u001b[39m:\u001b[32m1562\u001b[39m)",
      "  $sess.cmd71$.<init>(\u001b[32mcmd71.sc\u001b[39m:\u001b[32m1252\u001b[39m)",
      "  $sess.cmd71$.<clinit>(\u001b[32mcmd71.sc\u001b[39m:\u001b[32m-1\u001b[39m)"
     ]
    }
   ],
   "source": [
    "val start = (104 * BatchSize) * Width * Height\n",
    "(start until start + BatchSize * Width * Height by 5000).map(dataHostBuffer.get).foreach(println)"
   ]
  },
  {
   "cell_type": "code",
   "execution_count": 72,
   "metadata": {
    "collapsed": true,
    "scrolled": true
   },
   "outputs": [],
   "source": [
    "// forward()\n",
    "// readScoreDataBuffer()\n",
    "// (0 until scoreDataHostBuffer.remaining by 10000).map(scoreDataHostBuffer.get).foreach(println)"
   ]
  },
  {
   "cell_type": "code",
   "execution_count": 72,
   "metadata": {
    "collapsed": true
   },
   "outputs": [],
   "source": [
    "// forward()"
   ]
  },
  {
   "cell_type": "code",
   "execution_count": 73,
   "metadata": {},
   "outputs": [
    {
     "data": {
      "text/plain": [
       "\u001b[36mtrainLossKernel\u001b[39m: \u001b[32mOpenCL\u001b[39m.\u001b[32mKernel\u001b[39m = com.thoughtworks.compute.OpenCL$Kernel@5da883f5"
      ]
     },
     "execution_count": 73,
     "metadata": {},
     "output_type": "execute_result"
    }
   ],
   "source": [
    "val trainLossKernel = program.createKernel(\"train_loss\")\n",
    "trainLossKernel.setArg(0, scoreDataDeviceBuffer)\n",
    "trainLossKernel.setArg(1, scoreDeltaDeviceBuffer)\n",
    "trainLossKernel.setArg(2, labelDeviceBuffer)\n",
    "trainLossKernel.setArg(3, outputLabelDeviceBuffer)\n",
    "trainLossKernel.setArg(4, lossDeviceBuffer)"
   ]
  },
  {
   "cell_type": "code",
   "execution_count": 74,
   "metadata": {},
   "outputs": [
    {
     "data": {
      "text/plain": [
       "defined \u001b[32mfunction\u001b[39m \u001b[36mtrainLoss\u001b[39m"
      ]
     },
     "execution_count": 74,
     "metadata": {},
     "output_type": "execute_result"
    }
   ],
   "source": [
    "def trainLoss() = {\n",
    "    val event = commandQueue.enqueueNDRangeKernel(\n",
    "        trainLossKernel,\n",
    "        Seq(GlobalWorkSizeOnlyDimension(Address(BatchSize)))\n",
    "    )\n",
    "    try {\n",
    "        event.waitForComplete.blockingAwait\n",
    "    } finally {\n",
    "        event.close()\n",
    "    }\n",
    "}"
   ]
  },
  {
   "cell_type": "code",
   "execution_count": 75,
   "metadata": {},
   "outputs": [],
   "source": [
    "trainLoss()"
   ]
  },
  {
   "cell_type": "code",
   "execution_count": 76,
   "metadata": {},
   "outputs": [
    {
     "data": {
      "text/plain": [
       "\u001b[36mlossHostBuffer\u001b[39m: \u001b[32mjava\u001b[39m.\u001b[32mnio\u001b[39m.\u001b[32mFloatBuffer\u001b[39m = java.nio.DirectFloatBufferU[pos=0 lim=128 cap=128]"
      ]
     },
     "execution_count": 76,
     "metadata": {},
     "output_type": "execute_result"
    }
   ],
   "source": [
    "val lossHostBuffer = MemoryUtil.memAllocFloat(BatchSize)"
   ]
  },
  {
   "cell_type": "code",
   "execution_count": 77,
   "metadata": {},
   "outputs": [
    {
     "data": {
      "text/plain": [
       "defined \u001b[32mfunction\u001b[39m \u001b[36mreadLossBuffer\u001b[39m"
      ]
     },
     "execution_count": 77,
     "metadata": {},
     "output_type": "execute_result"
    }
   ],
   "source": [
    "def readLossBuffer() = {\n",
    "    val event = commandQueue.enqueueReadBuffer(lossDeviceBuffer, lossHostBuffer)\n",
    "    try {\n",
    "        event.waitForComplete.blockingAwait\n",
    "    } finally {\n",
    "        event.close()\n",
    "    }\n",
    "}"
   ]
  },
  {
   "cell_type": "code",
   "execution_count": 78,
   "metadata": {
    "collapsed": true
   },
   "outputs": [],
   "source": [
    "readLossBuffer()"
   ]
  },
  {
   "cell_type": "code",
   "execution_count": 79,
   "metadata": {},
   "outputs": [
    {
     "name": "stdout",
     "output_type": "stream",
     "text": [
      "Vector(10.090959, 10.5685215, 11.572321, 12.269662, 10.293652, 10.744263, 10.983626, 11.682019, 11.317798, 10.957105, 11.324724, 11.333087, 10.465978, 10.532978, 11.2317915, 11.337626, 10.524729, 10.313906, 12.952887, 12.195132, 10.666273, 10.535898, 10.9525795, 11.101895, 10.71709, 10.558373, 10.772389, 11.018353, 10.793601, 11.713428, 11.627486, 12.648255, 10.630194, 10.152284, 11.473705, 12.809134, 10.687435, 10.4216175, 11.85944, 11.077676, 10.3707485, 10.5252285, 12.376903, 11.438529, 10.0560255, 10.966158, 11.682762, 12.100243, 10.581263, 10.56718, 11.334279, 11.80784, 10.867891, 10.5381, 12.318851, 10.488797, 10.578674, 10.768175, 12.814366, 11.346563, 10.6239805, 10.760973, 11.345789, 11.425228, 10.432629, 10.529179, 11.076642, 11.9487505, 10.630016, 10.7525835, 12.648682, 11.64865, 11.128164, 10.681673, 11.096001, 11.184398, 10.760807, 10.309209, 10.411249, 10.91352, 10.442106, 10.327761, 12.256373, 11.218645, 10.934159, 10.567764, 10.914929, 12.388625, 10.51137, 10.288103, 11.51373, 11.740642, 10.466148, 10.282894, 11.337122, 10.854635, 10.814268, 10.902195, 11.947357, 12.955906, 10.45683, 10.761911, 11.175363, 12.900539, 10.642476, 10.3027725, 11.571416, 11.605001, 11.0327425, 10.435075, 11.132978, 11.006174, 10.551761, 10.752227, 12.282637, 11.409329, 10.590863, 10.896993, 10.322301, 10.342838, 10.76286, 10.099101, 10.533756, 11.696296, 10.761247, 10.297946, 11.1001835, 14.049645)\n"
     ]
    }
   ],
   "source": [
    "println(0 until 128 map lossHostBuffer.get)"
   ]
  },
  {
   "cell_type": "code",
   "execution_count": 80,
   "metadata": {},
   "outputs": [
    {
     "data": {
      "text/plain": [
       "defined \u001b[32mfunction\u001b[39m \u001b[36mmeanLoss\u001b[39m"
      ]
     },
     "execution_count": 80,
     "metadata": {},
     "output_type": "execute_result"
    }
   ],
   "source": [
    "def meanLoss = {\n",
    "    val lossArray = Array.ofDim[Float](BatchSize)\n",
    "    lossHostBuffer.get(lossArray)\n",
    "    lossHostBuffer.position(0)\n",
    "    lossArray.sum / NumberOfClasses / BatchSize\n",
    "}"
   ]
  },
  {
   "cell_type": "code",
   "execution_count": 81,
   "metadata": {},
   "outputs": [
    {
     "name": "stdout",
     "output_type": "stream",
     "text": [
      "1.1100658\n"
     ]
    }
   ],
   "source": [
    "println(meanLoss)"
   ]
  },
  {
   "cell_type": "code",
   "execution_count": 82,
   "metadata": {
    "scrolled": true
   },
   "outputs": [
    {
     "data": {
      "text/plain": [
       "\u001b[36moutputLabelHostBuffer\u001b[39m: \u001b[32mjava\u001b[39m.\u001b[32mnio\u001b[39m.\u001b[32mByteBuffer\u001b[39m = java.nio.DirectByteBuffer[pos=0 lim=128 cap=128]"
      ]
     },
     "execution_count": 82,
     "metadata": {},
     "output_type": "execute_result"
    }
   ],
   "source": [
    "val outputLabelHostBuffer = MemoryUtil.memAlloc(BatchSize)"
   ]
  },
  {
   "cell_type": "code",
   "execution_count": 83,
   "metadata": {},
   "outputs": [
    {
     "data": {
      "text/plain": [
       "defined \u001b[32mfunction\u001b[39m \u001b[36mreadOutputLabelBuffer\u001b[39m"
      ]
     },
     "execution_count": 83,
     "metadata": {},
     "output_type": "execute_result"
    }
   ],
   "source": [
    "def readOutputLabelBuffer() = {\n",
    "    val event = commandQueue.enqueueReadBuffer(outputLabelDeviceBuffer, outputLabelHostBuffer)\n",
    "    try {\n",
    "        event.waitForComplete.blockingAwait\n",
    "    } finally {\n",
    "        event.close()\n",
    "    }\n",
    "}"
   ]
  },
  {
   "cell_type": "code",
   "execution_count": 84,
   "metadata": {
    "collapsed": true
   },
   "outputs": [],
   "source": [
    "readOutputLabelBuffer()"
   ]
  },
  {
   "cell_type": "code",
   "execution_count": 85,
   "metadata": {
    "scrolled": true
   },
   "outputs": [
    {
     "name": "stdout",
     "output_type": "stream",
     "text": [
      "6\n",
      "6\n",
      "6\n",
      "6\n",
      "6\n",
      "6\n",
      "6\n",
      "6\n",
      "6\n",
      "6\n",
      "6\n",
      "6\n",
      "6\n",
      "6\n",
      "6\n",
      "6\n",
      "6\n",
      "6\n",
      "6\n",
      "6\n",
      "6\n",
      "6\n",
      "6\n",
      "6\n",
      "6\n",
      "6\n",
      "6\n",
      "6\n",
      "6\n",
      "6\n",
      "6\n",
      "6\n",
      "6\n",
      "6\n",
      "6\n",
      "6\n",
      "6\n",
      "6\n",
      "6\n",
      "6\n",
      "6\n",
      "6\n",
      "6\n",
      "6\n",
      "6\n",
      "6\n",
      "6\n",
      "6\n",
      "6\n",
      "6\n",
      "6\n",
      "6\n",
      "6\n",
      "6\n",
      "6\n",
      "6\n",
      "6\n",
      "6\n",
      "6\n",
      "6\n",
      "6\n",
      "6\n",
      "6\n",
      "6\n",
      "6\n",
      "6\n",
      "6\n",
      "6\n",
      "6\n",
      "6\n",
      "6\n",
      "6\n",
      "6\n",
      "6\n",
      "6\n",
      "6\n",
      "6\n",
      "6\n",
      "6\n",
      "6\n",
      "6\n",
      "6\n",
      "6\n",
      "6\n",
      "6\n",
      "6\n",
      "6\n",
      "6\n",
      "6\n",
      "6\n",
      "6\n",
      "6\n",
      "6\n",
      "6\n",
      "6\n",
      "6\n",
      "6\n",
      "6\n",
      "6\n",
      "6\n",
      "6\n",
      "6\n",
      "6\n",
      "6\n",
      "6\n",
      "6\n",
      "6\n",
      "6\n",
      "6\n",
      "6\n",
      "6\n",
      "6\n",
      "6\n",
      "6\n",
      "6\n",
      "6\n",
      "6\n",
      "6\n",
      "6\n",
      "6\n",
      "6\n",
      "6\n",
      "6\n",
      "6\n",
      "6\n",
      "6\n",
      "6\n",
      "6\n"
     ]
    }
   ],
   "source": [
    "(0 until outputLabelHostBuffer.remaining).map(outputLabelHostBuffer.get).foreach(println)"
   ]
  },
  {
   "cell_type": "code",
   "execution_count": 86,
   "metadata": {},
   "outputs": [
    {
     "name": "stdout",
     "output_type": "stream",
     "text": [
      "1.1100658\n"
     ]
    }
   ],
   "source": [
    "println(meanLoss)"
   ]
  },
  {
   "cell_type": "code",
   "execution_count": 86,
   "metadata": {
    "collapsed": true
   },
   "outputs": [],
   "source": [
    "\n",
    "\n",
    "// readDataBuffer()"
   ]
  },
  {
   "cell_type": "code",
   "execution_count": 86,
   "metadata": {
    "collapsed": true
   },
   "outputs": [],
   "source": [
    "// readDataBuffer()\n",
    "// val start = (3 * BatchSize + 1) * Width * Height\n",
    "// (start until start + Width * Height).map(dataHostBuffer.get).foreach(println)"
   ]
  },
  {
   "cell_type": "code",
   "execution_count": 86,
   "metadata": {
    "collapsed": true
   },
   "outputs": [],
   "source": [
    "// (3 * BatchSize * Width * Height until 4 * BatchSize * Width * Height).view.map(dataHostBuffer.get).sum"
   ]
  },
  {
   "cell_type": "code",
   "execution_count": 86,
   "metadata": {
    "collapsed": true
   },
   "outputs": [],
   "source": [
    "// val dataHostBuffer = MemoryUtil.memAllocFloat(dataDeviceBuffer.length)\n",
    "\n",
    "// def readDataBuffer() = {\n",
    "//     val event = commandQueue.enqueueReadBuffer(dataDeviceBuffer, dataHostBuffer)\n",
    "//     try {\n",
    "//         event.waitForComplete.blockingAwait\n",
    "//     } finally {\n",
    "//         event.close()\n",
    "//     }\n",
    "// }\n",
    "\n",
    "// readDataBuffer()"
   ]
  },
  {
   "cell_type": "code",
   "execution_count": 97,
   "metadata": {},
   "outputs": [
    {
     "data": {
      "text/plain": [
       "\u001b[36mbackwardKernels\u001b[39m: \u001b[32mSeq\u001b[39m[(\u001b[32mInt\u001b[39m, \u001b[32mOpenCL\u001b[39m.\u001b[32mKernel\u001b[39m)] = \u001b[33mVector\u001b[39m(\n",
       "  (\u001b[32m10\u001b[39m, com.thoughtworks.compute.OpenCL$Kernel@631575f7),\n",
       "  (\u001b[32m9\u001b[39m, com.thoughtworks.compute.OpenCL$Kernel@754acc68),\n",
       "  (\u001b[32m8\u001b[39m, com.thoughtworks.compute.OpenCL$Kernel@7a46cd4c),\n",
       "  (\u001b[32m7\u001b[39m, com.thoughtworks.compute.OpenCL$Kernel@493fb66d),\n",
       "  (\u001b[32m5\u001b[39m, com.thoughtworks.compute.OpenCL$Kernel@14dd870),\n",
       "  (\u001b[32m4\u001b[39m, com.thoughtworks.compute.OpenCL$Kernel@22477dbd),\n",
       "  (\u001b[32m3\u001b[39m, com.thoughtworks.compute.OpenCL$Kernel@6ea7f814),\n",
       "  (\u001b[32m1\u001b[39m, com.thoughtworks.compute.OpenCL$Kernel@5a1fb773),\n",
       "  (\u001b[32m0\u001b[39m, com.thoughtworks.compute.OpenCL$Kernel@35fe7a18)\n",
       ")"
      ]
     },
     "execution_count": 97,
     "metadata": {},
     "output_type": "execute_result"
    }
   ],
   "source": [
    "// TODO: wipe out input delta\n",
    "val backwardKernels = fibersByInputCellIndex.toSeq.sortBy(_._1)(Ordering.Int.reverse).map {\n",
    "    case (inputCellIndex, fibers) =>\n",
    "        val backwardKernel = program.createKernel(\"backward\")\n",
    "        // TODO: clean\n",
    "        backwardKernel.setArg(0, deltaDeviceBuffer)\n",
    "        backwardKernel.setArg(1, weightDeviceBuffer)\n",
    "        backwardKernel.setArg(2, Address(inputCellIndex))\n",
    "        backwardKernel.setArg(3, Address(fibers.length))\n",
    "        assert(fibers.nonEmpty)\n",
    "\n",
    "        val fiberHostBuffer = MemoryUtil.memAllocShort(fibers.length * 4)\n",
    "        val plainFiberDeviceBuffer = try {\n",
    "            for (pair <- fibers) {\n",
    "                val (fiber, weightIndex) = pair\n",
    "                fiberHostBuffer.put((-fiber.offsetX).toShort)\n",
    "                fiberHostBuffer.put((-fiber.offsetY).toShort)\n",
    "                fiberHostBuffer.put(fiber.outputCellIndex.toShort)\n",
    "                fiberHostBuffer.put(weightIndex.toShort)\n",
    "            }\n",
    "            fiberHostBuffer.position(0)\n",
    "            context.createBufferFrom[Short, java.nio.ShortBuffer](fiberHostBuffer)\n",
    "        } finally {\n",
    "            MemoryUtil.memFree(fiberHostBuffer)\n",
    "        }\n",
    "        backwardKernel.setArg(4, plainFiberDeviceBuffer)\n",
    "        inputCellIndex -> backwardKernel\n",
    "}"
   ]
  },
  {
   "cell_type": "code",
   "execution_count": 98,
   "metadata": {
    "scrolled": true
   },
   "outputs": [
    {
     "data": {
      "text/plain": [
       "defined \u001b[32mfunction\u001b[39m \u001b[36mbackward\u001b[39m"
      ]
     },
     "execution_count": 98,
     "metadata": {},
     "output_type": "execute_result"
    }
   ],
   "source": [
    "def backward() = {\n",
    "    for ((_, backwardKernel) <- backwardKernels.reverseIterator) {\n",
    "        val event = commandQueue.enqueueNDRangeKernel(\n",
    "            backwardKernel,\n",
    "            Seq(\n",
    "                GlobalWorkSizeOnlyDimension(Address(BatchSize)),\n",
    "                GlobalWorkSizeOnlyDimension(Address(Width)),\n",
    "                GlobalWorkSizeOnlyDimension(Address(Height))\n",
    "            )\n",
    "        )\n",
    "        try {\n",
    "            event.waitForComplete.blockingAwait\n",
    "        } finally {\n",
    "            event.close()\n",
    "        }\n",
    "    }\n",
    "}"
   ]
  },
  {
   "cell_type": "code",
   "execution_count": 89,
   "metadata": {},
   "outputs": [],
   "source": [
    "backward()"
   ]
  },
  {
   "cell_type": "code",
   "execution_count": 90,
   "metadata": {
    "scrolled": true
   },
   "outputs": [
    {
     "data": {
      "text/plain": [
       "\u001b[36mupdateBiasKernel\u001b[39m: \u001b[32mOpenCL\u001b[39m.\u001b[32mKernel\u001b[39m = com.thoughtworks.compute.OpenCL$Kernel@5efe1880"
      ]
     },
     "execution_count": 90,
     "metadata": {},
     "output_type": "execute_result"
    }
   ],
   "source": [
    "val updateBiasKernel = program.createKernel(\"update_bias\")\n",
    "updateBiasKernel.setArg(0, deltaDeviceBuffer)\n",
    "updateBiasKernel.setArg(1, biasDeviceBuffer)"
   ]
  },
  {
   "cell_type": "code",
   "execution_count": 91,
   "metadata": {},
   "outputs": [
    {
     "data": {
      "text/plain": [
       "defined \u001b[32mfunction\u001b[39m \u001b[36mupdateBias\u001b[39m"
      ]
     },
     "execution_count": 91,
     "metadata": {},
     "output_type": "execute_result"
    }
   ],
   "source": [
    "def updateBias() = {\n",
    "    val event = commandQueue.enqueueNDRangeKernel(\n",
    "        updateBiasKernel,\n",
    "        Seq(GlobalWorkSizeOnlyDimension(Address(NumberOfCells)))\n",
    "    )\n",
    "    try {\n",
    "        event.waitForComplete.blockingAwait\n",
    "    } finally {\n",
    "        event.close()\n",
    "    }    \n",
    "}"
   ]
  },
  {
   "cell_type": "code",
   "execution_count": 92,
   "metadata": {},
   "outputs": [],
   "source": [
    "updateBias()"
   ]
  },
  {
   "cell_type": "code",
   "execution_count": 93,
   "metadata": {},
   "outputs": [
    {
     "data": {
      "text/plain": [
       "\u001b[36mupdateWeightKernel\u001b[39m: \u001b[32mOpenCL\u001b[39m.\u001b[32mKernel\u001b[39m = com.thoughtworks.compute.OpenCL$Kernel@65e39de8"
      ]
     },
     "execution_count": 93,
     "metadata": {},
     "output_type": "execute_result"
    }
   ],
   "source": [
    "val updateWeightKernel = {\n",
    "    val kernel = program.createKernel(\"update_weight\")\n",
    "    kernel.setArg(0, dataDeviceBuffer)\n",
    "    kernel.setArg(1, deltaDeviceBuffer)\n",
    "    kernel.setArg(2, weightDeviceBuffer)\n",
    "    kernel.setArg(3, plainFiberDeviceBuffer)\n",
    "    kernel\n",
    "}"
   ]
  },
  {
   "cell_type": "code",
   "execution_count": 94,
   "metadata": {},
   "outputs": [
    {
     "data": {
      "text/plain": [
       "defined \u001b[32mfunction\u001b[39m \u001b[36mupdateWeight\u001b[39m"
      ]
     },
     "execution_count": 94,
     "metadata": {},
     "output_type": "execute_result"
    }
   ],
   "source": [
    "def updateWeight() = {\n",
    "    val event = commandQueue.enqueueNDRangeKernel(\n",
    "        updateWeightKernel,\n",
    "        Seq(GlobalWorkSizeOnlyDimension(Address(allFibers.length)))\n",
    "    )\n",
    "    try {\n",
    "        event.waitForComplete.blockingAwait\n",
    "    } finally {\n",
    "        event.close()\n",
    "    }    \n",
    "}"
   ]
  },
  {
   "cell_type": "code",
   "execution_count": 95,
   "metadata": {},
   "outputs": [],
   "source": [
    "updateWeight()"
   ]
  },
  {
   "cell_type": "code",
   "execution_count": null,
   "metadata": {
    "collapsed": true
   },
   "outputs": [],
   "source": []
  },
  {
   "cell_type": "markdown",
   "metadata": {},
   "source": [
    "val deltaHostBuffer = MemoryUtil.memAllocFloat(deltaDeviceBuffer.length)\n",
    "\n",
    "def readDeltaBuffer() = {\n",
    "    val event = commandQueue.enqueueReadBuffer(deltaDeviceBuffer, deltaHostBuffer)\n",
    "    try {\n",
    "        event.waitForComplete.blockingAwait\n",
    "    } finally {\n",
    "        event.close()\n",
    "    }\n",
    "}\n",
    "\n",
    "readDeltaBuffer()"
   ]
  },
  {
   "cell_type": "markdown",
   "metadata": {},
   "source": [
    "deltaHostBuffer.get(531140)"
   ]
  },
  {
   "cell_type": "code",
   "execution_count": null,
   "metadata": {},
   "outputs": [
    {
     "name": "stdout",
     "output_type": "stream",
     "text": [
      "2.067789\n",
      "2.0688045\n",
      "2.0687394\n",
      "2.0684013\n",
      "2.0680547\n",
      "2.0676947\n",
      "2.0673347\n",
      "2.066975\n",
      "2.0666175\n",
      "2.06626\n",
      "2.0659034\n",
      "2.0655475\n",
      "2.0651925\n",
      "2.0648382\n",
      "2.0644825\n",
      "2.0641277\n",
      "2.0637736\n",
      "2.0634196\n",
      "2.063066\n",
      "2.0627122\n",
      "2.0623584\n",
      "2.062005\n",
      "2.0616517\n",
      "2.0613012\n",
      "2.0609496\n",
      "2.0605989\n",
      "2.0602467\n",
      "2.0598958\n",
      "2.0595443\n",
      "2.059194\n",
      "2.0588458\n",
      "2.0584977\n",
      "2.0581498\n",
      "2.0578055\n",
      "2.0574594\n",
      "2.0571153\n",
      "2.0567727\n",
      "2.0564284\n",
      "2.0560865\n",
      "2.0557427\n",
      "2.0553994\n",
      "2.0550575\n",
      "2.054715\n",
      "2.054374\n",
      "2.054033\n",
      "2.053694\n",
      "2.0533543\n",
      "2.0530152\n",
      "2.0526776\n",
      "2.0523407\n",
      "2.0520046\n",
      "2.0516691\n",
      "2.051333\n",
      "2.0509996\n",
      "2.0506651\n",
      "2.050332\n",
      "2.05\n",
      "2.0496678\n",
      "2.0493376\n",
      "2.049006\n",
      "2.048674\n",
      "2.0483434\n",
      "2.0480142\n",
      "2.0476842\n",
      "2.047357\n",
      "2.04703\n",
      "2.046704\n",
      "2.0463781\n",
      "2.0460546\n",
      "2.045731\n",
      "2.045407\n",
      "2.045084\n",
      "2.0447617\n",
      "2.04444\n",
      "2.0441191\n",
      "2.043798\n",
      "2.0434766\n",
      "2.0431554\n",
      "2.0428355\n",
      "2.042515\n",
      "2.042195\n",
      "2.0418766\n",
      "2.04156\n",
      "2.0412464\n",
      "2.040933\n",
      "2.0406208\n",
      "2.040309\n",
      "2.0399969\n",
      "2.0396874\n",
      "2.0393777\n",
      "2.0390685\n",
      "2.0387595\n",
      "2.0384517\n",
      "2.0381446\n",
      "2.0378392\n",
      "2.0375338\n",
      "2.037229\n",
      "2.0369265\n",
      "2.0366228\n",
      "2.036323\n",
      "2.0360227\n",
      "2.035726\n",
      "2.0354285\n",
      "2.0351312\n",
      "2.034835\n",
      "2.0345373\n",
      "2.0342398\n",
      "2.0339432\n",
      "2.033647\n",
      "2.0333543\n",
      "2.0330606\n",
      "2.0327678\n",
      "2.032476\n",
      "2.0321844\n",
      "2.0318906\n",
      "2.0315976\n",
      "2.0313046\n",
      "2.031011\n",
      "2.0307188\n",
      "2.0304277\n",
      "2.030137\n",
      "2.0298483\n",
      "2.0295587\n",
      "2.0292706\n",
      "2.0289824\n",
      "2.0286968\n",
      "2.0284135\n",
      "2.028132\n",
      "2.0278518\n",
      "2.0275733\n",
      "2.0272968\n",
      "2.0270195\n",
      "2.0267415\n",
      "2.0264668\n",
      "2.026192\n",
      "2.025918\n",
      "2.025646\n",
      "2.025374\n",
      "2.025103\n",
      "2.024835\n",
      "2.0245683\n",
      "2.024303\n",
      "2.0240388\n",
      "2.0237744\n",
      "2.023512\n",
      "2.0232491\n",
      "2.022987\n",
      "2.0227249\n",
      "2.022464\n",
      "2.0222015\n",
      "2.0219398\n",
      "2.0216806\n",
      "2.0214214\n",
      "2.021166\n",
      "2.0209122\n",
      "2.020656\n",
      "2.0204022\n",
      "2.020147\n",
      "2.0198927\n",
      "2.0196414\n",
      "2.0193906\n",
      "2.0191386\n",
      "2.018889\n",
      "2.018642\n",
      "2.0183935\n",
      "2.018147\n",
      "2.0179\n",
      "2.0176578\n",
      "2.0174153\n",
      "2.0171747\n",
      "2.016934\n",
      "2.0166936\n",
      "2.0164516\n",
      "2.0162103\n",
      "2.015967\n",
      "2.015728\n",
      "2.0154881\n",
      "2.0152478\n",
      "2.0150123\n",
      "2.0147803\n",
      "2.0145466\n",
      "2.0143137\n",
      "2.0140848\n",
      "2.0138562\n",
      "2.0136316\n",
      "2.0134075\n",
      "2.013184\n",
      "2.0129611\n",
      "2.0127406\n",
      "2.012523\n",
      "2.0123067\n",
      "2.0120919\n",
      "2.011877\n",
      "2.0116613\n",
      "2.0114477\n",
      "2.0112338\n",
      "2.011022\n",
      "2.0108142\n",
      "2.0106106\n",
      "2.01041\n",
      "2.0102146\n",
      "2.0100214\n",
      "2.009831\n",
      "2.0096424\n",
      "2.0094562\n",
      "2.0092711\n"
     ]
    }
   ],
   "source": [
    "for (i <- 0 until 1000) {\n",
    "    forward()\n",
    "    trainLoss()\n",
    "    readLossBuffer()\n",
    "    println(meanLoss)\n",
    "    backward()\n",
    "    //updateBias()\n",
    "    updateWeight()\n",
    "}"
   ]
  },
  {
   "cell_type": "code",
   "execution_count": null,
   "metadata": {
    "collapsed": true
   },
   "outputs": [],
   "source": []
  }
 ],
 "metadata": {
  "kernelspec": {
   "display_name": "Scala 2.12.2",
   "language": "scala",
   "name": "scala-2.12.2"
  },
  "language_info": {
   "codemirror_mode": "text/x-scala",
   "file_extension": ".scala",
   "mimetype": "text/x-scala",
   "name": "scala212",
   "nbconvert_exporter": "script",
   "pygments_lexer": "scala",
   "version": "2.12.2"
  }
 },
 "nbformat": 4,
 "nbformat_minor": 2
}
