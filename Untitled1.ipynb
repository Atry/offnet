{
 "cells": [
  {
   "cell_type": "code",
   "execution_count": 1,
   "metadata": {
    "collapsed": false
   },
   "outputs": [
    {
     "data": {
      "text/plain": [
       "\u001b[32mimport \u001b[39m\u001b[36m$ivy.$                      \u001b[39m"
      ]
     },
     "execution_count": 1,
     "metadata": {},
     "output_type": "execute_result"
    }
   ],
   "source": [
    "import $ivy.`org.lwjgl:lwjgl:3.1.2`"
   ]
  },
  {
   "cell_type": "code",
   "execution_count": 2,
   "metadata": {
    "collapsed": false
   },
   "outputs": [
    {
     "data": {
      "text/plain": [
       "\u001b[36mlwjglClassifier\u001b[39m: \u001b[32mString\u001b[39m = \u001b[32m\"natives-macos\"\u001b[39m"
      ]
     },
     "execution_count": 2,
     "metadata": {},
     "output_type": "execute_result"
    }
   ],
   "source": [
    "val lwjglClassifier = if (util.Properties.isMac) {\n",
    "  \"natives-macos\"\n",
    "} else if (util.Properties.osName.startsWith(\"Linux\")) {\n",
    "  \"natives-linux\"\n",
    "} else if (util.Properties.isWin) {\n",
    "  \"natives-windows\"\n",
    "} else {\n",
    "  throw new Exception(s\"lwjgl does not support ${util.Properties.osName}\")\n",
    "}"
   ]
  },
  {
   "cell_type": "code",
   "execution_count": 3,
   "metadata": {
    "collapsed": false
   },
   "outputs": [],
   "source": [
    "interp.load.cp(Seq(\n",
    "ammonite.ops.ImplicitWd.implicitCwd/ammonite.ops.RelPath(\"target/scala-2.12/classes\"),\n",
    "ammonite.ops.ImplicitWd.implicitCwd/ammonite.ops.RelPath(\"RAII.scala/AsynchronousSemaphore/.jvm/target/scala-2.12/classes\"),\n",
    "ammonite.ops.ImplicitWd.implicitCwd/ammonite.ops.RelPath(\"RAII.scala/asynchronous/.jvm/target/scala-2.12/classes\"),\n",
    "ammonite.ops.ImplicitWd.implicitCwd/ammonite.ops.RelPath(\"RAII.scala/shared/.jvm/target/scala-2.12/classes\"),\n",
    "ammonite.ops.ImplicitWd.implicitCwd/ammonite.ops.RelPath(\"RAII.scala/covariant/.jvm/target/scala-2.12/classes\"),\n",
    "ammonite.ops.ImplicitWd.implicitCwd/ammonite.ops.RelPath(\"OpenCL.scala/OpenCLCodeGenerator/target/scala-2.12/classes\"),\n",
    "ammonite.ops.ImplicitWd.implicitCwd/ammonite.ops.RelPath(\"OpenCL.scala/Memory/target/scala-2.12/classes\"),\n",
    "ammonite.ops.ImplicitWd.implicitCwd/ammonite.ops.RelPath(\"OpenCL.scala/OpenCL/target/scala-2.12/classes\"),\n",
    "ammonite.ops.ImplicitWd.implicitCwd/ammonite.ops.RelPath(\"OpenCL.scala/Closeables/target/scala-2.12/classes\"),\n",
    "ammonite.ops.Path.home/ammonite.ops.RelPath(\".ivy2/cache/org.scalaz/scalaz-core_2.12/bundles/scalaz-core_2.12-7.2.14.jar\"),\n",
    "ammonite.ops.Path.home/ammonite.ops.RelPath(\".ivy2/cache/com.thoughtworks.continuation/continuation_2.12/jars/continuation_2.12-1.1.1.jar\"),\n",
    "ammonite.ops.Path.home/ammonite.ops.RelPath(\".ivy2/cache/com.chuusai/shapeless_2.12/bundles/shapeless_2.12-2.3.2.jar\"),\n",
    "ammonite.ops.Path.home/ammonite.ops.RelPath(\".ivy2/cache/org.typelevel/macro-compat_2.12/jars/macro-compat_2.12-1.1.1.jar\"),\n",
    "ammonite.ops.Path.home/ammonite.ops.RelPath(\".ivy2/cache/com.thoughtworks.tryt/covariant_2.12/jars/covariant_2.12-2.0.3.jar\"),\n",
    "ammonite.ops.Path.home/ammonite.ops.RelPath(\".ivy2/cache/com.thoughtworks.future/future_2.12/jars/future_2.12-1.1.1.jar\"),\n",
    "ammonite.ops.Path.home/ammonite.ops.RelPath(s\".ivy2/cache/org.lwjgl/lwjgl/jars/lwjgl-3.1.2-${lwjglClassifier}.jar\"),\n",
    "ammonite.ops.Path.home/ammonite.ops.RelPath(\".ivy2/cache/com.dongxiguo/fastring_2.12/jars/fastring_2.12-0.3.1.jar\"),\n",
    "ammonite.ops.Path.home/ammonite.ops.RelPath(\".ivy2/cache/org.scala-lang/scala-reflect/jars/scala-reflect-2.12.3.jar\"),\n",
    "ammonite.ops.Path.home/ammonite.ops.RelPath(\".ivy2/cache/org.lwjgl/lwjgl-opencl/jars/lwjgl-opencl-3.1.2.jar\"),\n",
    "ammonite.ops.Path.home/ammonite.ops.RelPath(\".ivy2/cache/eu.timepit/refined_2.12/jars/refined_2.12-0.8.2.jar\"),\n",
    "ammonite.ops.Path.home/ammonite.ops.RelPath(\".ivy2/cache/org.scala-lang/scala-compiler/jars/scala-compiler-2.12.3.jar\"),\n",
    "ammonite.ops.Path.home/ammonite.ops.RelPath(\".ivy2/cache/org.scala-lang.modules/scala-xml_2.12/bundles/scala-xml_2.12-1.0.6.jar\"),\n",
    "ammonite.ops.Path.home/ammonite.ops.RelPath(\".ivy2/cache/com.thoughtworks.each/each_2.12/jars/each_2.12-3.3.1.jar\"),\n",
    "ammonite.ops.Path.home/ammonite.ops.RelPath(\".ivy2/cache/com.thoughtworks.sde/core_2.12/jars/core_2.12-3.3.1.jar\"),\n",
    "ammonite.ops.Path.home/ammonite.ops.RelPath(\".ivy2/cache/org.scalaz/scalaz-effect_2.12/bundles/scalaz-effect_2.12-7.2.7.jar\"),\n",
    "ammonite.ops.Path.home/ammonite.ops.RelPath(\".ivy2/cache/com.thoughtworks.sde/comprehension-monad_2.12/jars/comprehension-monad_2.12-3.3.1.jar\")\n",
    "))"
   ]
  },
  {
   "cell_type": "code",
   "execution_count": 4,
   "metadata": {
    "collapsed": false
   },
   "outputs": [
    {
     "data": {
      "text/plain": [
       "\u001b[32mimport \u001b[39m\u001b[36mcom.thoughtworks.continuation._\n",
       "\u001b[39m\n",
       "\u001b[32mimport \u001b[39m\u001b[36mcom.thoughtworks.future._\u001b[39m"
      ]
     },
     "execution_count": 4,
     "metadata": {},
     "output_type": "execute_result"
    }
   ],
   "source": [
    "import com.thoughtworks.continuation._\n",
    "import com.thoughtworks.future._"
   ]
  },
  {
   "cell_type": "code",
   "execution_count": 5,
   "metadata": {
    "collapsed": false
   },
   "outputs": [
    {
     "data": {
      "text/plain": [
       "\u001b[32mimport \u001b[39m\u001b[36mcom.dongxiguo.fastring.Fastring.Implicits._\n",
       "\u001b[39m\n",
       "\u001b[32mimport \u001b[39m\u001b[36mcom.dongxiguo.fastring.Fastring\n",
       "\u001b[39m\n",
       "\u001b[32mimport \u001b[39m\u001b[36meu.timepit.refined.api.Refined\n",
       "\u001b[39m\n",
       "\u001b[32mimport \u001b[39m\u001b[36meu.timepit.refined.numeric.{Negative, Positive}\u001b[39m"
      ]
     },
     "execution_count": 5,
     "metadata": {},
     "output_type": "execute_result"
    }
   ],
   "source": [
    "import com.dongxiguo.fastring.Fastring.Implicits._\n",
    "import com.dongxiguo.fastring.Fastring\n",
    "import eu.timepit.refined.api.Refined\n",
    "import eu.timepit.refined.numeric.{Negative, Positive}"
   ]
  },
  {
   "cell_type": "code",
   "execution_count": 6,
   "metadata": {
    "collapsed": false,
    "scrolled": true
   },
   "outputs": [
    {
     "data": {
      "text/plain": [
       "\u001b[32mimport \u001b[39m\u001b[36morg.lwjgl.opencl._, CL10._, CL12._\n",
       "\u001b[39m\n",
       "\u001b[32mimport \u001b[39m\u001b[36morg.lwjgl.system.MemoryUtil\u001b[39m"
      ]
     },
     "execution_count": 6,
     "metadata": {},
     "output_type": "execute_result"
    }
   ],
   "source": [
    "import org.lwjgl.opencl._, CL10._, CL12._\n",
    "import org.lwjgl.system.MemoryUtil"
   ]
  },
  {
   "cell_type": "code",
   "execution_count": 7,
   "metadata": {
    "collapsed": false
   },
   "outputs": [
    {
     "data": {
      "text/plain": [
       "\u001b[32mimport \u001b[39m\u001b[36mcom.thoughtworks.opencl.OpenCL\n",
       "\u001b[39m\n",
       "\u001b[36mplatform\u001b[39m: \u001b[32mcom\u001b[39m.\u001b[32mthoughtworks\u001b[39m.\u001b[32mopencl\u001b[39m.\u001b[32mOpenCL\u001b[39m.\u001b[32mPlatform\u001b[39m = \u001b[33mPlatform\u001b[39m(\u001b[32m2147418112L\u001b[39m, org.lwjgl.opencl.CLCapabilities@46e23a7e)"
      ]
     },
     "execution_count": 7,
     "metadata": {},
     "output_type": "execute_result"
    }
   ],
   "source": [
    "import com.thoughtworks.opencl.OpenCL\n",
    "val platform = OpenCL.platforms.head"
   ]
  },
  {
   "cell_type": "code",
   "execution_count": 8,
   "metadata": {
    "collapsed": false
   },
   "outputs": [
    {
     "data": {
      "text/plain": [
       "\u001b[36mdevice\u001b[39m: \u001b[32mOpenCL\u001b[39m.\u001b[32mDevice\u001b[39m = \u001b[33mDevice\u001b[39m(\u001b[32m16925952L\u001b[39m, org.lwjgl.opencl.CLCapabilities@6b717b3e)"
      ]
     },
     "execution_count": 8,
     "metadata": {},
     "output_type": "execute_result"
    }
   ],
   "source": [
    "val device = platform.devices.maxBy { device =>\n",
    "  Seq(CL_DEVICE_TYPE_CPU, CL_DEVICE_TYPE_GPU, CL_DEVICE_TYPE_ACCELERATOR).indexOf(device.deviceType)\n",
    "}"
   ]
  },
  {
   "cell_type": "code",
   "execution_count": 9,
   "metadata": {
    "collapsed": false
   },
   "outputs": [
    {
     "data": {
      "text/plain": [
       "\u001b[36mcontext\u001b[39m: \u001b[32mOpenCL\u001b[39m.\u001b[32mContext\u001b[39m = com.thoughtworks.opencl.OpenCL$Context@13d94dd7"
      ]
     },
     "execution_count": 9,
     "metadata": {},
     "output_type": "execute_result"
    }
   ],
   "source": [
    "val context = platform.createContext({ (errorInfo, data) =>\n",
    "  publish.stderr(errorInfo)\n",
    "}, device)"
   ]
  },
  {
   "cell_type": "code",
   "execution_count": 10,
   "metadata": {
    "collapsed": false
   },
   "outputs": [
    {
     "data": {
      "text/plain": [
       "\u001b[36mcommandQueue\u001b[39m: \u001b[32mOpenCL\u001b[39m.\u001b[32mCommandQueue\u001b[39m = com.thoughtworks.opencl.OpenCL$CommandQueue@5ff0c789"
      ]
     },
     "execution_count": 10,
     "metadata": {},
     "output_type": "execute_result"
    }
   ],
   "source": [
    "val commandQueue = context.createCommandQueue(\n",
    "    device,\n",
    "    Map(\n",
    "        CL_QUEUE_PROPERTIES -> (CL_QUEUE_OUT_OF_ORDER_EXEC_MODE_ENABLE & device.queueProperties)\n",
    "    )\n",
    ")"
   ]
  },
  {
   "cell_type": "code",
   "execution_count": 11,
   "metadata": {
    "collapsed": false
   },
   "outputs": [
    {
     "data": {
      "text/plain": [
       "\u001b[36mimages\u001b[39m: \u001b[32mOpenCL\u001b[39m.\u001b[32mImage\u001b[39m = com.thoughtworks.opencl.OpenCL$Image@5655bbc5"
      ]
     },
     "execution_count": 11,
     "metadata": {},
     "output_type": "execute_result"
    }
   ],
   "source": [
    "val images = context.createImage(width = 32, height = 32, arraySize = 2048)"
   ]
  },
  {
   "cell_type": "code",
   "execution_count": 12,
   "metadata": {
    "collapsed": false
   },
   "outputs": [],
   "source": [
    "images.close"
   ]
  },
  {
   "cell_type": "code",
   "execution_count": 13,
   "metadata": {
    "collapsed": false
   },
   "outputs": [
    {
     "data": {
      "text/plain": [
       "defined \u001b[32mclass\u001b[39m \u001b[36mFiber\u001b[39m"
      ]
     },
     "execution_count": 13,
     "metadata": {},
     "output_type": "execute_result"
    }
   ],
   "source": [
    "/**\n",
    "  * @note [[outputCell]] must be greater than [[inputCell]] for now. The limitation will be removed in future version\n",
    "  */\n",
    "final case class Fiber(offsetX: Int, offsetY: Int, inputCell: Int, outputCell: Int)"
   ]
  },
  {
   "cell_type": "markdown",
   "metadata": {},
   "source": [
    "## Test"
   ]
  },
  {
   "cell_type": "code",
   "execution_count": 14,
   "metadata": {
    "collapsed": false
   },
   "outputs": [
    {
     "data": {
      "text/plain": [
       "\u001b[36mNumberOfInputChannels\u001b[39m: \u001b[32mInt\u001b[39m = \u001b[32m3\u001b[39m"
      ]
     },
     "execution_count": 14,
     "metadata": {},
     "output_type": "execute_result"
    }
   ],
   "source": [
    "val NumberOfInputChannels = 3"
   ]
  },
  {
   "cell_type": "code",
   "execution_count": 15,
   "metadata": {
    "collapsed": false
   },
   "outputs": [
    {
     "data": {
      "text/plain": [
       "\u001b[36mWidth\u001b[39m: \u001b[32mInt\u001b[39m = \u001b[32m32\u001b[39m"
      ]
     },
     "execution_count": 15,
     "metadata": {},
     "output_type": "execute_result"
    }
   ],
   "source": [
    "val Width = 32"
   ]
  },
  {
   "cell_type": "code",
   "execution_count": 16,
   "metadata": {
    "collapsed": false
   },
   "outputs": [
    {
     "data": {
      "text/plain": [
       "\u001b[36mHeight\u001b[39m: \u001b[32mInt\u001b[39m = \u001b[32m32\u001b[39m"
      ]
     },
     "execution_count": 16,
     "metadata": {},
     "output_type": "execute_result"
    }
   ],
   "source": [
    "val Height = 32"
   ]
  },
  {
   "cell_type": "code",
   "execution_count": 17,
   "metadata": {
    "collapsed": false
   },
   "outputs": [
    {
     "data": {
      "text/plain": [
       "\u001b[36mBatchSize\u001b[39m: \u001b[32mInt\u001b[39m = \u001b[32m128\u001b[39m"
      ]
     },
     "execution_count": 17,
     "metadata": {},
     "output_type": "execute_result"
    }
   ],
   "source": [
    "val BatchSize = 128"
   ]
  },
  {
   "cell_type": "code",
   "execution_count": 18,
   "metadata": {
    "collapsed": false,
    "scrolled": true
   },
   "outputs": [
    {
     "data": {
      "text/plain": [
       "\u001b[36mNumberOfCells\u001b[39m: \u001b[32mInt\u001b[39m = \u001b[32m6\u001b[39m"
      ]
     },
     "execution_count": 18,
     "metadata": {},
     "output_type": "execute_result"
    }
   ],
   "source": [
    "val NumberOfCells = 6 // Must larger than NumberOfInputChannels + NumberOfClasses"
   ]
  },
  {
   "cell_type": "code",
   "execution_count": 19,
   "metadata": {
    "collapsed": false
   },
   "outputs": [
    {
     "data": {
      "text/plain": [
       "\u001b[36mNumberOfVotesRequiredForLabelClass\u001b[39m: \u001b[32mInt\u001b[39m = \u001b[32m100\u001b[39m"
      ]
     },
     "execution_count": 19,
     "metadata": {},
     "output_type": "execute_result"
    }
   ],
   "source": [
    "val NumberOfVotesRequiredForLabelClass = 100;"
   ]
  },
  {
   "cell_type": "code",
   "execution_count": 20,
   "metadata": {
    "collapsed": false
   },
   "outputs": [
    {
     "data": {
      "text/plain": [
       "\u001b[36mLearningRate\u001b[39m: \u001b[32mDouble\u001b[39m = \u001b[32m0.003\u001b[39m"
      ]
     },
     "execution_count": 20,
     "metadata": {},
     "output_type": "execute_result"
    }
   ],
   "source": [
    "val LearningRate = 0.003"
   ]
  },
  {
   "cell_type": "code",
   "execution_count": 21,
   "metadata": {
    "collapsed": false
   },
   "outputs": [
    {
     "data": {
      "text/plain": [
       "\u001b[36mNumberOfClasses\u001b[39m: \u001b[32mInt\u001b[39m = \u001b[32m2\u001b[39m"
      ]
     },
     "execution_count": 21,
     "metadata": {},
     "output_type": "execute_result"
    }
   ],
   "source": [
    "val NumberOfClasses = 2"
   ]
  },
  {
   "cell_type": "code",
   "execution_count": 22,
   "metadata": {
    "collapsed": false,
    "scrolled": false
   },
   "outputs": [
    {
     "data": {
      "text/plain": [
       "\u001b[36mClasses\u001b[39m: \u001b[32mRange\u001b[39m = \u001b[33mRange\u001b[39m(\u001b[32m4\u001b[39m, \u001b[32m5\u001b[39m)"
      ]
     },
     "execution_count": 22,
     "metadata": {},
     "output_type": "execute_result"
    }
   ],
   "source": [
    "val Classes = (NumberOfCells - NumberOfClasses) until NumberOfCells"
   ]
  },
  {
   "cell_type": "code",
   "execution_count": 23,
   "metadata": {
    "collapsed": false
   },
   "outputs": [
    {
     "data": {
      "text/plain": [
       "\u001b[36mfibers\u001b[39m: \u001b[32mIndexedSeq\u001b[39m[\u001b[32mFiber\u001b[39m] = \u001b[33mVector\u001b[39m(\n",
       "  \u001b[33mFiber\u001b[39m(\u001b[32m1\u001b[39m, \u001b[32m-1\u001b[39m, \u001b[32m0\u001b[39m, \u001b[32m3\u001b[39m),\n",
       "  \u001b[33mFiber\u001b[39m(\u001b[32m-1\u001b[39m, \u001b[32m-1\u001b[39m, \u001b[32m1\u001b[39m, \u001b[32m3\u001b[39m),\n",
       "  \u001b[33mFiber\u001b[39m(\u001b[32m-1\u001b[39m, \u001b[32m1\u001b[39m, \u001b[32m2\u001b[39m, \u001b[32m3\u001b[39m),\n",
       "  \u001b[33mFiber\u001b[39m(\u001b[32m1\u001b[39m, \u001b[32m-1\u001b[39m, \u001b[32m3\u001b[39m, \u001b[32m4\u001b[39m),\n",
       "  \u001b[33mFiber\u001b[39m(\u001b[32m1\u001b[39m, \u001b[32m-1\u001b[39m, \u001b[32m1\u001b[39m, \u001b[32m5\u001b[39m),\n",
       "  \u001b[33mFiber\u001b[39m(\u001b[32m1\u001b[39m, \u001b[32m1\u001b[39m, \u001b[32m4\u001b[39m, \u001b[32m5\u001b[39m)\n",
       ")"
      ]
     },
     "execution_count": 23,
     "metadata": {},
     "output_type": "execute_result"
    }
   ],
   "source": [
    "val fibers: IndexedSeq[Fiber] = IndexedSeq(\n",
    "    Fiber(offsetX =  1, offsetY = -1, inputCell = 0, outputCell = 3),\n",
    "    Fiber(offsetX = -1, offsetY = -1, inputCell = 1, outputCell = 3),\n",
    "    Fiber(offsetX = -1, offsetY =  1, inputCell = 2, outputCell = 3),\n",
    "    Fiber(offsetX =  1, offsetY = -1, inputCell = 3, outputCell = 4),\n",
    "    Fiber(offsetX =  1, offsetY = -1, inputCell = 1, outputCell = 5),\n",
    "    Fiber(offsetX =  1, offsetY =  1, inputCell = 4, outputCell = 5)\n",
    ")"
   ]
  },
  {
   "cell_type": "code",
   "execution_count": 24,
   "metadata": {
    "collapsed": false
   },
   "outputs": [
    {
     "data": {
      "text/plain": [
       "\u001b[36mfibersByOutputCell\u001b[39m: \u001b[32mMap\u001b[39m[\u001b[32mInt\u001b[39m, \u001b[32mcollection\u001b[39m.\u001b[32mSeqView\u001b[39m[(\u001b[32mFiber\u001b[39m, \u001b[32mInt\u001b[39m), \u001b[32mSeq\u001b[39m[\u001b[32m_\u001b[39m]]] = \u001b[33mMap\u001b[39m(\n",
       "  \u001b[32m5\u001b[39m -> \u001b[33mSeqView\u001b[39m((\u001b[33mFiber\u001b[39m(\u001b[32m1\u001b[39m, \u001b[32m-1\u001b[39m, \u001b[32m1\u001b[39m, \u001b[32m5\u001b[39m), \u001b[32m4\u001b[39m), (\u001b[33mFiber\u001b[39m(\u001b[32m1\u001b[39m, \u001b[32m1\u001b[39m, \u001b[32m4\u001b[39m, \u001b[32m5\u001b[39m), \u001b[32m5\u001b[39m)),\n",
       "  \u001b[32m4\u001b[39m -> \u001b[33mSeqView\u001b[39m((\u001b[33mFiber\u001b[39m(\u001b[32m1\u001b[39m, \u001b[32m-1\u001b[39m, \u001b[32m3\u001b[39m, \u001b[32m4\u001b[39m), \u001b[32m3\u001b[39m)),\n",
       "  \u001b[32m3\u001b[39m -> \u001b[33mSeqView\u001b[39m(\n",
       "    (\u001b[33mFiber\u001b[39m(\u001b[32m1\u001b[39m, \u001b[32m-1\u001b[39m, \u001b[32m0\u001b[39m, \u001b[32m3\u001b[39m), \u001b[32m0\u001b[39m),\n",
       "    (\u001b[33mFiber\u001b[39m(\u001b[32m-1\u001b[39m, \u001b[32m-1\u001b[39m, \u001b[32m1\u001b[39m, \u001b[32m3\u001b[39m), \u001b[32m1\u001b[39m),\n",
       "    (\u001b[33mFiber\u001b[39m(\u001b[32m-1\u001b[39m, \u001b[32m1\u001b[39m, \u001b[32m2\u001b[39m, \u001b[32m3\u001b[39m), \u001b[32m2\u001b[39m)\n",
       "  )\n",
       ")"
      ]
     },
     "execution_count": 24,
     "metadata": {},
     "output_type": "execute_result"
    }
   ],
   "source": [
    "val fibersByOutputCell = fibers.view.zipWithIndex.groupBy(_._1.outputCell)"
   ]
  },
  {
   "cell_type": "code",
   "execution_count": 25,
   "metadata": {
    "collapsed": false
   },
   "outputs": [
    {
     "data": {
      "text/plain": [
       "defined \u001b[32mfunction\u001b[39m \u001b[36mforwardCode\u001b[39m"
      ]
     },
     "execution_count": 25,
     "metadata": {},
     "output_type": "execute_result"
    }
   ],
   "source": [
    "def forwardCode = {\n",
    "    def forwardPass = {\n",
    "        def sum(fibers: Seq[(Fiber, Int)]) = {\n",
    "            fibers.zipWithIndex.map {\n",
    "                case ((Fiber(offsetX, offsetY, inputCell, outputCell), weightIndex), weightOffset) =>\n",
    "                    fastraw\"\"\"weight[${weightIndex + weightOffset}] * data[$inputCell * ${Width * Height * BatchSize} + image_index * ${Width * Height} + (y + $offsetY) * ${Width} + x + $offsetX]\"\"\"\n",
    "            }.mkFastring(\" + \")\n",
    "        }\n",
    "        fibersByOutputCell.toArray.sortBy(_._1).map {\n",
    "            case (outputCell, fibers) =>\n",
    "                if (Classes.contains(outputCell)) {\n",
    "                    fastraw\"\"\"\n",
    "                    data[${outputCell * Width * Height * BatchSize} + image_index * ${Width * Height} + y * $Width + x] = ${sum(fibers)} + bias[image_index];\n",
    "                    barrier(CLK_GLOBAL_MEM_FENCE);\n",
    "                    \"\"\"\n",
    "                } else {\n",
    "                    fastraw\"\"\"\n",
    "                    data[${outputCell * Width * Height * BatchSize} + image_index * ${Width * Height} + y * $Width + x] = fmax(${sum(fibers)} + bias[image_index], 0.0f);\n",
    "                    barrier(CLK_GLOBAL_MEM_FENCE);\n",
    "                    \"\"\"\n",
    "                }\n",
    "        }.mkFastring(\"\\n\")\n",
    "    }\n",
    "\n",
    "    fastraw\"\"\"\n",
    "        kernel void forward(global float* data, global float* weight, global float* bias) {\n",
    "            size_t image_index = get_global_id(0);\n",
    "            size_t x = get_global_id(1);\n",
    "            size_t y = get_global_id(2);\n",
    "            $forwardPass\n",
    "        }\n",
    "    \"\"\"\n",
    "}"
   ]
  },
  {
   "cell_type": "code",
   "execution_count": 26,
   "metadata": {
    "collapsed": false
   },
   "outputs": [
    {
     "data": {
      "text/plain": [
       "defined \u001b[32mfunction\u001b[39m \u001b[36mbackwardCode\u001b[39m"
      ]
     },
     "execution_count": 26,
     "metadata": {},
     "output_type": "execute_result"
    }
   ],
   "source": [
    "def backwardCode = {\n",
    "    def backwardPass = {\n",
    "        def sum(fibers: Seq[(Fiber, Int)]) = {\n",
    "            fibers.zipWithIndex.map {\n",
    "                case ((Fiber(offsetX, offsetY, inputCell, outputCell), weightIndex), weightOffset) =>\n",
    "                    fastraw\"\"\"weight[${weightIndex + weightOffset}] * delta[$outputCell * ${Width * Height * BatchSize} + image_index * ${Width * Height} + (y + ${-offsetY}) * ${Width} + x + ${-offsetX}]\"\"\"\n",
    "            }.mkFastring(\" + \")\n",
    "\n",
    "        }\n",
    "        // \n",
    "        fibers.view.zipWithIndex.groupBy(_._1.inputCell).toArray.sortBy(_._1)(Ordering.Int.reverse).map {\n",
    "            case (inputCell, fibers) =>\n",
    "                fastraw\"\"\"\n",
    "                delta[${inputCell * Width * Height * BatchSize} + image_index * ${Width * Height} + y * $Width + x] = ${sum(fibers)};\n",
    "                barrier(CLK_GLOBAL_MEM_FENCE);\n",
    "                \"\"\"\n",
    "        }.mkFastring(\"\\n\")\n",
    "    }\n",
    "    fastraw\"\"\"\n",
    "        kernel void backward(global float* delta, global float* weight) {\n",
    "            size_t image_index = get_global_id(0);\n",
    "            size_t x = get_global_id(1);\n",
    "            size_t y = get_global_id(2);\n",
    "            $backwardPass\n",
    "        }\n",
    "    \"\"\"\n",
    "}"
   ]
  },
  {
   "cell_type": "code",
   "execution_count": 27,
   "metadata": {
    "collapsed": false
   },
   "outputs": [
    {
     "data": {
      "text/plain": [
       "defined \u001b[32mfunction\u001b[39m \u001b[36mupdateBiasCode\u001b[39m"
      ]
     },
     "execution_count": 27,
     "metadata": {},
     "output_type": "execute_result"
    }
   ],
   "source": [
    "def updateBiasCode = {\n",
    "    fastraw\"\"\"\n",
    "        kernel void update_bias(global float* delta, global float* bias) {\n",
    "            size_t cell_index = get_global_id(0);\n",
    "            float accumulator = 0.0;\n",
    "            for (size_t i = 0; i < ${BatchSize * Width * Height}; i++) {\n",
    "                accumulator += delta[cell_index * ${BatchSize * Width * Height} + i];\n",
    "            }\n",
    "            bias[cell_index] = accumulator * $LearningRate;\n",
    "            barrier(CLK_GLOBAL_MEM_FENCE);\n",
    "        }\n",
    "    \"\"\"\n",
    "}"
   ]
  },
  {
   "cell_type": "code",
   "execution_count": 28,
   "metadata": {
    "collapsed": false
   },
   "outputs": [
    {
     "data": {
      "text/plain": [
       "defined \u001b[32mfunction\u001b[39m \u001b[36mupdateWeightCode\u001b[39m"
      ]
     },
     "execution_count": 28,
     "metadata": {},
     "output_type": "execute_result"
    }
   ],
   "source": [
    "def updateWeightCode = {\n",
    "    fastraw\"\"\"\n",
    "        kernel void update_weight(global float* data, global float* delta, global float* weight, global ushort4* fibers) {\n",
    "            size_t i = get_global_id(0);\n",
    "            ushort4 fiber = fibers[i];\n",
    "            size_t offsetX = fiber[0];\n",
    "            size_t offsetY = fiber[1];\n",
    "            size_t input_cell_index = fiber[2];\n",
    "            size_t output_cell_index = fiber[3];\n",
    "            size_t input_cell_start = input_cell_index * ${Width * Height * BatchSize};\n",
    "            size_t output_cell_start = output_cell_index * ${Width * Height * BatchSize};\n",
    "            float weightDelta = 0.0;\n",
    "            for (size_t image_index = 0; image_index < $BatchSize; image_index++) {\n",
    "                size_t input_image_start = input_cell_start + image_index * ${Width * Height};\n",
    "                size_t output_image_start = output_cell_start + image_index * ${Width * Height};\n",
    "                for (size_t inputY = 0; inputY < $Width; inputY++) {\n",
    "                    if (inputY >= offsetY) {\n",
    "                        size_t outputY = inputY - offsetY;\n",
    "                        if (outputY < $Height) {\n",
    "                            size_t input_row_start = input_image_start + inputY * $Width;\n",
    "                            size_t output_row_start = output_image_start + outputY * $Width;\n",
    "                            for (size_t inputX = 0; inputX < $Width; inputX++) {\n",
    "                                if (inputX >= offsetX) {\n",
    "                                    size_t outputX = inputX - offsetX;\n",
    "                                    if (outputX < $Width) {\n",
    "                                        weightDelta += data[input_row_start + inputX] *\n",
    "                                                       delta[output_row_start + outputX];\n",
    "                                    }\n",
    "                                }\n",
    "                            }\n",
    "                        }\n",
    "                    }\n",
    "                }\n",
    "            \n",
    "            }\n",
    "            weight[i] += weightDelta * $LearningRate;\n",
    "            barrier(CLK_GLOBAL_MEM_FENCE);\n",
    "        }\n",
    "    \"\"\"\n",
    "}"
   ]
  },
  {
   "cell_type": "code",
   "execution_count": 29,
   "metadata": {
    "collapsed": false
   },
   "outputs": [
    {
     "data": {
      "text/plain": [
       "defined \u001b[32mfunction\u001b[39m \u001b[36mlossCode\u001b[39m"
      ]
     },
     "execution_count": 29,
     "metadata": {},
     "output_type": "execute_result"
    }
   ],
   "source": [
    "// TODO: fill output_labels and loss\n",
    "\n",
    "def lossCode = {\n",
    "    def incorrectClasses = {\n",
    "        {\n",
    "            for (classIndex <- Classes) yield fastraw\"\"\"\n",
    "                if ($classIndex != label) {\n",
    "                    size_t image_start_$classIndex = ${classIndex * BatchSize * Width * Height} + image_index * ${Width * Height};\n",
    "                    for (size_t xy = 0; xy < ${Width * Height}; xy++) {\n",
    "                        if (score_data[image_start_$classIndex + xy] > 0.0) {\n",
    "                            score_delta[image_start_$classIndex + xy] = -1.0;\n",
    "                        }\n",
    "                    }\n",
    "                }\n",
    "            \"\"\"\n",
    "        }.mkFastring(\"\\n\")\n",
    "    }\n",
    "    def correctClass = {\n",
    "        fastraw\"\"\"\n",
    "            size_t correct_image_start = label * ${BatchSize * Width * Height} + image_index * ${Width * Height};\n",
    "            unsigned short number_of_votes = 0;\n",
    "            for (size_t xy = 0; xy < ${Width * Height}; xy++) {\n",
    "                if (score_data[correct_image_start + xy] >= 2.0) {\n",
    "                    number_of_votes += 1;\n",
    "                }\n",
    "            }\n",
    "            if (number_of_votes < $NumberOfVotesRequiredForLabelClass) {\n",
    "                for (size_t xy = 0; xy < ${Width * Height}; xy++) {\n",
    "                    if (score_data[correct_image_start + xy] < 2.0) {\n",
    "                        score_delta[correct_image_start + xy] = ${(Classes.size - 1) * 0.5};\n",
    "                    }\n",
    "                }\n",
    "            }\n",
    "        \"\"\"\n",
    "    }\n",
    "    fastraw\"\"\"\n",
    "        kernel void loss(global float* score_data,\n",
    "                         global float* score_delta,\n",
    "                         global unsigned char* labels,\n",
    "                         global unsigned char* output_labels,\n",
    "                         global size_t* loss) {\n",
    "            size_t image_index = get_global_id(0);\n",
    "            size_t label = labels[image_index];\n",
    "            $correctClass\n",
    "            $incorrectClasses\n",
    "            barrier(CLK_GLOBAL_MEM_FENCE);\n",
    "        }\n",
    "    \"\"\"\n",
    "}"
   ]
  },
  {
   "cell_type": "code",
   "execution_count": 30,
   "metadata": {
    "collapsed": false,
    "scrolled": true
   },
   "outputs": [
    {
     "data": {
      "text/plain": [
       "\u001b[36mcode\u001b[39m: \u001b[32mFastring\u001b[39m = \u001b[33mcmd29Wrapper.Helper\u001b[39m(\n",
       "  \u001b[32m\"\"\"\n",
       "  \n",
       "    \n",
       "  \"\"\"\u001b[39m,\n",
       "  \u001b[32m\"\"\"\n",
       "  \n",
       "        kernel void forward(global float* data, global float* weight, global float* bias) {  \n",
       "            size_t image_index = get_global_id(0);  \n",
       "            size_t x = get_global_id(1);  \n",
       "            size_t y = get_global_id(2);  \n",
       "\u001b[33m...\u001b[39m\n",
       "\u001b[36mprogram\u001b[39m: \u001b[32mOpenCL\u001b[39m.\u001b[32mProgram\u001b[39m = com.thoughtworks.opencl.OpenCL$Program@360ae1c3"
      ]
     },
     "execution_count": 30,
     "metadata": {},
     "output_type": "execute_result"
    }
   ],
   "source": [
    "val code = fastraw\"\"\"\n",
    "    $forwardCode\n",
    "    $backwardCode\n",
    "    $updateWeightCode\n",
    "    $updateBiasCode\n",
    "    $lossCode\n",
    "\"\"\"\n",
    "val program = context.createProgramWithSource(code)\n",
    "program.build().blockingAwait"
   ]
  },
  {
   "cell_type": "code",
   "execution_count": 31,
   "metadata": {
    "collapsed": false
   },
   "outputs": [
    {
     "data": {
      "text/plain": [
       "\u001b[32mimport \u001b[39m\u001b[36mjava.net.URL\n",
       "\u001b[39m\n",
       "\u001b[32mimport \u001b[39m\u001b[36mjava.io.File\n",
       "\u001b[39m\n",
       "\u001b[32mimport \u001b[39m\u001b[36m$ivy.$                               \n",
       "\u001b[39m\n",
       "\u001b[32mimport \u001b[39m\u001b[36morg.rauschig.jarchivelib.{Archiver, ArchiverFactory}\u001b[39m"
      ]
     },
     "execution_count": 31,
     "metadata": {},
     "output_type": "execute_result"
    }
   ],
   "source": [
    "import java.net.URL\n",
    "import java.io.File\n",
    "import $ivy.`org.rauschig:jarchivelib:0.7.1`\n",
    "import org.rauschig.jarchivelib.{Archiver, ArchiverFactory}"
   ]
  },
  {
   "cell_type": "code",
   "execution_count": 32,
   "metadata": {
    "collapsed": false,
    "scrolled": false
   },
   "outputs": [
    {
     "data": {
      "text/plain": [
       "\u001b[36mCifar10Url\u001b[39m: \u001b[32mURL\u001b[39m = http://www.cs.toronto.edu/~kriz/cifar-10-binary.tar.gz\n",
       "\u001b[36mCifarDirectory\u001b[39m: \u001b[32mFile\u001b[39m = cifar-10-batches-bin"
      ]
     },
     "execution_count": 32,
     "metadata": {},
     "output_type": "execute_result"
    }
   ],
   "source": [
    "val Cifar10Url = new URL(\"http://www.cs.toronto.edu/~kriz/cifar-10-binary.tar.gz\")\n",
    "val CifarDirectory = new File(\"cifar-10-batches-bin\")\n",
    "if (!CifarDirectory.exists) {\n",
    "    import sys.process._\n",
    "    val targzFile = File.createTempFile(\"cifar-10-binary\", \".tar.gz\")\n",
    "    Cifar10Url #> targzFile\n",
    "    val archiver: Archiver = ArchiverFactory.createArchiver(\"tar\", \"gz\")\n",
    "    archiver.extract(targzFile, new File(sys.props(\"user.dir\")))\n",
    "}"
   ]
  },
  {
   "cell_type": "code",
   "execution_count": 33,
   "metadata": {
    "collapsed": false,
    "scrolled": true
   },
   "outputs": [
    {
     "data": {
      "text/plain": [
       "\u001b[36mNumberOfTrainingSamplesPerFile\u001b[39m: \u001b[32mInt\u001b[39m = \u001b[32m10000\u001b[39m\n",
       "\u001b[36mNumberOfTrainingFiles\u001b[39m: \u001b[32mInt\u001b[39m = \u001b[32m5\u001b[39m\n",
       "\u001b[36mNumberOfTrainingSamples\u001b[39m: \u001b[32mInt\u001b[39m = \u001b[32m50000\u001b[39m\n",
       "\u001b[32mimport \u001b[39m\u001b[36mjava.nio.channels.FileChannel\n",
       "\u001b[39m\n",
       "\u001b[32mimport \u001b[39m\u001b[36mjava.nio.file.Paths\n",
       "\u001b[39m\n",
       "\u001b[32mimport \u001b[39m\u001b[36mjava.nio.file.Path\n",
       "\u001b[39m\n",
       "\u001b[32mimport \u001b[39m\u001b[36mjava.nio.file.StandardOpenOption\n",
       "\n",
       "\u001b[39m\n",
       "\u001b[36mtrainingBuffers\u001b[39m: \u001b[32mcollection\u001b[39m.\u001b[32mimmutable\u001b[39m.\u001b[32mIndexedSeq\u001b[39m[\u001b[32mjava\u001b[39m.\u001b[32mnio\u001b[39m.\u001b[32mMappedByteBuffer\u001b[39m] = \u001b[33mVector\u001b[39m(\n",
       "  java.nio.DirectByteBufferR[pos=0 lim=30730000 cap=30730000],\n",
       "  java.nio.DirectByteBufferR[pos=0 lim=30730000 cap=30730000],\n",
       "  java.nio.DirectByteBufferR[pos=0 lim=30730000 cap=30730000],\n",
       "  java.nio.DirectByteBufferR[pos=0 lim=30730000 cap=30730000],\n",
       "  java.nio.DirectByteBufferR[pos=0 lim=30730000 cap=30730000]\n",
       ")\n",
       "\u001b[36mtestBuffer\u001b[39m: \u001b[32mjava\u001b[39m.\u001b[32mnio\u001b[39m.\u001b[32mMappedByteBuffer\u001b[39m = java.nio.DirectByteBufferR[pos=0 lim=30730000 cap=30730000]"
      ]
     },
     "execution_count": 33,
     "metadata": {},
     "output_type": "execute_result"
    }
   ],
   "source": [
    "val NumberOfTrainingSamplesPerFile = 10000\n",
    "val NumberOfTrainingFiles = 5\n",
    "val NumberOfTrainingSamples = NumberOfTrainingFiles * NumberOfTrainingSamplesPerFile\n",
    "\n",
    "import java.nio.channels.FileChannel\n",
    "import java.nio.file.Paths\n",
    "import java.nio.file.Path\n",
    "import java.nio.file.StandardOpenOption\n",
    "\n",
    "val trainingBuffers = for (i <- 1 to NumberOfTrainingFiles) yield {\n",
    "    val batchPath = CifarDirectory.toPath.resolve(s\"data_batch_$i.bin\")\n",
    "    val channel = FileChannel.open(batchPath, StandardOpenOption.READ)\n",
    "    try {\n",
    "        channel.map(FileChannel.MapMode.READ_ONLY, 0L, channel.size)\n",
    "    } finally {\n",
    "        channel.close()\n",
    "    }\n",
    "}\n",
    "\n",
    "val testBuffer = {\n",
    "    val batchPath = CifarDirectory.toPath.resolve(s\"test_batch.bin\")\n",
    "    val channel = FileChannel.open(batchPath, StandardOpenOption.READ)\n",
    "    try {\n",
    "        channel.map(FileChannel.MapMode.READ_ONLY, 0L, channel.size)\n",
    "    } finally {\n",
    "        channel.close()\n",
    "    }\n",
    "}"
   ]
  },
  {
   "cell_type": "code",
   "execution_count": 34,
   "metadata": {
    "collapsed": false
   },
   "outputs": [
    {
     "data": {
      "text/plain": [
       "\u001b[36mdata\u001b[39m: \u001b[32mOpenCL\u001b[39m.\u001b[32mBuffer\u001b[39m[\u001b[32mFloat\u001b[39m] = com.thoughtworks.opencl.OpenCL$Buffer@30ba59ed"
      ]
     },
     "execution_count": 34,
     "metadata": {},
     "output_type": "execute_result"
    }
   ],
   "source": [
    "val data = context.createBuffer[Float](BatchSize * Width * Height * NumberOfCells)"
   ]
  },
  {
   "cell_type": "code",
   "execution_count": 35,
   "metadata": {
    "collapsed": false
   },
   "outputs": [
    {
     "data": {
      "text/plain": [
       "\u001b[36mdelta\u001b[39m: \u001b[32mOpenCL\u001b[39m.\u001b[32mBuffer\u001b[39m[\u001b[32mFloat\u001b[39m] = com.thoughtworks.opencl.OpenCL$Buffer@308c9b2f"
      ]
     },
     "execution_count": 35,
     "metadata": {},
     "output_type": "execute_result"
    }
   ],
   "source": [
    "val delta = context.createBuffer[Float](BatchSize * Width * Height * NumberOfCells)"
   ]
  },
  {
   "cell_type": "code",
   "execution_count": 36,
   "metadata": {
    "collapsed": false
   },
   "outputs": [
    {
     "data": {
      "text/plain": [
       "\u001b[36mbias\u001b[39m: \u001b[32mOpenCL\u001b[39m.\u001b[32mBuffer\u001b[39m[\u001b[32mFloat\u001b[39m] = com.thoughtworks.opencl.OpenCL$Buffer@1910097"
      ]
     },
     "execution_count": 36,
     "metadata": {},
     "output_type": "execute_result"
    }
   ],
   "source": [
    "val bias = context.createBuffer[Float](NumberOfCells)"
   ]
  },
  {
   "cell_type": "code",
   "execution_count": 56,
   "metadata": {
    "collapsed": true
   },
   "outputs": [],
   "source": [
    "{{\n",
    "    val initialBias = MemoryUtil.memAllocFloat(NumberOfCells)\n",
    "    for (i <- 0 until NumberOfCells) {\n",
    "        initialBias.put(i, (util.Random.nextGaussian() * 0.00000001).toFloat)\n",
    "    }\n",
    "    val event = commandQueue.enqueueWriteBuffer(bias, initialBias)\n",
    "    try {\n",
    "        event.waitForComplete.blockingAwait\n",
    "    } finally {\n",
    "        event.close()\n",
    "    }\n",
    "}}"
   ]
  },
  {
   "cell_type": "code",
   "execution_count": 37,
   "metadata": {
    "collapsed": false,
    "scrolled": true
   },
   "outputs": [
    {
     "data": {
      "text/plain": [
       "\u001b[36mweight\u001b[39m: \u001b[32mOpenCL\u001b[39m.\u001b[32mBuffer\u001b[39m[\u001b[32mFloat\u001b[39m] = com.thoughtworks.opencl.OpenCL$Buffer@242f5275"
      ]
     },
     "execution_count": 37,
     "metadata": {},
     "output_type": "execute_result"
    }
   ],
   "source": [
    "val weight = context.createBuffer[Float](fibers.length)"
   ]
  },
  {
   "cell_type": "code",
   "execution_count": 55,
   "metadata": {
    "collapsed": false
   },
   "outputs": [],
   "source": [
    "{{\n",
    "    val initialWeight = MemoryUtil.memAllocFloat(fibers.length)\n",
    "    for ((outputCell, fibers) <- fibersByOutputCell) {\n",
    "        for ((fiber, fiberIndex) <- fibers) {\n",
    "            initialWeight.put(fiberIndex, (util.Random.nextGaussian() / math.sqrt(fibers.length * 0.5)).toFloat)\n",
    "        }\n",
    "    }\n",
    "    val event = commandQueue.enqueueWriteBuffer(weight, initialWeight)\n",
    "    try {\n",
    "        event.waitForComplete.blockingAwait\n",
    "    } finally {\n",
    "        event.close()\n",
    "    }\n",
    "}}"
   ]
  },
  {
   "cell_type": "code",
   "execution_count": 38,
   "metadata": {
    "collapsed": false
   },
   "outputs": [
    {
     "data": {
      "text/plain": [
       "\u001b[36minput\u001b[39m: \u001b[32mOpenCL\u001b[39m.\u001b[32mBuffer\u001b[39m[\u001b[32mFloat\u001b[39m] = com.thoughtworks.opencl.OpenCL$Buffer@4129f816"
      ]
     },
     "execution_count": 38,
     "metadata": {},
     "output_type": "execute_result"
    }
   ],
   "source": [
    "val input = data.view(0, BatchSize * Width * Height * 3)"
   ]
  },
  {
   "cell_type": "code",
   "execution_count": 39,
   "metadata": {
    "collapsed": false
   },
   "outputs": [
    {
     "data": {
      "text/plain": [
       "\u001b[36mscore_data\u001b[39m: \u001b[32mOpenCL\u001b[39m.\u001b[32mBuffer\u001b[39m[\u001b[32mFloat\u001b[39m] = com.thoughtworks.opencl.OpenCL$Buffer@5f3d7506"
      ]
     },
     "execution_count": 39,
     "metadata": {},
     "output_type": "execute_result"
    }
   ],
   "source": [
    "val score_data = data.view(BatchSize * Width * Height * (NumberOfCells - NumberOfClasses), BatchSize * Width * Height * NumberOfClasses)"
   ]
  },
  {
   "cell_type": "code",
   "execution_count": 40,
   "metadata": {
    "collapsed": false
   },
   "outputs": [
    {
     "data": {
      "text/plain": [
       "\u001b[36mscore_delta\u001b[39m: \u001b[32mOpenCL\u001b[39m.\u001b[32mBuffer\u001b[39m[\u001b[32mFloat\u001b[39m] = com.thoughtworks.opencl.OpenCL$Buffer@4a71ecd9"
      ]
     },
     "execution_count": 40,
     "metadata": {},
     "output_type": "execute_result"
    }
   ],
   "source": [
    "val score_delta = delta.view(BatchSize * Width * Height * (NumberOfCells - NumberOfClasses), BatchSize * Width * Height * NumberOfClasses)"
   ]
  },
  {
   "cell_type": "code",
   "execution_count": 41,
   "metadata": {
    "collapsed": false
   },
   "outputs": [
    {
     "data": {
      "text/plain": [
       "\u001b[36mloss\u001b[39m: \u001b[32mOpenCL\u001b[39m.\u001b[32mBuffer\u001b[39m[\u001b[32mFloat\u001b[39m] = com.thoughtworks.opencl.OpenCL$Buffer@430697da"
      ]
     },
     "execution_count": 41,
     "metadata": {},
     "output_type": "execute_result"
    }
   ],
   "source": [
    "val loss = context.createBuffer[Float](BatchSize)"
   ]
  },
  {
   "cell_type": "code",
   "execution_count": 42,
   "metadata": {
    "collapsed": false
   },
   "outputs": [
    {
     "data": {
      "text/plain": [
       "\u001b[36mprediction\u001b[39m: \u001b[32mOpenCL\u001b[39m.\u001b[32mBuffer\u001b[39m[\u001b[32mFloat\u001b[39m] = com.thoughtworks.opencl.OpenCL$Buffer@4282728"
      ]
     },
     "execution_count": 42,
     "metadata": {},
     "output_type": "execute_result"
    }
   ],
   "source": [
    "val prediction = context.createBuffer[Float](BatchSize)"
   ]
  },
  {
   "cell_type": "code",
   "execution_count": 43,
   "metadata": {
    "collapsed": false
   },
   "outputs": [
    {
     "data": {
      "text/plain": [
       "\u001b[36mlabel\u001b[39m: \u001b[32mOpenCL\u001b[39m.\u001b[32mBuffer\u001b[39m[\u001b[32mFloat\u001b[39m] = com.thoughtworks.opencl.OpenCL$Buffer@2dd61682"
      ]
     },
     "execution_count": 43,
     "metadata": {},
     "output_type": "execute_result"
    }
   ],
   "source": [
    "val label = context.createBuffer[Float](BatchSize)"
   ]
  },
  {
   "cell_type": "code",
   "execution_count": 44,
   "metadata": {
    "collapsed": false
   },
   "outputs": [
    {
     "data": {
      "text/plain": [
       "\u001b[36mbatches\u001b[39m: \u001b[32mIterator\u001b[39m[\u001b[32mIndexedSeq\u001b[39m[\u001b[32mInt\u001b[39m]] = non-empty iterator"
      ]
     },
     "execution_count": 44,
     "metadata": {},
     "output_type": "execute_result"
    }
   ],
   "source": [
    "val batches = util.Random.shuffle(0 until NumberOfTrainingSamples: IndexedSeq[Int]).grouped(BatchSize)"
   ]
  },
  {
   "cell_type": "code",
   "execution_count": 45,
   "metadata": {
    "collapsed": false
   },
   "outputs": [
    {
     "data": {
      "text/plain": [
       "\u001b[36mbatch\u001b[39m: \u001b[32mIndexedSeq\u001b[39m[\u001b[32mInt\u001b[39m] = \u001b[33mVector\u001b[39m(\n",
       "  \u001b[32m13098\u001b[39m,\n",
       "  \u001b[32m32577\u001b[39m,\n",
       "  \u001b[32m19130\u001b[39m,\n",
       "  \u001b[32m9617\u001b[39m,\n",
       "  \u001b[32m49941\u001b[39m,\n",
       "  \u001b[32m4538\u001b[39m,\n",
       "  \u001b[32m2542\u001b[39m,\n",
       "  \u001b[32m28644\u001b[39m,\n",
       "  \u001b[32m6352\u001b[39m,\n",
       "  \u001b[32m3629\u001b[39m,\n",
       "  \u001b[32m21357\u001b[39m,\n",
       "\u001b[33m...\u001b[39m"
      ]
     },
     "execution_count": 45,
     "metadata": {},
     "output_type": "execute_result"
    }
   ],
   "source": [
    "val batch = batches.next"
   ]
  },
  {
   "cell_type": "code",
   "execution_count": 46,
   "metadata": {
    "collapsed": false
   },
   "outputs": [
    {
     "data": {
      "text/plain": [
       "\u001b[36minputBuffer\u001b[39m: \u001b[32mjava\u001b[39m.\u001b[32mnio\u001b[39m.\u001b[32mFloatBuffer\u001b[39m = java.nio.DirectFloatBufferU[pos=0 lim=393216 cap=393216]"
      ]
     },
     "execution_count": 46,
     "metadata": {},
     "output_type": "execute_result"
    }
   ],
   "source": [
    "val inputBuffer = MemoryUtil.memAllocFloat(input.length)"
   ]
  },
  {
   "cell_type": "code",
   "execution_count": 47,
   "metadata": {
    "collapsed": false,
    "scrolled": true
   },
   "outputs": [
    {
     "data": {
      "text/plain": [
       "\u001b[36mlabelBuffer\u001b[39m: \u001b[32mjava\u001b[39m.\u001b[32mnio\u001b[39m.\u001b[32mByteBuffer\u001b[39m = java.nio.DirectByteBuffer[pos=0 lim=128 cap=128]"
      ]
     },
     "execution_count": 47,
     "metadata": {},
     "output_type": "execute_result"
    }
   ],
   "source": [
    "val labelBuffer = MemoryUtil.memAlloc(label.length)"
   ]
  },
  {
   "cell_type": "code",
   "execution_count": 48,
   "metadata": {
    "collapsed": false
   },
   "outputs": [
    {
     "data": {
      "text/plain": [
       "\u001b[36mres47\u001b[39m: \u001b[32mjava\u001b[39m.\u001b[32mnio\u001b[39m.\u001b[32mBuffer\u001b[39m = java.nio.DirectFloatBufferU[pos=0 lim=393216 cap=393216]"
      ]
     },
     "execution_count": 48,
     "metadata": {},
     "output_type": "execute_result"
    }
   ],
   "source": [
    "{{\n",
    "    val imageSize = 1 + Width * Height * NumberOfInputChannels\n",
    "    val imageArray = Array.ofDim[Byte](imageSize)\n",
    "    val channelArray = Array.ofDim[Float](Width * Height)\n",
    "    for ((trainingImageIndex, i) <- batch.view.zipWithIndex) {\n",
    "        val trainingBuffer = trainingBuffers(trainingImageIndex / NumberOfTrainingSamplesPerFile)\n",
    "        val imageOffsetInFile = imageSize * (trainingImageIndex % NumberOfTrainingSamplesPerFile)\n",
    "        trainingBuffer.position(imageOffsetInFile)\n",
    "        trainingBuffer.get(imageArray)\n",
    "        labelBuffer.put(i, imageArray(0))\n",
    "        for (channel <- 0 until NumberOfInputChannels) {\n",
    "            for (xy <- 0 until (Width * Height)) {\n",
    "                channelArray(xy) = (imageArray(1 + channel * Width * Height + xy) & 0xFF).toFloat\n",
    "            }\n",
    "            inputBuffer.position((channel * BatchSize + i) * Width * Height)\n",
    "            inputBuffer.put(channelArray)\n",
    "        }\n",
    "\n",
    "    }\n",
    "    inputBuffer.position(0)\n",
    "}}"
   ]
  },
  {
   "cell_type": "code",
   "execution_count": 49,
   "metadata": {
    "collapsed": false,
    "scrolled": true
   },
   "outputs": [
    {
     "data": {
      "text/plain": [
       "defined \u001b[32mfunction\u001b[39m \u001b[36msetInput\u001b[39m"
      ]
     },
     "execution_count": 49,
     "metadata": {},
     "output_type": "execute_result"
    }
   ],
   "source": [
    "def setInput() = {\n",
    "    val event = commandQueue.enqueueWriteBuffer(input, inputBuffer)\n",
    "    try {\n",
    "        event.waitForComplete.blockingAwait\n",
    "    } finally {\n",
    "        event.close()\n",
    "    }\n",
    "}"
   ]
  },
  {
   "cell_type": "code",
   "execution_count": 50,
   "metadata": {
    "collapsed": true
   },
   "outputs": [],
   "source": [
    "setInput()"
   ]
  },
  {
   "cell_type": "code",
   "execution_count": 60,
   "metadata": {
    "collapsed": false,
    "scrolled": true
   },
   "outputs": [
    {
     "data": {
      "text/plain": [
       "\u001b[36mforwardKernel\u001b[39m: \u001b[32mOpenCL\u001b[39m.\u001b[32mKernel\u001b[39m = com.thoughtworks.opencl.OpenCL$Kernel@7945bec4\n",
       "\u001b[32mimport \u001b[39m\u001b[36mcom.thoughtworks.opencl.Memory.Address\n",
       "\u001b[39m\n",
       "\u001b[32mimport \u001b[39m\u001b[36mcom.thoughtworks.opencl.OpenCL.CommandQueue.GlobalWorkSizeOnlyDimension\n",
       "\u001b[39m\n",
       "\u001b[36mres59_6\u001b[39m: \u001b[32mOpenCL\u001b[39m.\u001b[32mEvent\u001b[39m = com.thoughtworks.opencl.OpenCL$Event@335224dd"
      ]
     },
     "execution_count": 60,
     "metadata": {},
     "output_type": "execute_result"
    }
   ],
   "source": [
    "val forwardKernel = program.createKernel(\"forward\")\n",
    "\n",
    "forwardKernel.setArg(0, data)\n",
    "forwardKernel.setArg(1, weight)\n",
    "forwardKernel.setArg(2, bias)\n",
    "import com.thoughtworks.opencl.Memory.Address\n",
    "import com.thoughtworks.opencl.OpenCL.CommandQueue.GlobalWorkSizeOnlyDimension\n",
    "commandQueue.enqueueNDRangeKernel(forwardKernel,\n",
    "                                  Seq(\n",
    "                                      GlobalWorkSizeOnlyDimension(Address(BatchSize)),\n",
    "                                      GlobalWorkSizeOnlyDimension(Address(Width)),\n",
    "                                      GlobalWorkSizeOnlyDimension(Address(Height))\n",
    "                                  ))"
   ]
  },
  {
   "cell_type": "code",
   "execution_count": 52,
   "metadata": {
    "collapsed": false
   },
   "outputs": [
    {
     "name": "stderr",
     "output_type": "stream",
     "text": [
      "[CL_INVALID_VALUE] : OpenCL Error : clGetProgramInfo failed: result buffer (0 bytes) is smaller than the expected size: 48 bytes"
     ]
    },
    {
     "data": {
      "text/plain": [
       "\u001b[36mres51\u001b[39m: \u001b[32mSeq\u001b[39m[\u001b[32mString\u001b[39m] = \u001b[33mArray\u001b[39m(\u001b[32m\"loss\"\u001b[39m, \u001b[32m\"update_weight\"\u001b[39m, \u001b[32m\"forward\"\u001b[39m, \u001b[32m\"backward\"\u001b[39m, \u001b[32m\"update_bias\u0000\"\u001b[39m)"
      ]
     },
     "execution_count": 52,
     "metadata": {},
     "output_type": "execute_result"
    }
   ],
   "source": [
    "program.kernelNames"
   ]
  },
  {
   "cell_type": "code",
   "execution_count": 61,
   "metadata": {
    "collapsed": false,
    "scrolled": true
   },
   "outputs": [
    {
     "data": {
      "text/plain": [
       "\u001b[36mres60\u001b[39m: \u001b[32mInt\u001b[39m = \u001b[32m0\u001b[39m"
      ]
     },
     "execution_count": 61,
     "metadata": {},
     "output_type": "execute_result"
    }
   ],
   "source": [
    "res59_6.commandExecutionStatus"
   ]
  },
  {
   "cell_type": "code",
   "execution_count": 62,
   "metadata": {
    "collapsed": true
   },
   "outputs": [],
   "source": [
    "res59_6.waitForComplete.blockingAwait"
   ]
  },
  {
   "cell_type": "code",
   "execution_count": null,
   "metadata": {
    "collapsed": true
   },
   "outputs": [],
   "source": []
  }
 ],
 "metadata": {
  "kernelspec": {
   "display_name": "Scala 2.12.2",
   "language": "scala",
   "name": "scala-2.12.2"
  },
  "language_info": {
   "codemirror_mode": "text/x-scala",
   "file_extension": ".scala",
   "mimetype": "text/x-scala",
   "name": "scala212",
   "nbconvert_exporter": "script",
   "pygments_lexer": "scala",
   "version": "2.12.2"
  }
 },
 "nbformat": 4,
 "nbformat_minor": 2
}
