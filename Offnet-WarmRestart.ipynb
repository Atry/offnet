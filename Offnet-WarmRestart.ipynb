{
 "cells": [
  {
   "cell_type": "code",
   "execution_count": 1,
   "metadata": {},
   "outputs": [],
   "source": [
    "%load_ext autoreload"
   ]
  },
  {
   "cell_type": "code",
   "execution_count": 2,
   "metadata": {},
   "outputs": [],
   "source": [
    "%autoreload 1"
   ]
  },
  {
   "cell_type": "code",
   "execution_count": 3,
   "metadata": {},
   "outputs": [],
   "source": [
    "%aimport model"
   ]
  },
  {
   "cell_type": "code",
   "execution_count": 4,
   "metadata": {},
   "outputs": [],
   "source": [
    "%aimport skorchsaver"
   ]
  },
  {
   "cell_type": "code",
   "execution_count": 5,
   "metadata": {},
   "outputs": [],
   "source": [
    "import skorch"
   ]
  },
  {
   "cell_type": "code",
   "execution_count": 6,
   "metadata": {},
   "outputs": [],
   "source": [
    "import numpy as np"
   ]
  },
  {
   "cell_type": "code",
   "execution_count": 7,
   "metadata": {},
   "outputs": [],
   "source": [
    "import torch"
   ]
  },
  {
   "cell_type": "code",
   "execution_count": 8,
   "metadata": {},
   "outputs": [],
   "source": [
    "import torchvision.datasets"
   ]
  },
  {
   "cell_type": "code",
   "execution_count": 9,
   "metadata": {},
   "outputs": [
    {
     "data": {
      "text/plain": [
       "True"
      ]
     },
     "execution_count": 9,
     "metadata": {},
     "output_type": "execute_result"
    }
   ],
   "source": [
    "torch.cuda.is_available()"
   ]
  },
  {
   "cell_type": "code",
   "execution_count": 10,
   "metadata": {},
   "outputs": [],
   "source": [
    "!mkdir -p models"
   ]
  },
  {
   "cell_type": "code",
   "execution_count": 11,
   "metadata": {},
   "outputs": [],
   "source": [
    "test_dataset = torchvision.datasets.FashionMNIST(\n",
    "    \"~/torchvision/datasets/FashionMNIST\",\n",
    "    download=True,\n",
    "    train=False,\n",
    "    transform=torchvision.transforms.Compose([\n",
    "        torchvision.transforms.Pad(2),\n",
    "        torchvision.transforms.ToTensor(),\n",
    "        torchvision.transforms.Normalize((0.1307,), (0.3081,)),\n",
    "    ])\n",
    ")"
   ]
  },
  {
   "cell_type": "code",
   "execution_count": 12,
   "metadata": {},
   "outputs": [
    {
     "data": {
      "text/plain": [
       "<class 'skorch.classifier.NeuralNetClassifier'>[initialized](\n",
       "  module_=Offnet(\n",
       "    (sequential): Sequential(\n",
       "      (0): Conv2d(1, 16, kernel_size=(3, 3), stride=(1, 1), padding=(1, 1), bias=False)\n",
       "      (1): OffBlockGroup(\n",
       "        (sequential): Sequential(\n",
       "          (0): OffBlock(\n",
       "            (bn1): BatchNorm2d(16, eps=1e-05, momentum=0.1, affine=True, track_running_stats=True)\n",
       "            (relu1): ReLU(inplace)\n",
       "            (conv1): FakeConv2d(\n",
       "              (deform): Deform2d(\n",
       "                (conv): Conv2d(16, 18, kernel_size=(1, 1), stride=(1, 1))\n",
       "              )\n",
       "              (conv): Conv2d(144, 160, kernel_size=(1, 1), stride=(1, 1), bias=False)\n",
       "            )\n",
       "            (dropout): Dropout(p=0.5)\n",
       "            (bn2): BatchNorm2d(160, eps=1e-05, momentum=0.1, affine=True, track_running_stats=True)\n",
       "            (relu2): ReLU(inplace)\n",
       "            (conv2): FakeConv2d(\n",
       "              (deform): Deform2d(\n",
       "                (conv): Conv2d(160, 18, kernel_size=(1, 1), stride=(1, 1))\n",
       "              )\n",
       "              (conv): Conv2d(1440, 160, kernel_size=(1, 1), stride=(1, 1), bias=False)\n",
       "            )\n",
       "            (conv_transform): Conv2d(16, 160, kernel_size=(1, 1), stride=(1, 1), bias=False)\n",
       "          )\n",
       "          (1): OffBlock(\n",
       "            (bn1): BatchNorm2d(160, eps=1e-05, momentum=0.1, affine=True, track_running_stats=True)\n",
       "            (relu1): ReLU(inplace)\n",
       "            (conv1): FakeConv2d(\n",
       "              (deform): Deform2d(\n",
       "                (conv): Conv2d(160, 18, kernel_size=(1, 1), stride=(1, 1))\n",
       "              )\n",
       "              (conv): Conv2d(1440, 160, kernel_size=(1, 1), stride=(1, 1), bias=False)\n",
       "            )\n",
       "            (dropout): Dropout(p=0.5)\n",
       "            (bn2): BatchNorm2d(160, eps=1e-05, momentum=0.1, affine=True, track_running_stats=True)\n",
       "            (relu2): ReLU(inplace)\n",
       "            (conv2): FakeConv2d(\n",
       "              (deform): Deform2d(\n",
       "                (conv): Conv2d(160, 18, kernel_size=(1, 1), stride=(1, 1))\n",
       "              )\n",
       "              (conv): Conv2d(1440, 160, kernel_size=(1, 1), stride=(1, 1), bias=False)\n",
       "            )\n",
       "          )\n",
       "          (2): OffBlock(\n",
       "            (bn1): BatchNorm2d(160, eps=1e-05, momentum=0.1, affine=True, track_running_stats=True)\n",
       "            (relu1): ReLU(inplace)\n",
       "            (conv1): FakeConv2d(\n",
       "              (deform): Deform2d(\n",
       "                (conv): Conv2d(160, 18, kernel_size=(1, 1), stride=(1, 1))\n",
       "              )\n",
       "              (conv): Conv2d(1440, 160, kernel_size=(1, 1), stride=(1, 1), bias=False)\n",
       "            )\n",
       "            (dropout): Dropout(p=0.5)\n",
       "            (bn2): BatchNorm2d(160, eps=1e-05, momentum=0.1, affine=True, track_running_stats=True)\n",
       "            (relu2): ReLU(inplace)\n",
       "            (conv2): FakeConv2d(\n",
       "              (deform): Deform2d(\n",
       "                (conv): Conv2d(160, 18, kernel_size=(1, 1), stride=(1, 1))\n",
       "              )\n",
       "              (conv): Conv2d(1440, 160, kernel_size=(1, 1), stride=(1, 1), bias=False)\n",
       "            )\n",
       "          )\n",
       "          (3): OffBlock(\n",
       "            (bn1): BatchNorm2d(160, eps=1e-05, momentum=0.1, affine=True, track_running_stats=True)\n",
       "            (relu1): ReLU(inplace)\n",
       "            (conv1): FakeConv2d(\n",
       "              (deform): Deform2d(\n",
       "                (conv): Conv2d(160, 18, kernel_size=(1, 1), stride=(1, 1))\n",
       "              )\n",
       "              (conv): Conv2d(1440, 160, kernel_size=(1, 1), stride=(1, 1), bias=False)\n",
       "            )\n",
       "            (dropout): Dropout(p=0.5)\n",
       "            (bn2): BatchNorm2d(160, eps=1e-05, momentum=0.1, affine=True, track_running_stats=True)\n",
       "            (relu2): ReLU(inplace)\n",
       "            (conv2): FakeConv2d(\n",
       "              (deform): Deform2d(\n",
       "                (conv): Conv2d(160, 18, kernel_size=(1, 1), stride=(1, 1))\n",
       "              )\n",
       "              (conv): Conv2d(1440, 160, kernel_size=(1, 1), stride=(1, 1), bias=False)\n",
       "            )\n",
       "          )\n",
       "        )\n",
       "      )\n",
       "      (2): OffBlockGroup(\n",
       "        (sequential): Sequential(\n",
       "          (0): OffBlock(\n",
       "            (bn1): BatchNorm2d(160, eps=1e-05, momentum=0.1, affine=True, track_running_stats=True)\n",
       "            (relu1): ReLU(inplace)\n",
       "            (conv1): FakeConv2d(\n",
       "              (deform): Deform2d(\n",
       "                (conv): Conv2d(160, 18, kernel_size=(1, 1), stride=(1, 1))\n",
       "              )\n",
       "              (conv): Conv2d(1440, 320, kernel_size=(1, 1), stride=(2, 2), bias=False)\n",
       "            )\n",
       "            (dropout): Dropout(p=0.5)\n",
       "            (bn2): BatchNorm2d(320, eps=1e-05, momentum=0.1, affine=True, track_running_stats=True)\n",
       "            (relu2): ReLU(inplace)\n",
       "            (conv2): FakeConv2d(\n",
       "              (deform): Deform2d(\n",
       "                (conv): Conv2d(320, 18, kernel_size=(1, 1), stride=(1, 1))\n",
       "              )\n",
       "              (conv): Conv2d(2880, 320, kernel_size=(1, 1), stride=(1, 1), bias=False)\n",
       "            )\n",
       "            (conv_transform): Conv2d(160, 320, kernel_size=(1, 1), stride=(2, 2), bias=False)\n",
       "          )\n",
       "          (1): OffBlock(\n",
       "            (bn1): BatchNorm2d(320, eps=1e-05, momentum=0.1, affine=True, track_running_stats=True)\n",
       "            (relu1): ReLU(inplace)\n",
       "            (conv1): FakeConv2d(\n",
       "              (deform): Deform2d(\n",
       "                (conv): Conv2d(320, 18, kernel_size=(1, 1), stride=(1, 1))\n",
       "              )\n",
       "              (conv): Conv2d(2880, 320, kernel_size=(1, 1), stride=(1, 1), bias=False)\n",
       "            )\n",
       "            (dropout): Dropout(p=0.5)\n",
       "            (bn2): BatchNorm2d(320, eps=1e-05, momentum=0.1, affine=True, track_running_stats=True)\n",
       "            (relu2): ReLU(inplace)\n",
       "            (conv2): FakeConv2d(\n",
       "              (deform): Deform2d(\n",
       "                (conv): Conv2d(320, 18, kernel_size=(1, 1), stride=(1, 1))\n",
       "              )\n",
       "              (conv): Conv2d(2880, 320, kernel_size=(1, 1), stride=(1, 1), bias=False)\n",
       "            )\n",
       "          )\n",
       "          (2): OffBlock(\n",
       "            (bn1): BatchNorm2d(320, eps=1e-05, momentum=0.1, affine=True, track_running_stats=True)\n",
       "            (relu1): ReLU(inplace)\n",
       "            (conv1): FakeConv2d(\n",
       "              (deform): Deform2d(\n",
       "                (conv): Conv2d(320, 18, kernel_size=(1, 1), stride=(1, 1))\n",
       "              )\n",
       "              (conv): Conv2d(2880, 320, kernel_size=(1, 1), stride=(1, 1), bias=False)\n",
       "            )\n",
       "            (dropout): Dropout(p=0.5)\n",
       "            (bn2): BatchNorm2d(320, eps=1e-05, momentum=0.1, affine=True, track_running_stats=True)\n",
       "            (relu2): ReLU(inplace)\n",
       "            (conv2): FakeConv2d(\n",
       "              (deform): Deform2d(\n",
       "                (conv): Conv2d(320, 18, kernel_size=(1, 1), stride=(1, 1))\n",
       "              )\n",
       "              (conv): Conv2d(2880, 320, kernel_size=(1, 1), stride=(1, 1), bias=False)\n",
       "            )\n",
       "          )\n",
       "          (3): OffBlock(\n",
       "            (bn1): BatchNorm2d(320, eps=1e-05, momentum=0.1, affine=True, track_running_stats=True)\n",
       "            (relu1): ReLU(inplace)\n",
       "            (conv1): FakeConv2d(\n",
       "              (deform): Deform2d(\n",
       "                (conv): Conv2d(320, 18, kernel_size=(1, 1), stride=(1, 1))\n",
       "              )\n",
       "              (conv): Conv2d(2880, 320, kernel_size=(1, 1), stride=(1, 1), bias=False)\n",
       "            )\n",
       "            (dropout): Dropout(p=0.5)\n",
       "            (bn2): BatchNorm2d(320, eps=1e-05, momentum=0.1, affine=True, track_running_stats=True)\n",
       "            (relu2): ReLU(inplace)\n",
       "            (conv2): FakeConv2d(\n",
       "              (deform): Deform2d(\n",
       "                (conv): Conv2d(320, 18, kernel_size=(1, 1), stride=(1, 1))\n",
       "              )\n",
       "              (conv): Conv2d(2880, 320, kernel_size=(1, 1), stride=(1, 1), bias=False)\n",
       "            )\n",
       "          )\n",
       "        )\n",
       "      )\n",
       "      (3): OffBlockGroup(\n",
       "        (sequential): Sequential(\n",
       "          (0): OffBlock(\n",
       "            (bn1): BatchNorm2d(320, eps=1e-05, momentum=0.1, affine=True, track_running_stats=True)\n",
       "            (relu1): ReLU(inplace)\n",
       "            (conv1): FakeConv2d(\n",
       "              (deform): Deform2d(\n",
       "                (conv): Conv2d(320, 18, kernel_size=(1, 1), stride=(1, 1))\n",
       "              )\n",
       "              (conv): Conv2d(2880, 640, kernel_size=(1, 1), stride=(2, 2), bias=False)\n",
       "            )\n",
       "            (dropout): Dropout(p=0.5)\n",
       "            (bn2): BatchNorm2d(640, eps=1e-05, momentum=0.1, affine=True, track_running_stats=True)\n",
       "            (relu2): ReLU(inplace)\n",
       "            (conv2): FakeConv2d(\n",
       "              (deform): Deform2d(\n",
       "                (conv): Conv2d(640, 18, kernel_size=(1, 1), stride=(1, 1))\n",
       "              )\n",
       "              (conv): Conv2d(5760, 640, kernel_size=(1, 1), stride=(1, 1), bias=False)\n",
       "            )\n",
       "            (conv_transform): Conv2d(320, 640, kernel_size=(1, 1), stride=(2, 2), bias=False)\n",
       "          )\n",
       "          (1): OffBlock(\n",
       "            (bn1): BatchNorm2d(640, eps=1e-05, momentum=0.1, affine=True, track_running_stats=True)\n",
       "            (relu1): ReLU(inplace)\n",
       "            (conv1): FakeConv2d(\n",
       "              (deform): Deform2d(\n",
       "                (conv): Conv2d(640, 18, kernel_size=(1, 1), stride=(1, 1))\n",
       "              )\n",
       "              (conv): Conv2d(5760, 640, kernel_size=(1, 1), stride=(1, 1), bias=False)\n",
       "            )\n",
       "            (dropout): Dropout(p=0.5)\n",
       "            (bn2): BatchNorm2d(640, eps=1e-05, momentum=0.1, affine=True, track_running_stats=True)\n",
       "            (relu2): ReLU(inplace)\n",
       "            (conv2): FakeConv2d(\n",
       "              (deform): Deform2d(\n",
       "                (conv): Conv2d(640, 18, kernel_size=(1, 1), stride=(1, 1))\n",
       "              )\n",
       "              (conv): Conv2d(5760, 640, kernel_size=(1, 1), stride=(1, 1), bias=False)\n",
       "            )\n",
       "          )\n",
       "          (2): OffBlock(\n",
       "            (bn1): BatchNorm2d(640, eps=1e-05, momentum=0.1, affine=True, track_running_stats=True)\n",
       "            (relu1): ReLU(inplace)\n",
       "            (conv1): FakeConv2d(\n",
       "              (deform): Deform2d(\n",
       "                (conv): Conv2d(640, 18, kernel_size=(1, 1), stride=(1, 1))\n",
       "              )\n",
       "              (conv): Conv2d(5760, 640, kernel_size=(1, 1), stride=(1, 1), bias=False)\n",
       "            )\n",
       "            (dropout): Dropout(p=0.5)\n",
       "            (bn2): BatchNorm2d(640, eps=1e-05, momentum=0.1, affine=True, track_running_stats=True)\n",
       "            (relu2): ReLU(inplace)\n",
       "            (conv2): FakeConv2d(\n",
       "              (deform): Deform2d(\n",
       "                (conv): Conv2d(640, 18, kernel_size=(1, 1), stride=(1, 1))\n",
       "              )\n",
       "              (conv): Conv2d(5760, 640, kernel_size=(1, 1), stride=(1, 1), bias=False)\n",
       "            )\n",
       "          )\n",
       "          (3): OffBlock(\n",
       "            (bn1): BatchNorm2d(640, eps=1e-05, momentum=0.1, affine=True, track_running_stats=True)\n",
       "            (relu1): ReLU(inplace)\n",
       "            (conv1): FakeConv2d(\n",
       "              (deform): Deform2d(\n",
       "                (conv): Conv2d(640, 18, kernel_size=(1, 1), stride=(1, 1))\n",
       "              )\n",
       "              (conv): Conv2d(5760, 640, kernel_size=(1, 1), stride=(1, 1), bias=False)\n",
       "            )\n",
       "            (dropout): Dropout(p=0.5)\n",
       "            (bn2): BatchNorm2d(640, eps=1e-05, momentum=0.1, affine=True, track_running_stats=True)\n",
       "            (relu2): ReLU(inplace)\n",
       "            (conv2): FakeConv2d(\n",
       "              (deform): Deform2d(\n",
       "                (conv): Conv2d(640, 18, kernel_size=(1, 1), stride=(1, 1))\n",
       "              )\n",
       "              (conv): Conv2d(5760, 640, kernel_size=(1, 1), stride=(1, 1), bias=False)\n",
       "            )\n",
       "          )\n",
       "        )\n",
       "      )\n",
       "      (4): AvgPool2d(kernel_size=8, stride=8, padding=0)\n",
       "      (5): BatchNorm2d(640, eps=1e-05, momentum=0.1, affine=True, track_running_stats=True)\n",
       "      (6): ReLU(inplace)\n",
       "      (7): LambdaModule()\n",
       "      (8): Linear(in_features=640, out_features=10, bias=True)\n",
       "    )\n",
       "  ),\n",
       ")"
      ]
     },
     "execution_count": 12,
     "metadata": {},
     "output_type": "execute_result"
    }
   ],
   "source": [
    "net = skorch.NeuralNetClassifier(\n",
    "    module=model.Offnet(\n",
    "        \"fashion-mnist\",\n",
    "        input_size=32,\n",
    "        in_channels=1,\n",
    "        classes=10,\n",
    "        total_block_number=12,\n",
    "        widen_factor=10,\n",
    "    ),\n",
    "    criterion=torch.nn.CrossEntropyLoss,\n",
    "    batch_size=40,\n",
    "    max_epochs=10,\n",
    "    optimizer=lambda params, lr: torch.optim.SGD(params, lr=lr, momentum=0.9, nesterov=True),\n",
    "    callbacks=[\n",
    "        ('learning_rate_decay', skorch.callbacks.LRScheduler(\n",
    "            policy=skorch.callbacks.WarmRestartLR,\n",
    "            min_lr=0,\n",
    "            max_lr=0.005,\n",
    "            base_period=10,\n",
    "            period_mult=2,\n",
    "        )),\n",
    "        ('progress_bar', skorch.callbacks.ProgressBar()),\n",
    "        ('checkpoint', skorch.callbacks.Checkpoint(target=\"models/{net.module.name}.WarmRestart.model.pt\", monitor=None)),\n",
    "        ('optimizer_saver', skorchsaver.OptimizerSaver(target=\"models/{net.module.name}.WarmRestart.optimizer.pt\")),\n",
    "        ('history_saver', skorchsaver.HistorySaver(target=\"models/{net.module.name}.WarmRestart.history.json\")),\n",
    "    ],\n",
    "    device='cuda' if torch.cuda.is_available() else 'cpu',\n",
    "    train_split=lambda train_dataset, y: (train_dataset, test_dataset),\n",
    ")\n",
    "net.initialize()"
   ]
  },
  {
   "cell_type": "code",
   "execution_count": 13,
   "metadata": {},
   "outputs": [],
   "source": [
    "import RandomErasing.transforms"
   ]
  },
  {
   "cell_type": "code",
   "execution_count": 14,
   "metadata": {},
   "outputs": [],
   "source": [
    "train_dataset = torchvision.datasets.FashionMNIST(\n",
    "    \"~/torchvision/datasets/FashionMNIST\",\n",
    "    download=True,\n",
    "    train=True,\n",
    "    transform=torchvision.transforms.Compose([\n",
    "        torchvision.transforms.RandomCrop(32, padding=4),\n",
    "        torchvision.transforms.RandomHorizontalFlip(),\n",
    "        torchvision.transforms.ToTensor(),\n",
    "        torchvision.transforms.Normalize((0.1307,), (0.3081,)),\n",
    "        RandomErasing.transforms.RandomErasing(mean=[0.4914]),\n",
    "    ])\n",
    ")"
   ]
  },
  {
   "cell_type": "code",
   "execution_count": null,
   "metadata": {},
   "outputs": [
    {
     "data": {
      "application/vnd.jupyter.widget-view+json": {
       "model_id": "1ca245234918458e839d0105ede3ee47",
       "version_major": 2,
       "version_minor": 0
      },
      "text/plain": [
       "HBox(children=(IntProgress(value=1, bar_style='info', max=1), HTML(value='')))"
      ]
     },
     "metadata": {},
     "output_type": "display_data"
    }
   ],
   "source": [
    "net.fit(train_dataset, None, epochs=320)"
   ]
  },
  {
   "cell_type": "code",
   "execution_count": null,
   "metadata": {},
   "outputs": [],
   "source": [
    "# net.fit_loop(train_dataset, None, epochs=300)"
   ]
  }
 ],
 "metadata": {
  "kernelspec": {
   "display_name": "Python 3",
   "language": "python",
   "name": "python3"
  },
  "language_info": {
   "codemirror_mode": {
    "name": "ipython",
    "version": 3
   },
   "file_extension": ".py",
   "mimetype": "text/x-python",
   "name": "python",
   "nbconvert_exporter": "python",
   "pygments_lexer": "ipython3",
   "version": "3.5.2"
  }
 },
 "nbformat": 4,
 "nbformat_minor": 2
}
