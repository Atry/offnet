{
 "cells": [
  {
   "cell_type": "code",
   "execution_count": 1,
   "metadata": {},
   "outputs": [],
   "source": [
    "import mmh3"
   ]
  },
  {
   "cell_type": "code",
   "execution_count": 2,
   "metadata": {},
   "outputs": [],
   "source": [
    "import functools"
   ]
  },
  {
   "cell_type": "code",
   "execution_count": 3,
   "metadata": {},
   "outputs": [],
   "source": [
    "import iteration_utilities"
   ]
  },
  {
   "cell_type": "code",
   "execution_count": 4,
   "metadata": {},
   "outputs": [],
   "source": [
    "import random"
   ]
  },
  {
   "cell_type": "code",
   "execution_count": 5,
   "metadata": {},
   "outputs": [],
   "source": [
    "import numpy as np"
   ]
  },
  {
   "cell_type": "code",
   "execution_count": 6,
   "metadata": {},
   "outputs": [],
   "source": [
    "import math"
   ]
  },
  {
   "cell_type": "code",
   "execution_count": 7,
   "metadata": {
    "scrolled": true
   },
   "outputs": [],
   "source": [
    "import tensorflow as tf"
   ]
  },
  {
   "cell_type": "code",
   "execution_count": 8,
   "metadata": {},
   "outputs": [],
   "source": [
    "from tensorflow.python import debug as tf_debug"
   ]
  },
  {
   "cell_type": "code",
   "execution_count": 9,
   "metadata": {},
   "outputs": [],
   "source": [
    "from enum import IntEnum"
   ]
  },
  {
   "cell_type": "code",
   "execution_count": 10,
   "metadata": {
    "scrolled": true
   },
   "outputs": [
    {
     "name": "stdout",
     "output_type": "stream",
     "text": [
      "TensorFlow version: 1.8.0\n"
     ]
    }
   ],
   "source": [
    "print(\"TensorFlow version: {}\".format(tf.VERSION))"
   ]
  },
  {
   "cell_type": "code",
   "execution_count": 11,
   "metadata": {},
   "outputs": [],
   "source": [
    "# (x_train, y_train), (x_test, y_test) = tf.keras.datasets.cifar10.load_data()\n",
    "training_data, testing_data = tf.keras.datasets.fashion_mnist.load_data()"
   ]
  },
  {
   "cell_type": "code",
   "execution_count": 12,
   "metadata": {},
   "outputs": [],
   "source": [
    "preferred_number_samples_per_layer = 16"
   ]
  },
  {
   "cell_type": "code",
   "execution_count": 13,
   "metadata": {},
   "outputs": [],
   "source": [
    "number_of_classes = np.max(testing_data[1]).__int__() + 1\n",
    "number_of_input_channels = 1"
   ]
  },
  {
   "cell_type": "code",
   "execution_count": 14,
   "metadata": {},
   "outputs": [],
   "source": [
    "number_of_intermediate_layers = 100"
   ]
  },
  {
   "cell_type": "code",
   "execution_count": 15,
   "metadata": {},
   "outputs": [],
   "source": [
    "number_of_computing_layers = number_of_intermediate_layers + number_of_classes"
   ]
  },
  {
   "cell_type": "code",
   "execution_count": 16,
   "metadata": {},
   "outputs": [],
   "source": [
    "number_of_layers = number_of_input_channels + number_of_computing_layers"
   ]
  },
  {
   "cell_type": "code",
   "execution_count": 17,
   "metadata": {},
   "outputs": [],
   "source": [
    "paddings = (0, 0), (2, 2), (2, 2)"
   ]
  },
  {
   "cell_type": "code",
   "execution_count": 18,
   "metadata": {},
   "outputs": [],
   "source": [
    "random_seed = number_of_intermediate_layers"
   ]
  },
  {
   "cell_type": "code",
   "execution_count": 19,
   "metadata": {},
   "outputs": [],
   "source": [
    "weight_scale = 0.9"
   ]
  },
  {
   "cell_type": "code",
   "execution_count": 20,
   "metadata": {},
   "outputs": [],
   "source": [
    "def variables(prefix):\n",
    "    random.seed(mmh3.hash(prefix))\n",
    "    indicies = tuple(\n",
    "        tuple(\n",
    "            source_index for source_index\n",
    "            in range(target_index)\n",
    "            if random.randrange(target_index) < preferred_number_samples_per_layer\n",
    "        ) for target_index\n",
    "        in range(number_of_layers)\n",
    "    )\n",
    "    flatten_source_indicies = tuple(iteration_utilities.flatten(indicies))\n",
    "    lengths = tuple(map(len, indicies))\n",
    "    return (\n",
    "        tf.TensorArray(tf.int32, size=number_of_layers, clear_after_read=False, infer_shape=False).split(\n",
    "            tf.get_variable(\n",
    "                name=f\"{prefix}_source_index\",\n",
    "                initializer=flatten_source_indicies,\n",
    "                dtype=tf.int32,\n",
    "            ),\n",
    "            lengths,\n",
    "        ),\n",
    "        tf.TensorArray(tf.float32, size=number_of_layers, clear_after_read=False, infer_shape=False).split(\n",
    "            tf.get_variable(\n",
    "                name=f\"{prefix}_weight\",\n",
    "                initializer=tf.random_normal_initializer(),\n",
    "                dtype=tf.float32,\n",
    "                shape=(len(flatten_source_indicies), )\n",
    "            ),\n",
    "            lengths,\n",
    "        ),\n",
    "        tf.get_variable(\n",
    "            name=f\"{prefix}_scale\",\n",
    "            initializer=tuple(math.sqrt(weight_scale / (1 + length)) for length in lengths),\n",
    "            dtype=tf.float32,\n",
    "        ),\n",
    "        tf.get_variable(\n",
    "            name=f\"{prefix}_bias\",\n",
    "            initializer=tf.zeros_initializer(),\n",
    "            dtype=tf.float32,\n",
    "            shape=(number_of_layers, ),\n",
    "        ),\n",
    "    )"
   ]
  },
  {
   "cell_type": "code",
   "execution_count": 21,
   "metadata": {},
   "outputs": [],
   "source": [
    "def offset_variables(prefix):\n",
    "    random.seed(mmh3.hash(prefix))\n",
    "    indicies = tuple(\n",
    "        tuple(\n",
    "            source_index for source_index\n",
    "            in range(target_index)\n",
    "            if random.randrange(target_index) < preferred_number_samples_per_layer\n",
    "        ) for target_index\n",
    "        in range(number_of_layers)\n",
    "    )\n",
    "    flatten_source_indicies = tuple(iteration_utilities.flatten(indicies))\n",
    "    lengths = tuple(map(len, indicies))\n",
    "    return (\n",
    "        tf.TensorArray(tf.int32, size=number_of_layers, clear_after_read=False, infer_shape=False).split(\n",
    "            tf.get_variable(\n",
    "                name=f\"{prefix}_source_index\",\n",
    "                initializer=flatten_source_indicies,\n",
    "                dtype=tf.int32,\n",
    "            ),\n",
    "            lengths,\n",
    "        ),\n",
    "        tf.TensorArray(tf.float32, size=number_of_layers, clear_after_read=False, infer_shape=False).split(\n",
    "            tf.get_variable(\n",
    "                name=f\"{prefix}_weight\",\n",
    "                initializer=tf.random_normal_initializer(),\n",
    "                dtype=tf.float32,\n",
    "                shape=(len(flatten_source_indicies), )\n",
    "            ),\n",
    "            lengths,\n",
    "        ),\n",
    "        tf.get_variable(\n",
    "            name=f\"{prefix}_scale\",\n",
    "            initializer=tuple(math.sqrt(1.0 / (length if length != 0 else 1)) for length in lengths),\n",
    "            dtype=tf.float32,\n",
    "        ),\n",
    "        tf.get_variable(\n",
    "            name=f\"{prefix}_bias\",\n",
    "            initializer=tf.random_uniform_initializer(minval=-3.0, maxval=3.0),\n",
    "            dtype=tf.float32,\n",
    "            shape=(number_of_layers, ),\n",
    "        ),\n",
    "    )"
   ]
  },
  {
   "cell_type": "code",
   "execution_count": 22,
   "metadata": {},
   "outputs": [],
   "source": [
    "def grid_sample(images, offset_x, offset_y):\n",
    "    image_shape = tf.shape(images)\n",
    "    current_batch_size = image_shape[0]\n",
    "    width = image_shape[1]\n",
    "    height = image_shape[2]\n",
    "    \n",
    "    def check_width(tensor):\n",
    "        if (tf.test.is_gpu_available()):\n",
    "            return tensor\n",
    "        else:\n",
    "            return tf.maximum(tf.minimum(tensor, width - 1), 0)\n",
    "    \n",
    "    def check_height(tensor):\n",
    "        if (tf.test.is_gpu_available()):\n",
    "            return tensor\n",
    "        else:\n",
    "            return tf.maximum(tf.minimum(tensor, height - 1), 0)\n",
    "    \n",
    "    offset_left = tf.floor(offset_x)\n",
    "    offset_top = tf.floor(offset_y)\n",
    "    tf.assert_equal(tf.shape(offset_left), image_shape)\n",
    "    tf.assert_equal(tf.shape(offset_top), image_shape)\n",
    "\n",
    "    \n",
    "    eps = 1e-7\n",
    "\n",
    "    factor_right = offset_x - offset_left + eps\n",
    "    factor_left = 1.0 + 2.0 * eps - factor_right\n",
    "    factor_bottom = offset_y - offset_top + eps\n",
    "    factor_top = 1.0 + 2.0 * eps - factor_bottom\n",
    "    \n",
    "    image_index, x_index, y_index = tf.meshgrid(\n",
    "        tf.range(current_batch_size, dtype=tf.int32),\n",
    "        tf.range(width, dtype=tf.int32),\n",
    "        tf.range(height, dtype=tf.int32),\n",
    "        indexing='ij',\n",
    "    )\n",
    "    \n",
    "    tf.assert_equal(tf.shape(image_index), image_shape)\n",
    "    tf.assert_equal(tf.shape(x_index), image_shape)\n",
    "    tf.assert_equal(tf.shape(y_index), image_shape)\n",
    "\n",
    "    \n",
    "    left_index = check_width(x_index + tf.cast(offset_left, tf.int32))\n",
    "    top_index = check_height(y_index + tf.cast(offset_top, tf.int32))\n",
    "\n",
    "    right_index = left_index + 1\n",
    "    bottom_index = top_index + 1\n",
    "    \n",
    "    tf.assert_equal(tf.shape(left_index), image_shape)\n",
    "    tf.assert_equal(tf.shape(top_index), image_shape)\n",
    "    tf.assert_equal(tf.shape(right_index), image_shape)\n",
    "    tf.assert_equal(tf.shape(bottom_index), image_shape)    \n",
    "    \n",
    "    tf.assert_rank(left_index, 3)\n",
    "    tf.assert_rank(right_index, 3)\n",
    "    tf.assert_rank(bottom_index, 3)\n",
    "    tf.assert_rank(top_index, 3)\n",
    "    \n",
    "    images_top_left = tf.gather_nd(images, tf.stack((image_index, left_index, top_index), axis=3))\n",
    "    images_top_right = tf.gather_nd(images, tf.stack((image_index, right_index, top_index), axis=3))\n",
    "    images_bottom_left = tf.gather_nd(images, tf.stack((image_index, left_index, bottom_index), axis=3))\n",
    "    images_bottom_right = tf.gather_nd(images, tf.stack((image_index, right_index, bottom_index), axis=3))\n",
    "\n",
    "    tf.assert_rank(images_top_left, 3)\n",
    "    tf.assert_rank(images_top_right, 3)\n",
    "    tf.assert_rank(images_bottom_left, 3)\n",
    "    tf.assert_rank(images_bottom_right, 3)\n",
    "\n",
    "    lerp_top = factor_left * images_top_left + factor_right * images_top_right\n",
    "    lerp_bottom = factor_left * images_bottom_left + factor_right * images_bottom_right\n",
    "    output = factor_top * lerp_top + factor_bottom * lerp_bottom\n",
    "    tf.assert_rank(output, 3)\n",
    "    return output"
   ]
  },
  {
   "cell_type": "code",
   "execution_count": 23,
   "metadata": {
    "scrolled": true
   },
   "outputs": [],
   "source": [
    "def model_fn(features, labels, mode, params, config):\n",
    "    padded_input = tf.pad(tf.cast(features, tf.float32) / 255.0 - 0.5, paddings)\n",
    "    tf.assert_type(padded_input, tf.float32)\n",
    "    offset_x_variables = offset_variables(\"offset_x\")\n",
    "    offset_y_variables = offset_variables(\"offset_y\")\n",
    "    score_variables = variables(\"score\")\n",
    "\n",
    "    def write_layer(previous_layers, i):\n",
    "        def indexed_sum(variables):\n",
    "            \"\"\"\n",
    "            TODO: Add a factor multiplied for entire layer\n",
    "            \"\"\"\n",
    "            \n",
    "            source_index_array, weight_array, scale, bias = variables\n",
    "            return bias[i] + scale[i] * tf.reduce_sum(\n",
    "                previous_layers.gather(source_index_array.read(i)) * functools.reduce(tf.expand_dims, range(1, 4), weight_array.read(i)),\n",
    "                axis=0\n",
    "            )\n",
    "        \n",
    "        layer = grid_sample(\n",
    "            indexed_sum(score_variables),\n",
    "            indexed_sum(offset_x_variables),\n",
    "            indexed_sum(offset_y_variables),\n",
    "        )\n",
    "        return previous_layers.write(i, layer), i + 1\n",
    "\n",
    "    layers, i = tf.while_loop(\n",
    "        lambda layers, i: i < number_of_layers,\n",
    "        write_layer,\n",
    "        (\n",
    "            tf.TensorArray(tf.float32, size=number_of_layers, clear_after_read=False, infer_shape=True).write(\n",
    "                0,\n",
    "                padded_input,\n",
    "            ),\n",
    "            tf.constant(number_of_input_channels),\n",
    "        )\n",
    "    )\n",
    "    tf.assert_equal(i, tf.cast(number_of_layers, tf.int32))\n",
    "\n",
    "    scores_per_pixel = layers.gather(tf.range(number_of_layers - number_of_classes, number_of_layers, dtype=tf.int32))\n",
    "    score_shape = tf.shape(scores_per_pixel)\n",
    "    scores = tf.transpose(scores_per_pixel[:, :, score_shape[2] // 2, score_shape[3] // 2])\n",
    "    probabilities = tf.nn.softmax(logits=scores)\n",
    "    predicted_classes = tf.argmax(scores, 1)\n",
    "    predictions = {\n",
    "        'probabilities' : probabilities,\n",
    "        'scores': scores,\n",
    "        'class': predicted_classes,\n",
    "    }\n",
    "    eval_metric_ops = {\n",
    "        'accuracy': tf.metrics.accuracy(labels=labels, predictions=predicted_classes)\n",
    "    }\n",
    "    loss = tf.losses.softmax_cross_entropy(logits=scores, onehot_labels=tf.one_hot(labels, number_of_classes))\n",
    "    optimizer = tf.train.AdagradOptimizer(learning_rate=0.1)\n",
    "    train_op = optimizer.minimize(loss, global_step=tf.train.get_global_step())\n",
    "    return tf.estimator.EstimatorSpec(\n",
    "        mode=mode,\n",
    "        predictions=predictions,\n",
    "        loss=loss,\n",
    "        train_op=train_op,\n",
    "        eval_metric_ops=eval_metric_ops\n",
    "    )"
   ]
  },
  {
   "cell_type": "code",
   "execution_count": 24,
   "metadata": {},
   "outputs": [],
   "source": [
    "run_config = tf.estimator.RunConfig(\n",
    "    model_dir=f\"models/scaledoffnet{number_of_intermediate_layers}\",\n",
    "    session_config=tf.ConfigProto(\n",
    "        graph_options=tf.GraphOptions(\n",
    "            optimizer_options=tf.OptimizerOptions(\n",
    "                global_jit_level=tf.OptimizerOptions.ON_2,\n",
    "                do_function_inlining=True,\n",
    "                do_constant_folding=True,\n",
    "                do_common_subexpression_elimination=True,\n",
    "            )\n",
    "        )\n",
    "    )\n",
    ")"
   ]
  },
  {
   "cell_type": "code",
   "execution_count": 25,
   "metadata": {},
   "outputs": [
    {
     "name": "stdout",
     "output_type": "stream",
     "text": [
      "INFO:tensorflow:Using config: {'_model_dir': 'models/scaledoffnet100', '_tf_random_seed': None, '_save_summary_steps': 100, '_save_checkpoints_steps': None, '_save_checkpoints_secs': 600, '_session_config': graph_options {\n",
      "  optimizer_options {\n",
      "    do_common_subexpression_elimination: true\n",
      "    do_constant_folding: true\n",
      "    do_function_inlining: true\n",
      "    global_jit_level: ON_2\n",
      "  }\n",
      "}\n",
      ", '_keep_checkpoint_max': 5, '_keep_checkpoint_every_n_hours': 10000, '_log_step_count_steps': 100, '_train_distribute': None, '_service': None, '_cluster_spec': <tensorflow.python.training.server_lib.ClusterSpec object at 0x7f027ecbda90>, '_task_type': 'worker', '_task_id': 0, '_global_id_in_cluster': 0, '_master': '', '_evaluation_master': '', '_is_chief': True, '_num_ps_replicas': 0, '_num_worker_replicas': 1}\n",
      "WARNING:tensorflow:Estimator's model_fn (<function model_fn at 0x7f027ecca488>) includes params argument, but params are not passed to Estimator.\n"
     ]
    }
   ],
   "source": [
    "estimator = tf.estimator.Estimator(model_fn, config=run_config)"
   ]
  },
  {
   "cell_type": "code",
   "execution_count": 26,
   "metadata": {},
   "outputs": [],
   "source": [
    "batch_size = 32"
   ]
  },
  {
   "cell_type": "code",
   "execution_count": 27,
   "metadata": {
    "scrolled": true
   },
   "outputs": [],
   "source": [
    "def training_dataset():\n",
    "    return tf.data.Dataset.from_tensor_slices(training_data).shuffle(1000).repeat().batch(batch_size)"
   ]
  },
  {
   "cell_type": "code",
   "execution_count": 28,
   "metadata": {},
   "outputs": [],
   "source": [
    "def testing_dataset():\n",
    "    return tf.data.Dataset.from_tensor_slices(testing_data).batch(batch_size)"
   ]
  },
  {
   "cell_type": "code",
   "execution_count": 29,
   "metadata": {},
   "outputs": [],
   "source": [
    "# hook = tf_debug.TensorBoardDebugHook(\"localhost:6064\")\n",
    "# estimator.train(training_dataset,hooks=[hook])"
   ]
  },
  {
   "cell_type": "code",
   "execution_count": null,
   "metadata": {
    "scrolled": false
   },
   "outputs": [
    {
     "name": "stdout",
     "output_type": "stream",
     "text": [
      "INFO:tensorflow:Running training and evaluation locally (non-distributed).\n",
      "INFO:tensorflow:Start train and evaluate loop. The evaluate will happen after 600 secs (eval_spec.throttle_secs) or training is finished.\n",
      "INFO:tensorflow:Calling model_fn.\n",
      "INFO:tensorflow:Done calling model_fn.\n",
      "INFO:tensorflow:Create CheckpointSaverHook.\n",
      "INFO:tensorflow:Graph was finalized.\n",
      "INFO:tensorflow:Running local_init_op.\n",
      "INFO:tensorflow:Done running local_init_op.\n",
      "INFO:tensorflow:Saving checkpoints for 1 into models/scaledoffnet100/model.ckpt.\n",
      "INFO:tensorflow:loss = 2.2812638, step = 0\n",
      "INFO:tensorflow:global_step/sec: 2.32625\n",
      "INFO:tensorflow:loss = 1.114233, step = 100 (42.989 sec)\n",
      "INFO:tensorflow:global_step/sec: 2.39775\n",
      "INFO:tensorflow:loss = 0.5948638, step = 200 (41.707 sec)\n",
      "INFO:tensorflow:global_step/sec: 2.31515\n",
      "INFO:tensorflow:loss = 0.8618483, step = 300 (43.193 sec)\n",
      "INFO:tensorflow:global_step/sec: 2.31982\n",
      "INFO:tensorflow:loss = 0.6526444, step = 400 (43.107 sec)\n",
      "INFO:tensorflow:global_step/sec: 2.35541\n",
      "INFO:tensorflow:loss = 0.865546, step = 500 (42.456 sec)\n",
      "INFO:tensorflow:global_step/sec: 2.38331\n",
      "INFO:tensorflow:loss = 0.86704576, step = 600 (41.958 sec)\n",
      "INFO:tensorflow:global_step/sec: 2.37258\n",
      "INFO:tensorflow:loss = 0.687688, step = 700 (42.148 sec)\n"
     ]
    }
   ],
   "source": [
    "tf.estimator.train_and_evaluate(\n",
    "    estimator,\n",
    "    train_spec=tf.estimator.TrainSpec(training_dataset),\n",
    "    eval_spec=tf.estimator.EvalSpec(testing_dataset)\n",
    ")"
   ]
  },
  {
   "cell_type": "code",
   "execution_count": null,
   "metadata": {},
   "outputs": [],
   "source": []
  }
 ],
 "metadata": {
  "kernelspec": {
   "display_name": "Python 3",
   "language": "python",
   "name": "python3"
  },
  "language_info": {
   "codemirror_mode": {
    "name": "ipython",
    "version": 3
   },
   "file_extension": ".py",
   "mimetype": "text/x-python",
   "name": "python",
   "nbconvert_exporter": "python",
   "pygments_lexer": "ipython3",
   "version": "3.6.3"
  }
 },
 "nbformat": 4,
 "nbformat_minor": 2
}
