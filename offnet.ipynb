{
 "cells": [
  {
   "cell_type": "code",
   "execution_count": 1,
   "metadata": {},
   "outputs": [],
   "source": [
    "import functools"
   ]
  },
  {
   "cell_type": "code",
   "execution_count": 2,
   "metadata": {},
   "outputs": [],
   "source": [
    "import numpy as np"
   ]
  },
  {
   "cell_type": "code",
   "execution_count": 3,
   "metadata": {},
   "outputs": [],
   "source": [
    "import math"
   ]
  },
  {
   "cell_type": "code",
   "execution_count": 4,
   "metadata": {
    "scrolled": true
   },
   "outputs": [],
   "source": [
    "import tensorflow as tf"
   ]
  },
  {
   "cell_type": "code",
   "execution_count": 5,
   "metadata": {},
   "outputs": [],
   "source": [
    "from tensorflow.python import debug as tf_debug"
   ]
  },
  {
   "cell_type": "code",
   "execution_count": 6,
   "metadata": {},
   "outputs": [],
   "source": [
    "from enum import IntEnum"
   ]
  },
  {
   "cell_type": "code",
   "execution_count": 7,
   "metadata": {
    "scrolled": false
   },
   "outputs": [
    {
     "name": "stdout",
     "output_type": "stream",
     "text": [
      "TensorFlow version: 1.8.0\n"
     ]
    }
   ],
   "source": [
    "print(\"TensorFlow version: {}\".format(tf.VERSION))"
   ]
  },
  {
   "cell_type": "code",
   "execution_count": 8,
   "metadata": {},
   "outputs": [],
   "source": [
    "# (x_train, y_train), (x_test, y_test) = tf.keras.datasets.cifar10.load_data()\n",
    "training_data, testing_data = tf.keras.datasets.fashion_mnist.load_data()"
   ]
  },
  {
   "cell_type": "code",
   "execution_count": 9,
   "metadata": {},
   "outputs": [],
   "source": [
    "number_of_classes = np.max(testing_data[1]) + 1\n",
    "number_of_input_channels = 1"
   ]
  },
  {
   "cell_type": "code",
   "execution_count": 10,
   "metadata": {},
   "outputs": [],
   "source": [
    "batch_size = 32"
   ]
  },
  {
   "cell_type": "code",
   "execution_count": 11,
   "metadata": {},
   "outputs": [],
   "source": [
    "number_of_layers = 3 # 1000"
   ]
  },
  {
   "cell_type": "code",
   "execution_count": 12,
   "metadata": {},
   "outputs": [],
   "source": [
    "lod_channels = [32, 16, 8]"
   ]
  },
  {
   "cell_type": "code",
   "execution_count": 13,
   "metadata": {},
   "outputs": [],
   "source": [
    "def get_number_of_samples_per_fiber():\n",
    "    return 3"
   ]
  },
  {
   "cell_type": "code",
   "execution_count": 14,
   "metadata": {},
   "outputs": [],
   "source": [
    "OffsetIndex = IntEnum(\"OffsetIndex\", names=[\"OFFSET_X\", \"OFFSET_Y\"], start=0)\n",
    "ChannelIndex = IntEnum(\"ChannelIndex\", names=[\"TARGET_CHANNEL\", \"SOURCE_CHANNEL\"], start=0)"
   ]
  },
  {
   "cell_type": "code",
   "execution_count": 15,
   "metadata": {},
   "outputs": [],
   "source": [
    "root_variable_scope = tf.get_variable_scope()"
   ]
  },
  {
   "cell_type": "code",
   "execution_count": 16,
   "metadata": {},
   "outputs": [],
   "source": [
    "def fiber(number_of_target_channels, number_of_source_channels, source_layer):\n",
    "#     number_of_source_channels = source_layer[3]\n",
    "    def generate_channel_indices():\n",
    "        for target_channel_index in range(number_of_target_channels):\n",
    "            for source_channel_index in range(number_of_source_channels):\n",
    "                number_of_samples_per_fiber = get_number_of_samples_per_fiber()\n",
    "                for fiber_index in range(number_of_samples_per_fiber):\n",
    "                    yield (target_channel_index, source_channel_index)\n",
    "    channel_indices = tf.get_variable(name=\"channel_indices\", initializer=tuple(generate_channel_indices()), trainable=False)\n",
    "    target_channel_indices, source_channel_indices = tf.unstack(channel_indices, axis=1)\n",
    "    number_of_sample_points, number_of_channel_indices = channel_indices.shape\n",
    "    assert number_of_channel_indices == len(ChannelIndex.__members__)\n",
    "    offset_xy = tf.get_variable(name=\"offset_xy\", dtype=tf.float32, shape=(number_of_sample_points, len(OffsetIndex.__members__)))\n",
    "    weight = tf.get_variable(name=\"weight\", dtype=tf.float32, shape=[number_of_sample_points, 1, 1, 1])\n",
    "    return tf.transpose(\n",
    "        tf.unsorted_segment_sum(\n",
    "            weight * tf.contrib.image.translate(\n",
    "                tf.gather(\n",
    "                    tf.transpose(\n",
    "                        source_layer,\n",
    "                        perm=(3, 1, 2, 0)    \n",
    "                    ),\n",
    "                    indices=source_channel_indices\n",
    "                ),\n",
    "                translations=offset_xy\n",
    "            ),\n",
    "            segment_ids=target_channel_indices,\n",
    "            num_segments=number_of_target_channels\n",
    "        ),\n",
    "        perm=(3, 1, 2, 0)  \n",
    "    )"
   ]
  },
  {
   "cell_type": "code",
   "execution_count": 17,
   "metadata": {},
   "outputs": [
    {
     "name": "stdout",
     "output_type": "stream",
     "text": [
      "INFO:tensorflow:Using default config.\n",
      "INFO:tensorflow:Using config: {'_model_dir': 'offnet3', '_tf_random_seed': None, '_save_summary_steps': 100, '_save_checkpoints_steps': None, '_save_checkpoints_secs': 600, '_session_config': None, '_keep_checkpoint_max': 5, '_keep_checkpoint_every_n_hours': 10000, '_log_step_count_steps': 100, '_train_distribute': None, '_service': None, '_cluster_spec': <tensorflow.python.training.server_lib.ClusterSpec object at 0x11d16e4e0>, '_task_type': 'worker', '_task_id': 0, '_global_id_in_cluster': 0, '_master': '', '_evaluation_master': '', '_is_chief': True, '_num_ps_replicas': 0, '_num_worker_replicas': 1}\n",
      "WARNING:tensorflow:Estimator's model_fn (<function model_fn at 0x119cfeea0>) includes params argument, but params are not passed to Estimator.\n"
     ]
    }
   ],
   "source": [
    "def model_fn(features, labels, mode, params, config):\n",
    "    input_shape = features.shape\n",
    "    def lod_size(i):\n",
    "        scale = 2 ** i\n",
    "        return input_shape[1] // tf.Dimension(scale), input_shape[2] // tf.Dimension(scale)\n",
    "\n",
    "    @functools.lru_cache(maxsize=None)\n",
    "    def input_layer(current_lod):\n",
    "        with tf.variable_scope(root_variable_scope), tf.variable_scope(f\"scale_{current_lod}\"), tf.name_scope(f\"scale_{current_lod}/\"):\n",
    "            if current_lod == 0:\n",
    "                return tf.expand_dims(tf.cast(features, tf.float32), axis=3) / 255.0\n",
    "            else:\n",
    "                # Pooling\n",
    "    #             tf.nn.avg_pool(\n",
    "    #                 value=layer(i, lod, current_lod - 1, channel),\n",
    "    #                 ksize=[1, 2, 2, 1],\n",
    "    #                 strides=[1, 1, 1, 1],\n",
    "    #                 padding='SAME'\n",
    "    #             )\n",
    "                return tf.image.resize_bilinear(\n",
    "                    images=input_layer(current_lod - 1),\n",
    "                    size=lod_size(current_lod),\n",
    "                    align_corners=False,\n",
    "                )\n",
    "    @functools.lru_cache(maxsize=None)\n",
    "    def layer(target_layer_index, preferred_lod, current_lod):\n",
    "        \"\"\"Return a list of tensor of shape batch_size ⨉ lod_size(height) ⨉ lod_size(width) ⨉ channel\n",
    "\n",
    "        The list size is sum(lod_channels)\n",
    "        \"\"\"\n",
    "        with tf.variable_scope(root_variable_scope), tf.variable_scope(f\"layer_{target_layer_index}\"), tf.name_scope(f\"layer_{target_layer_index}/\"):\n",
    "            if current_lod == preferred_lod:\n",
    "                number_of_target_channels = lod_channels[preferred_lod]\n",
    "                with tf.variable_scope(f\"lod_{preferred_lod}\"):\n",
    "                    def source_layer_mapper(source_layer_index):\n",
    "                        with tf.variable_scope(f\"weighted_layer_{source_layer_index}\"):\n",
    "                            def source_lod_mapper(source_lod, number_of_source_channels):\n",
    "                                with tf.variable_scope(f\"weighted_lod_{source_lod}\"):\n",
    "                                    return fiber(\n",
    "                                        number_of_target_channels=number_of_target_channels,\n",
    "                                        number_of_source_channels=number_of_source_channels,\n",
    "                                        source_layer=layer(source_layer_index, source_lod, current_lod)\n",
    "                                    )\n",
    "                            return sum(source_lod_mapper(source_lod, number_of_source_channels)\n",
    "                                       for source_lod, number_of_source_channels in enumerate(lod_channels))\n",
    "                    channel_scores = sum(map(source_layer_mapper, range(target_layer_index)))\n",
    "                    bias = tf.get_variable(name=\"bias\", dtype=tf.float32, shape=(1, 1, 1, number_of_target_channels))\n",
    "                    with tf.variable_scope(\"weighted_input\"):\n",
    "                        input_fiber = fiber(number_of_target_channels=number_of_target_channels,\n",
    "                                            number_of_source_channels=number_of_input_channels,\n",
    "                                            source_layer=input_layer(current_lod))\n",
    "                        return bias + input_fiber + channel_scores\n",
    "            elif preferred_lod < current_lod:\n",
    "                # Pooling\n",
    "    #             tf.nn.avg_pool(\n",
    "    #                 value=layer(i, lod, current_lod - 1, channel),\n",
    "    #                 ksize=[1, 2, 2, 1],\n",
    "    #                 strides=[1, 1, 1, 1],\n",
    "    #                 padding='SAME'\n",
    "    #             )\n",
    "                return tf.image.resize_bilinear(\n",
    "                    images=layer(target_layer_index, preferred_lod, current_lod - 1),\n",
    "                    size=lod_size(current_lod),\n",
    "                    align_corners=False,\n",
    "                )\n",
    "            elif preferred_lod > current_lod:\n",
    "                # Unpooling\n",
    "                return tf.image.resize_bilinear(\n",
    "                    images=layer(target_layer_index, preferred_lod, current_lod + 1),\n",
    "                    size=lod_size(current_lod),\n",
    "                    align_corners=False,\n",
    "                )\n",
    "    lowest_lod = len(lod_channels) - 1\n",
    "    scores = tf.nn.xw_plus_b(\n",
    "        x=tf.reduce_mean(layer(number_of_layers - 1, lowest_lod, lowest_lod), axis=(1, 2)),\n",
    "        weights=tf.get_variable(name=\"dense_weight\", dtype=tf.float32, shape=(lod_channels[lowest_lod], number_of_classes)),\n",
    "        biases=tf.get_variable(name=\"dense_bias\", dtype=tf.float32, shape=number_of_classes)\n",
    "    )\n",
    "    probabilities = tf.nn.softmax(logits=scores)\n",
    "    predictions = {\n",
    "        'probabilities' : probabilities,\n",
    "        'scores': scores\n",
    "    }\n",
    "    loss = tf.losses.softmax_cross_entropy(logits=scores, onehot_labels=tf.one_hot(labels, number_of_classes))\n",
    "    optimizer = tf.train.AdagradOptimizer(learning_rate=0.1)\n",
    "    train_op = optimizer.minimize(loss, global_step=tf.train.get_global_step())\n",
    "    return tf.estimator.EstimatorSpec(\n",
    "        mode=mode,\n",
    "        predictions=predictions,\n",
    "        loss=loss,\n",
    "        train_op=train_op\n",
    "    )\n",
    "\n",
    "\n",
    "estimator = tf.estimator.Estimator(model_fn,model_dir=f\"models/offnet{number_of_layers}\")"
   ]
  },
  {
   "cell_type": "code",
   "execution_count": 18,
   "metadata": {
    "scrolled": true
   },
   "outputs": [],
   "source": [
    "def training_dataset():\n",
    "    return tf.data.Dataset.from_tensor_slices(training_data).shuffle(1000).repeat().batch(batch_size)"
   ]
  },
  {
   "cell_type": "code",
   "execution_count": null,
   "metadata": {
    "scrolled": false
   },
   "outputs": [
    {
     "name": "stdout",
     "output_type": "stream",
     "text": [
      "INFO:tensorflow:Calling model_fn.\n"
     ]
    },
    {
     "name": "stderr",
     "output_type": "stream",
     "text": [
      "/Users/twer/workspace/offnet/envs/default/lib/python3.6/site-packages/tensorflow/python/ops/gradients_impl.py:100: UserWarning: Converting sparse IndexedSlices to a dense Tensor of unknown shape. This may consume a large amount of memory.\n",
      "  \"Converting sparse IndexedSlices to a dense Tensor of unknown shape. \"\n"
     ]
    },
    {
     "name": "stdout",
     "output_type": "stream",
     "text": [
      "INFO:tensorflow:Done calling model_fn.\n",
      "INFO:tensorflow:Create CheckpointSaverHook.\n",
      "INFO:tensorflow:Graph was finalized.\n",
      "INFO:tensorflow:Running local_init_op.\n",
      "INFO:tensorflow:Done running local_init_op.\n",
      "INFO:tensorflow:Saving checkpoints for 1 into offnet3/model.ckpt.\n",
      "INFO:tensorflow:loss = 2.4930665, step = 1\n",
      "INFO:tensorflow:Saving checkpoints for 78 into offnet3/model.ckpt.\n",
      "INFO:tensorflow:global_step/sec: 0.128212\n",
      "INFO:tensorflow:loss = 2.1411295, step = 101 (779.959 sec)\n",
      "INFO:tensorflow:Saving checkpoints for 154 into offnet3/model.ckpt.\n",
      "INFO:tensorflow:global_step/sec: 0.129897\n",
      "INFO:tensorflow:loss = 2.1313002, step = 201 (769.843 sec)\n",
      "INFO:tensorflow:Saving checkpoints for 236 into offnet3/model.ckpt.\n",
      "INFO:tensorflow:global_step/sec: 0.131865\n",
      "INFO:tensorflow:loss = 2.0001101, step = 301 (758.353 sec)\n",
      "INFO:tensorflow:Saving checkpoints for 314 into offnet3/model.ckpt.\n",
      "INFO:tensorflow:Saving checkpoints for 383 into offnet3/model.ckpt.\n"
     ]
    }
   ],
   "source": [
    "# hook = tf_debug.TensorBoardDebugHook(\"localhost:6064\")\n",
    "# estimator.train(training_dataset,hooks=[hook])\n",
    "estimator.train(training_dataset)"
   ]
  },
  {
   "cell_type": "code",
   "execution_count": null,
   "metadata": {},
   "outputs": [],
   "source": []
  }
 ],
 "metadata": {
  "kernelspec": {
   "display_name": "Python 3",
   "language": "python",
   "name": "python3"
  },
  "language_info": {
   "codemirror_mode": {
    "name": "ipython",
    "version": 3
   },
   "file_extension": ".py",
   "mimetype": "text/x-python",
   "name": "python",
   "nbconvert_exporter": "python",
   "pygments_lexer": "ipython3",
   "version": "3.6.5"
  }
 },
 "nbformat": 4,
 "nbformat_minor": 2
}
